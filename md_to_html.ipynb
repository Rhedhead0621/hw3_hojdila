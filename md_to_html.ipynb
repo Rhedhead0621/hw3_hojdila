{
 "cells": [
  {
   "cell_type": "markdown",
   "id": "fc5cdd38-bc1d-468c-a1ff-48338995bef0",
   "metadata": {
    "tags": []
   },
   "source": [
    "Need to install markdown:\n",
    "\n",
    "pip install markdown"
   ]
  },
  {
   "cell_type": "code",
   "execution_count": 2,
   "id": "cfbfbe66-b617-4dec-947c-946a87848950",
   "metadata": {},
   "outputs": [],
   "source": [
    "import markdown"
   ]
  },
  {
   "cell_type": "code",
   "execution_count": 8,
   "id": "68181df3-072b-41b8-9a7e-d3b00450b0eb",
   "metadata": {
    "tags": []
   },
   "outputs": [],
   "source": [
    "with open('Welcome_Read_Me_First.md', 'r') as f:\n",
    "    text = f.read()\n",
    "    html = markdown.markdown(text)\n",
    "\n",
    "with open('Welcome_Read_Me_First.html', 'w') as f:\n",
    "    f.write(html)"
   ]
  },
  {
   "cell_type": "markdown",
   "id": "702fbf0a-fa1e-4dba-b98e-8f9f23d750fc",
   "metadata": {},
   "source": [
    "Example from:\n",
    "\n",
    "https://www.digitalocean.com/community/tutorials/how-to-use-python-markdown-to-convert-markdown-text-to-html"
   ]
  },
  {
   "cell_type": "code",
   "execution_count": null,
   "id": "84a0eed4-7b32-460c-a5ea-0dec2aa41be4",
   "metadata": {},
   "outputs": [],
   "source": [
    "import markdown\n",
    "\n",
    "with open('Picnic.md', 'r') as f:\n",
    "    text = f.read()\n",
    "    html = markdown.markdown(text)\n",
    "\n",
    "with open('Picnic.html', 'w') as f:\n",
    "    f.write(html)"
   ]
  }
 ],
 "metadata": {
  "kernelspec": {
   "display_name": "Python [conda env:aap]",
   "language": "python",
   "name": "conda-env-aap-py"
  },
  "language_info": {
   "codemirror_mode": {
    "name": "ipython",
    "version": 3
   },
   "file_extension": ".py",
   "mimetype": "text/x-python",
   "name": "python",
   "nbconvert_exporter": "python",
   "pygments_lexer": "ipython3",
   "version": "3.12.3"
  }
 },
 "nbformat": 4,
 "nbformat_minor": 5
}
