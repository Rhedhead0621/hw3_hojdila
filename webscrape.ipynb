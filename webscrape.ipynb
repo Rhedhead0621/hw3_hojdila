{
 "cells": [
  {
   "cell_type": "code",
   "execution_count": null,
   "id": "c4519948-4f72-4bae-9668-b4c314214af1",
   "metadata": {},
   "outputs": [],
   "source": [
    "# pip install beautifulsoup4"
   ]
  },
  {
   "cell_type": "code",
   "execution_count": null,
   "id": "051d590e-5380-4935-a364-6d4f4b3dbf90",
   "metadata": {
    "tags": []
   },
   "outputs": [],
   "source": [
    "# pip install selenium"
   ]
  },
  {
   "cell_type": "code",
   "execution_count": 8,
   "id": "9d9e4fd1-ce78-4602-ac66-93a354c6dd12",
   "metadata": {
    "tags": []
   },
   "outputs": [],
   "source": [
    "import pandas as pd\n",
    "import re\n",
    "import requests\n",
    "import bs4"
   ]
  },
  {
   "cell_type": "markdown",
   "id": "2fd080ad-ad70-4885-b76a-923a7a5d45b0",
   "metadata": {},
   "source": [
    "**webpage to scrape into text file - so I'm not scraping every time**"
   ]
  },
  {
   "cell_type": "code",
   "execution_count": 42,
   "id": "d42d9dff-c9a7-461d-9154-304d49f8f276",
   "metadata": {
    "tags": []
   },
   "outputs": [],
   "source": [
    "url_CVO_home = 'https://thehub.stellantis.com/home/Company-Vehicle-Operations'\n",
    "\n",
    "text_CVO_home = requests.get(url_CVO_home).text"
   ]
  },
  {
   "cell_type": "markdown",
   "id": "a59ed270-3a6d-4638-ab75-6120f44ab1ba",
   "metadata": {},
   "source": [
    "**save to text file**"
   ]
  },
  {
   "cell_type": "code",
   "execution_count": 45,
   "id": "d1a74123-51b2-4228-a2b3-90ba06df4e50",
   "metadata": {
    "tags": []
   },
   "outputs": [],
   "source": [
    "with open(\"./data/CVO_home.txt\", \"w\", encoding=\"utf-8\") as f:\n",
    "    f.write(text_CVO_home)"
   ]
  },
  {
   "cell_type": "markdown",
   "id": "e3813d1b-18a8-48b0-a453-7c0e7a17f41c",
   "metadata": {},
   "source": [
    "**text does not contain web text - trying selenium**\n",
    "\n",
    "https://selenium-python.readthedocs.io/"
   ]
  },
  {
   "cell_type": "code",
   "execution_count": null,
   "id": "d3678766-616f-4aa5-8cb8-60c352b63c33",
   "metadata": {},
   "outputs": [],
   "source": [
    "# Importing necessary modules\n",
    "from selenium import webdriver\n",
    "from selenium.webdriver.common.by import By\n",
    "import time\n",
    " \n",
    "# WebDriver Chrome\n",
    "driver = webdriver.Chrome()\n",
    " \n",
    "# Target URL\n",
    "driver.get(\"https://www.geeksforgeeks.org/competitive-programming-a-complete-guide/\")\n",
    "# To load entire webpage\n",
    "time.sleep(5)\n",
    " \n",
    "# Printing the whole body text\n",
    "print(driver.find_element(By.XPATH, \"/html/body\").text)\n",
    " \n",
    "# Closing the driver\n",
    "driver.close()"
   ]
  },
  {
   "cell_type": "code",
   "execution_count": null,
   "id": "4d3e1ed3-bcb5-43ca-9d6c-d9cc847c4116",
   "metadata": {},
   "outputs": [],
   "source": [
    "from bs4 import BeautifulSoup\n",
    "from selenium import webdriver\n",
    "from selenium.webdriver.chrome.webdriver import FirefoxBinary\n",
    "\n",
    "url = \"http://radioplayer.magic.co.uk/live/\"\n",
    "browser = webdriver.Firefox(firefox_binary=FirefoxBinary())\n",
    "browser.get(url)\n",
    "soup = BeautifulSoup(browser.page_source, 'html.parser')\n",
    "playlist = soup.find(id='playlist')\n",
    "\n",
    "print playlist.find('span', class_='artist').text\n",
    "print playlist.find('span', class_='title').text"
   ]
  }
 ],
 "metadata": {
  "kernelspec": {
   "display_name": "Python [conda env:aap]",
   "language": "python",
   "name": "conda-env-aap-py"
  },
  "language_info": {
   "codemirror_mode": {
    "name": "ipython",
    "version": 3
   },
   "file_extension": ".py",
   "mimetype": "text/x-python",
   "name": "python",
   "nbconvert_exporter": "python",
   "pygments_lexer": "ipython3",
   "version": "3.12.3"
  }
 },
 "nbformat": 4,
 "nbformat_minor": 5
}
