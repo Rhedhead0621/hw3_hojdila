{
 "cells": [
  {
   "cell_type": "markdown",
   "id": "2f33d1b7-8704-4482-a09e-0ff6be4c1e68",
   "metadata": {},
   "source": [
    "Nice chatbox:\n",
    "\n",
    "https://www.analyticsvidhya.com/blog/2021/07/build-a-simple-chatbot-using-python-and-nltk/"
   ]
  },
  {
   "cell_type": "code",
   "execution_count": 17,
   "id": "3cdb8468-e8ae-42ec-a8e5-c72efe07de22",
   "metadata": {
    "tags": []
   },
   "outputs": [],
   "source": [
    "# GUI with Tkinter - works\n",
    "\n",
    "import tkinter\n",
    "\n",
    "from tkinter import *\n",
    "\n",
    "# Function to send message and get response\n",
    "\n",
    "def send():\n",
    "\n",
    "    msg = EntryBox.get(\"1.0\",'end-1c').strip()\n",
    "\n",
    "    EntryBox.delete(\"0.0\",END)\n",
    "\n",
    "    if msg != '':\n",
    "\n",
    "        ChatLog.config(state=NORMAL)\n",
    "\n",
    "        ChatLog.insert(END, \"You: \" + msg + '\\n\\n')\n",
    "\n",
    "        ChatLog.config(foreground=\"#442265\", font=(\"Verdana\", 12))\n",
    "\n",
    "        res = chatbot_response(msg)\n",
    "\n",
    "        ChatLog.insert(END, \"Bot: \" + res + '\\n\\n')\n",
    "\n",
    "        ChatLog.config(state=DISABLED)\n",
    "\n",
    "        ChatLog.yview(END)\n",
    "\n",
    "# GUI setup\n",
    "\n",
    "base = Tk()\n",
    "\n",
    "base.title(\"Chatbot\")\n",
    "\n",
    "base.geometry(\"400x500\")\n",
    "\n",
    "base.resizable(width=FALSE, height=FALSE)\n",
    "\n",
    "ChatLog = Text(base, bd=0, bg=\"white\", height=\"8\", width=\"50\", font=\"Arial\")\n",
    "\n",
    "ChatLog.config(state=DISABLED)\n",
    "\n",
    "scrollbar = Scrollbar(base, command=ChatLog.yview, cursor=\"heart\")\n",
    "\n",
    "ChatLog['yscrollcommand'] = scrollbar.set\n",
    "\n",
    "SendButton = Button(base, font=(\"Verdana\",12,'bold'), text=\"Send\", width=\"12\", height=5, bd=0, bg=\"#32de97\", activebackground=\"#3c9d9b\",fg='#ffffff', command= send )\n",
    "\n",
    "EntryBox = Text(base, bd=0, bg=\"white\",width=\"29\", height=\"5\", font=\"Arial\")\n",
    "\n",
    "scrollbar.place(x=376,y=6, height=386)\n",
    "\n",
    "ChatLog.place(x=6,y=6, height=386, width=370)\n",
    "\n",
    "EntryBox.place(x=128, y=401, height=25, width=265)\n",
    "\n",
    "SendButton.place(x=6, y=401, height=25)\n",
    "\n",
    "base.mainloop()"
   ]
  },
  {
   "cell_type": "code",
   "execution_count": null,
   "id": "6792d6fb-1042-4143-9b68-42be3bda1341",
   "metadata": {},
   "outputs": [],
   "source": []
  },
  {
   "cell_type": "code",
   "execution_count": null,
   "id": "bb042b80-c07f-405e-bfd7-174dcfb142c2",
   "metadata": {},
   "outputs": [],
   "source": []
  }
 ],
 "metadata": {
  "kernelspec": {
   "display_name": "Python [conda env:aap]",
   "language": "python",
   "name": "conda-env-aap-py"
  },
  "language_info": {
   "codemirror_mode": {
    "name": "ipython",
    "version": 3
   },
   "file_extension": ".py",
   "mimetype": "text/x-python",
   "name": "python",
   "nbconvert_exporter": "python",
   "pygments_lexer": "ipython3",
   "version": "3.12.3"
  }
 },
 "nbformat": 4,
 "nbformat_minor": 5
}
