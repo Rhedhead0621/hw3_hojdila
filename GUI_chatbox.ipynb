{
 "cells": [
  {
   "cell_type": "markdown",
   "id": "2f33d1b7-8704-4482-a09e-0ff6be4c1e68",
   "metadata": {},
   "source": [
    "Nice chatbox:\n",
    "\n",
    "https://www.analyticsvidhya.com/blog/2021/07/build-a-simple-chatbot-using-python-and-nltk/"
   ]
  },
  {
   "cell_type": "code",
   "execution_count": 79,
   "id": "3cdb8468-e8ae-42ec-a8e5-c72efe07de22",
   "metadata": {
    "tags": []
   },
   "outputs": [],
   "source": [
    "# GUI with Tkinter - box works - not tied to 'msg' or 'res'\n",
    "import tkinter\n",
    "from tkinter import *\n",
    "# Function to send message and get response\n",
    "\n",
    "def send():\n",
    "    msg = EntryBox.get(\"1.0\",'end-1c').strip()\n",
    "    EntryBox.delete(\"0.0\",END)\n",
    "    if msg != '':\n",
    "        ChatLog.config(state=NORMAL)\n",
    "        ChatLog.insert(END, \"You: \" + msg + '\\n\\n')\n",
    "        ChatLog.config(foreground=\"#442265\", font=(\"Verdana\", 12))\n",
    "        res = chatbot_response(msg)\n",
    "        ChatLog.insert(END, \"Bot: \" + res + '\\n\\n')\n",
    "        ChatLog.config(state=DISABLED)\n",
    "        ChatLog.yview(END)\n",
    "\n",
    "# GUI setup\n",
    "\n",
    "base = Tk()\n",
    "base.title(\"Chatbot\")\n",
    "base.geometry(\"400x500\")\n",
    "base.resizable(width=FALSE, height=FALSE)\n",
    "ChatLog = Text(base, bd=0, bg=\"white\", height=\"8\", width=\"50\", font=\"Arial\")\n",
    "ChatLog.config(state=DISABLED)\n",
    "scrollbar = Scrollbar(base, command=ChatLog.yview, cursor=\"heart\")\n",
    "ChatLog['yscrollcommand'] = scrollbar.set\n",
    "SendButton = Button(base, font=(\"Verdana\",12,'bold'), text=\"Send\", width=\"12\", height=5, bd=0, bg=\"#32de97\", activebackground=\"#3c9d9b\",fg='#ffffff', command= send )\n",
    "EntryBox = Text(base, bd=0, bg=\"white\",width=\"29\", height=\"5\", font=\"Arial\")\n",
    "scrollbar.place(x=376,y=6, height=386)\n",
    "ChatLog.place(x=6,y=6, height=386, width=370)\n",
    "EntryBox.place(x=128, y=401, height=25, width=265)\n",
    "SendButton.place(x=6, y=401, height=25)\n",
    "base.mainloop()"
   ]
  },
  {
   "cell_type": "markdown",
   "id": "0b044eb8-6f44-46b7-9e55-9025ba662039",
   "metadata": {},
   "source": [
    "**Close the chat window to proceed**"
   ]
  },
  {
   "cell_type": "markdown",
   "id": "07f999c5-0ca2-431b-908e-fe9bcee47c66",
   "metadata": {},
   "source": [
    "Modified the GUI display to work with the basic rules"
   ]
  },
  {
   "cell_type": "code",
   "execution_count": 139,
   "id": "bb042b80-c07f-405e-bfd7-174dcfb142c2",
   "metadata": {},
   "outputs": [],
   "source": [
    "# GUI with Tkinter - box works\n",
    "import tkinter\n",
    "from tkinter import *\n",
    "\n",
    "# Function to send message and get response\n",
    "\n",
    "def send():\n",
    "    msg = EntryBox.get(\"1.0\",'end-1c').strip()\n",
    "    EntryBox.delete(\"0.0\",END)    \n",
    "    if msg != \"\":\n",
    "        ChatLog.config(state=NORMAL)\n",
    "        ChatLog.insert(END, \"You: \" + msg + '\\n\\n')\n",
    "        ChatLog.config(foreground=\"#442265\", font=(\"Verdana\", 12))\n",
    "        msg = msg.lower()\n",
    "        if msg == \"hello\":\n",
    "            res = \"Hello!\"\n",
    "        elif msg == \"hi\":\n",
    "            res = \"Hello!\"\n",
    "        elif msg == \"good bye\":\n",
    "            res = \"Good bye!\"\n",
    "        elif msg == \"quit\":\n",
    "            res = \"Good bye!\"\n",
    "        else:\n",
    "            res = \"Sorry! I don't understand\" \n",
    "        ChatLog.insert(END, \"Bot: \" + res + '\\n\\n')\n",
    "        ChatLog.config(state=DISABLED)\n",
    "        ChatLog.yview(END)\n",
    "\n",
    "# GUI setup\n",
    "base = Tk()\n",
    "base.title(\"Chatbot\")\n",
    "base.geometry(\"400x500\")\n",
    "base.resizable(width=FALSE, height=FALSE)\n",
    "\n",
    "# Inserting starting comment in ChatLog\n",
    "ChatLog = Text(base, bd=0, bg=\"white\", height=\"8\", width=\"50\", font=\"Arial\")\n",
    "ChatLog.config(state=NORMAL)  # Set state to NORMAL to allow inserting text\n",
    "ChatLog.insert(END, \"Bot: Hi! I am a chatbot created\\nby Anna Hojdila for your service.\\nEnter 'quit' when you are finished.\\n\\n\")\n",
    "ChatLog.config(state=DISABLED) # Set state back to DISABLED after inserting text\n",
    "scrollbar = Scrollbar(base, command=ChatLog.yview, cursor=\"heart\")\n",
    "ChatLog['yscrollcommand'] = scrollbar.set\n",
    "SendButton = Button(base, font=(\"Verdana\",12,'bold'), text=\"Send\", width=\"12\", height=5, bd=0, bg=\"#32de97\", activebackground=\"#3c9d9b\",fg='#ffffff', command= send )\n",
    "EntryBox = Text(base, bd=0, bg=\"white\",width=\"29\", height=\"5\", font=\"Arial\")\n",
    "scrollbar.place(x=376,y=6, height=386)\n",
    "ChatLog.place(x=6,y=6, height=386, width=370)\n",
    "EntryBox.place(x=128, y=401, height=25, width=265)\n",
    "SendButton.place(x=6, y=401, height=25)\n",
    "base.mainloop()"
   ]
  },
  {
   "cell_type": "markdown",
   "id": "64d11e67-9691-400d-a521-862cf508261b",
   "metadata": {},
   "source": [
    "**Close the Chatbot window to proceed**"
   ]
  },
  {
   "cell_type": "code",
   "execution_count": 93,
   "id": "e369b188-c736-4388-b88c-ff1216cbde31",
   "metadata": {
    "tags": []
   },
   "outputs": [
    {
     "data": {
      "image/png": "[encoded data removed]",
      "text/plain": [
       "<IPython.core.display.Image object>"
      ]
     },
     "execution_count": 93,
     "metadata": {},
     "output_type": "execute_result"
    }
   ],
   "source": [
    "from IPython.display import Image\n",
    "img = './images/GUI_chatbot.png'\n",
    "Image(filename=img)"
   ]
  },
  {
   "cell_type": "code",
   "execution_count": null,
   "id": "295a9547-e4c7-43cc-9069-2ee790c8fe55",
   "metadata": {},
   "outputs": [],
   "source": []
  }
 ],
 "metadata": {
  "kernelspec": {
   "display_name": "Python [conda env:aap]",
   "language": "python",
   "name": "conda-env-aap-py"
  },
  "language_info": {
   "codemirror_mode": {
    "name": "ipython",
    "version": 3
   },
   "file_extension": ".py",
   "mimetype": "text/x-python",
   "name": "python",
   "nbconvert_exporter": "python",
   "pygments_lexer": "ipython3",
   "version": "3.12.3"
  }
 },
 "nbformat": 4,
 "nbformat_minor": 5
}
