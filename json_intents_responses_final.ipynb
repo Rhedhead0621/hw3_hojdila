{
 "cells": [
  {
   "cell_type": "code",
   "execution_count": 18,
   "id": "6a9392dd-cdce-4010-a257-e154cbb79048",
   "metadata": {},
   "outputs": [],
   "source": [
    "import json\n",
    "\n",
    "patterns = [\n",
    "    {\n",
    "        \"pattern\": r\"hello\",\n",
    "        \"responses\": [\"Hello!\"],\n",
    "        \"context_set\": \"\"\n",
    "    },\n",
    "    {\n",
    "        \"pattern\": r\"hi\",\n",
    "        \"responses\": [\"Hello!\"],\n",
    "        \"context_set\": \"\"\n",
    "    },\n",
    "    {\n",
    "        \"pattern\": r\"good bye\",\n",
    "        \"responses\": [\"Good bye!\"],\n",
    "        \"context_set\": \"\"\n",
    "    },\n",
    "    {\n",
    "        \"pattern\": r\"quit\",\n",
    "        \"responses\": [\"Good bye!\"],\n",
    "        \"context_set\": \"\"\n",
    "    },\n",
    "    {\n",
    "        \"pattern\": r\".*\",\n",
    "        \"responses\": [\"Sorry! I don't understand\"],\n",
    "        \"context_set\": \"\"\n",
    "    }\n",
    "]\n",
    "\n",
    "# Write patterns to patterns.json\n",
    "with open('patterns.json', 'w') as file:\n",
    "    json.dump(patterns, file, indent=4)\n"
   ]
  },
  {
   "cell_type": "markdown",
   "id": "5066459b-ecd2-49bd-b22d-85b134c400a4",
   "metadata": {},
   "source": [
    "https://stackoverflow.com/questions/60044233/converting-excel-into-json-using-python"
   ]
  },
  {
   "cell_type": "code",
   "execution_count": 60,
   "id": "bf751ad8-5a68-46b2-aa63-ce76ffae517b",
   "metadata": {
    "tags": []
   },
   "outputs": [
    {
     "name": "stdout",
     "output_type": "stream",
     "text": [
      "Excel Sheet to JSON:\n",
      " [{\"pattern\":\"mis4900\",\"responses\":\"You can find the current course website at http:\\/\\/www.sba.oakland.edu\\/faculty\\/isken\\/courses\\/mis6900_s24\\/, You can find the permalink at http:\\/\\/www.sba.oakland.edu\\/faculty\\/isken\\/courses\\/aap\",\"context_set\":\"\"},{\"pattern\":\"mis4460\",\"responses\":\"You can find the current course website at http:\\/\\/www.sba.oakland.edu\\/faculty\\/isken\\/courses\\/mis5460_f23\\/index.html, You can find the permalink at http:\\/\\/www.sba.oakland.edu\\/faculty\\/isken\\/courses\\/ba\",\"context_set\":\"\"},{\"pattern\":\"mis4470\",\"responses\":\"You can find the current course website at http:\\/\\/www.sba.oakland.edu\\/faculty\\/isken\\/courses\\/mis5470_f23\\/index.html, You can find the permalink at http:\\/\\/www.sba.oakland.edu\\/faculty\\/isken\\/courses\\/pcda\",\"context_set\":\"\"},{\"pattern\":\"mis6900\",\"responses\":\"You can find the current course website at http:\\/\\/www.sba.oakland.edu\\/faculty\\/isken\\/courses\\/mis6900_s24\\/, You can find the permalink at http:\\/\\/www.sba.oakland.edu\\/faculty\\/isken\\/courses\\/aap\",\"context_set\":\"\"},{\"pattern\":\"mis5460\",\"responses\":\"You can find the current course website at http:\\/\\/www.sba.oakland.edu\\/faculty\\/isken\\/courses\\/mis5460_f23\\/index.html, You can find the permalink at http:\\/\\/www.sba.oakland.edu\\/faculty\\/isken\\/courses\\/ba\",\"context_set\":\"\"},{\"pattern\":\"mis5470\",\"responses\":\"You can find the current course website at http:\\/\\/www.sba.oakland.edu\\/faculty\\/isken\\/courses\\/mis5470_f23\\/index.html, You can find the permalink at http:\\/\\/www.sba.oakland.edu\\/faculty\\/isken\\/courses\\/pcda\",\"context_set\":\"\"},{\"pattern\":\"quit\",\"responses\":\"Good bye!\",\"context_set\":\"\"}]\n"
     ]
    }
   ],
   "source": [
    "import pandas\n",
    "import json\n",
    "\n",
    "# Read excel document\n",
    "excel_data_df = pandas.read_excel('./data/paired_responses.xlsx', sheet_name='Sheet1')\n",
    "excel_data_df = excel_data_df.fillna(\"\")\n",
    "\n",
    "# Convert excel to string \n",
    "# (define orientation of document in this case from up to down)\n",
    "thisisjson = excel_data_df.to_json(orient='records')\n",
    "\n",
    "# Print out the result\n",
    "print('Excel Sheet to JSON:\\n', thisisjson)\n",
    "\n",
    "# Make the string into a list to be able to input in to a JSON-file\n",
    "thisisjson_dict = json.loads(thisisjson)\n",
    "\n",
    "# Define file to write to and 'w' for write option -> json.dump() \n",
    "# defining the list to write from and file to write to\n",
    "with open('./data/pairs_final.json', 'w') as json_file:\n",
    "    json.dump(thisisjson_dict, json_file)"
   ]
  },
  {
   "cell_type": "markdown",
   "id": "dbf11077-06d4-4fcf-a520-8c7feb323e74",
   "metadata": {},
   "source": [
    "https://www.w3schools.com/python/pandas/ref_df_fillna.asp#:~:text=The%20fillna()%20method%20replaces,in%20the%20original%20DataFrame%20instead."
   ]
  },
  {
   "cell_type": "code",
   "execution_count": 58,
   "id": "4e759bf8-be43-4c02-8f47-6a35d1be5ee8",
   "metadata": {},
   "outputs": [
    {
     "data": {
      "text/html": [
       "<div>\n",
       "<style scoped>\n",
       "    .dataframe tbody tr th:only-of-type {\n",
       "        vertical-align: middle;\n",
       "    }\n",
       "\n",
       "    .dataframe tbody tr th {\n",
       "        vertical-align: top;\n",
       "    }\n",
       "\n",
       "    .dataframe thead th {\n",
       "        text-align: right;\n",
       "    }\n",
       "</style>\n",
       "<table border=\"1\" class=\"dataframe\">\n",
       "  <thead>\n",
       "    <tr style=\"text-align: right;\">\n",
       "      <th></th>\n",
       "      <th>pattern</th>\n",
       "      <th>responses</th>\n",
       "      <th>context_set</th>\n",
       "    </tr>\n",
       "  </thead>\n",
       "  <tbody>\n",
       "    <tr>\n",
       "      <th>0</th>\n",
       "      <td>mis4900</td>\n",
       "      <td>You can find the current course website at htt...</td>\n",
       "      <td></td>\n",
       "    </tr>\n",
       "    <tr>\n",
       "      <th>1</th>\n",
       "      <td>mis4460</td>\n",
       "      <td>You can find the current course website at htt...</td>\n",
       "      <td></td>\n",
       "    </tr>\n",
       "    <tr>\n",
       "      <th>2</th>\n",
       "      <td>mis4470</td>\n",
       "      <td>You can find the current course website at htt...</td>\n",
       "      <td></td>\n",
       "    </tr>\n",
       "    <tr>\n",
       "      <th>3</th>\n",
       "      <td>mis6900</td>\n",
       "      <td>You can find the current course website at htt...</td>\n",
       "      <td></td>\n",
       "    </tr>\n",
       "    <tr>\n",
       "      <th>4</th>\n",
       "      <td>mis5460</td>\n",
       "      <td>You can find the current course website at htt...</td>\n",
       "      <td></td>\n",
       "    </tr>\n",
       "    <tr>\n",
       "      <th>5</th>\n",
       "      <td>mis5470</td>\n",
       "      <td>You can find the current course website at htt...</td>\n",
       "      <td></td>\n",
       "    </tr>\n",
       "    <tr>\n",
       "      <th>6</th>\n",
       "      <td>quit</td>\n",
       "      <td>Good bye!</td>\n",
       "      <td></td>\n",
       "    </tr>\n",
       "  </tbody>\n",
       "</table>\n",
       "</div>"
      ],
      "text/plain": [
       "   pattern                                          responses context_set\n",
       "0  mis4900  You can find the current course website at htt...            \n",
       "1  mis4460  You can find the current course website at htt...            \n",
       "2  mis4470  You can find the current course website at htt...            \n",
       "3  mis6900  You can find the current course website at htt...            \n",
       "4  mis5460  You can find the current course website at htt...            \n",
       "5  mis5470  You can find the current course website at htt...            \n",
       "6     quit                                          Good bye!            "
      ]
     },
     "execution_count": 58,
     "metadata": {},
     "output_type": "execute_result"
    }
   ],
   "source": [
    "import pandas\n",
    "\n",
    "# Read excel document\n",
    "excel_data_df = pandas.read_excel('./data/paired_responses.xlsx', sheet_name='Sheet1')\n",
    "excel_data_df = excel_data_df.fillna(\"\")\n",
    "\n",
    "excel_data_df\n"
   ]
  },
  {
   "cell_type": "code",
   "execution_count": null,
   "id": "9012658b-a490-4a6d-afb9-a23fb0054225",
   "metadata": {},
   "outputs": [],
   "source": []
  }
 ],
 "metadata": {
  "kernelspec": {
   "display_name": "Python [conda env:aap]",
   "language": "python",
   "name": "conda-env-aap-py"
  },
  "language_info": {
   "codemirror_mode": {
    "name": "ipython",
    "version": 3
   },
   "file_extension": ".py",
   "mimetype": "text/x-python",
   "name": "python",
   "nbconvert_exporter": "python",
   "pygments_lexer": "ipython3",
   "version": "3.12.3"
  }
 },
 "nbformat": 4,
 "nbformat_minor": 5
}
