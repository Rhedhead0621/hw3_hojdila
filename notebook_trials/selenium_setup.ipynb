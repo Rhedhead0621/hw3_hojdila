{
 "cells": [
  {
   "cell_type": "code",
   "execution_count": 14,
   "id": "856159a3-ad6b-4ba6-bcf3-5241bd5a8e61",
   "metadata": {
    "tags": []
   },
   "outputs": [],
   "source": [
    "from selenium import webdriver\n",
    "from selenium.webdriver.common.keys import Keys\n",
    "from selenium.webdriver.common.by import By"
   ]
  },
  {
   "cell_type": "code",
   "execution_count": 27,
   "id": "21d5cc8c-aef9-4dbf-996c-eafa1a121e48",
   "metadata": {
    "tags": []
   },
   "outputs": [],
   "source": [
    "service = webdriver.ChromeService()\n",
    "driver = webdriver.Chrome(service=service)"
   ]
  },
  {
   "cell_type": "code",
   "execution_count": 29,
   "id": "494dd366-a7ae-4980-8c2c-0f0c357a55e7",
   "metadata": {
    "tags": []
   },
   "outputs": [],
   "source": [
    "driver.get(\"https://www.python.org\")"
   ]
  },
  {
   "cell_type": "code",
   "execution_count": 31,
   "id": "acee64f2-3350-40b7-bc75-c275908d72c3",
   "metadata": {
    "tags": []
   },
   "outputs": [
    {
     "name": "stdout",
     "output_type": "stream",
     "text": [
      "Welcome to Python.org\n"
     ]
    }
   ],
   "source": [
    "print(driver.title)"
   ]
  },
  {
   "cell_type": "code",
   "execution_count": 49,
   "id": "dc660a19-44d2-48bd-8f05-31b8cf439e18",
   "metadata": {
    "tags": []
   },
   "outputs": [],
   "source": [
    "search_box = driver.find_element(\"name\", \"q\")\n",
    "\n",
    "search_box.send_keys('ChromeDriver')\n",
    "\n",
    "search_box.submit()"
   ]
  },
  {
   "cell_type": "code",
   "execution_count": 51,
   "id": "f66a88c8-2183-4be0-a555-9289668a61d7",
   "metadata": {
    "tags": []
   },
   "outputs": [
    {
     "data": {
      "text/plain": [
       "<selenium.webdriver.remote.webelement.WebElement (session=\"6e2576a9eb4b56526562323a3f227f0e\", element=\"f.F158DC23F35D5BE220CDAF012F5233D1.d.5B81A6E283BFDA8D9367ACEDC11A4C90.e.6\")>"
      ]
     },
     "execution_count": 51,
     "metadata": {},
     "output_type": "execute_result"
    }
   ],
   "source": [
    "search_box"
   ]
  },
  {
   "cell_type": "code",
   "execution_count": 53,
   "id": "9432e0c7-1309-4988-b366-f77121b14fa6",
   "metadata": {
    "tags": []
   },
   "outputs": [
    {
     "name": "stdout",
     "output_type": "stream",
     "text": [
      "https://www.python.org/search/?q=ChromeDriver\n"
     ]
    }
   ],
   "source": [
    "print(driver.current_url)"
   ]
  },
  {
   "cell_type": "code",
   "execution_count": 56,
   "id": "931fccd1-bbc3-4662-8605-72a96b9581bb",
   "metadata": {
    "tags": []
   },
   "outputs": [
    {
     "name": "stdout",
     "output_type": "stream",
     "text": [
      "<selenium.webdriver.remote.webelement.WebElement (session=\"6e2576a9eb4b56526562323a3f227f0e\", element=\"f.F158DC23F35D5BE220CDAF012F5233D1.d.A572C41BF5A1048B8EEBC6BFF32FF957.e.42\")>\n"
     ]
    }
   ],
   "source": [
    "print(driver.find_element(\"name\", \"q\"))"
   ]
  },
  {
   "cell_type": "code",
   "execution_count": 72,
   "id": "0e6272be-af23-4df3-a5b2-024bdf707a6a",
   "metadata": {
    "tags": []
   },
   "outputs": [],
   "source": [
    "from selenium.webdriver.common.by import By"
   ]
  },
  {
   "cell_type": "code",
   "execution_count": 74,
   "id": "b1593e06-6035-4f2b-89f1-e3265f0993ec",
   "metadata": {
    "tags": []
   },
   "outputs": [
    {
     "data": {
      "text/plain": [
       "<selenium.webdriver.remote.webelement.WebElement (session=\"6e2576a9eb4b56526562323a3f227f0e\", element=\"f.F158DC23F35D5BE220CDAF012F5233D1.d.A572C41BF5A1048B8EEBC6BFF32FF957.e.42\")>"
      ]
     },
     "execution_count": 74,
     "metadata": {},
     "output_type": "execute_result"
    }
   ],
   "source": [
    "driver.find_element(By.TAG_NAME, \"input\")"
   ]
  },
  {
   "cell_type": "markdown",
   "id": "3da81300-ef82-41da-b375-1db561384a9b",
   "metadata": {},
   "source": [
    "**Remember to close the driver**"
   ]
  },
  {
   "cell_type": "code",
   "execution_count": 90,
   "id": "042eb32c-948e-40b4-8274-e1367010d2ca",
   "metadata": {
    "tags": []
   },
   "outputs": [
    {
     "name": "stdout",
     "output_type": "stream",
     "text": [
      "None\n"
     ]
    }
   ],
   "source": [
    "from bs4 import BeautifulSoup\n",
    "import pandas as pd\n",
    "import re\n",
    "import requests\n",
    "\n",
    "url = \"http://www.sba.oakland.edu/faculty/isken/courses/mis6900_s24/getting_data_from_web.html\"\n",
    "url_soup = requests.get(url)\n",
    "soup = BeautifulSoup(driver.page_source, 'html.parser')\n",
    "playlist = soup.find(id='Explore')\n",
    "\n",
    "print(playlist)"
   ]
  },
  {
   "cell_type": "code",
   "execution_count": 98,
   "id": "f7ea735c-6714-4a76-85f0-b9785b177dc3",
   "metadata": {
    "tags": []
   },
   "outputs": [
    {
     "ename": "InvalidSessionIdException",
     "evalue": "Message: invalid session id\nStacktrace:\n\tGetHandleVerifier [0x00007FF6BCF01F52+60322]\n\t(No symbol) [0x00007FF6BCE7CEC9]\n\t(No symbol) [0x00007FF6BCD37CE9]\n\t(No symbol) [0x00007FF6BCD78987]\n\t(No symbol) [0x00007FF6BCDAC0C9]\n\t(No symbol) [0x00007FF6BCDA60C8]\n\t(No symbol) [0x00007FF6BCDA5AD1]\n\t(No symbol) [0x00007FF6BCD02B75]\n\tGetHandleVerifier [0x00007FF6BD2194AD+3301629]\n\tGetHandleVerifier [0x00007FF6BD2636D3+3605283]\n\tGetHandleVerifier [0x00007FF6BD259450+3563680]\n\tGetHandleVerifier [0x00007FF6BCFB4326+790390]\n\t(No symbol) [0x00007FF6BCE8750F]\n\t(No symbol) [0x00007FF6BCD01B97]\n\tGetHandleVerifier [0x00007FF6BD2BE508+3977560]\n\tBaseThreadInitThunk [0x00007FF893C3257D+29]\n\tRtlUserThreadStart [0x00007FF8959EAA48+40]\n",
     "output_type": "error",
     "traceback": [
      "\u001b[1;31m---------------------------------------------------------------------------\u001b[0m",
      "\u001b[1;31mInvalidSessionIdException\u001b[0m                 Traceback (most recent call last)",
      "Cell \u001b[1;32mIn[98], line 1\u001b[0m\n\u001b[1;32m----> 1\u001b[0m driver\u001b[38;5;241m.\u001b[39mclose()\n",
      "File \u001b[1;32m~\\anaconda3\\envs\\aap\\Lib\\site-packages\\selenium\\webdriver\\remote\\webdriver.py:458\u001b[0m, in \u001b[0;36mWebDriver.close\u001b[1;34m(self)\u001b[0m\n\u001b[0;32m    450\u001b[0m \u001b[38;5;28;01mdef\u001b[39;00m \u001b[38;5;21mclose\u001b[39m(\u001b[38;5;28mself\u001b[39m) \u001b[38;5;241m-\u001b[39m\u001b[38;5;241m>\u001b[39m \u001b[38;5;28;01mNone\u001b[39;00m:\n\u001b[0;32m    451\u001b[0m \u001b[38;5;250m    \u001b[39m\u001b[38;5;124;03m\"\"\"Closes the current window.\u001b[39;00m\n\u001b[0;32m    452\u001b[0m \n\u001b[0;32m    453\u001b[0m \u001b[38;5;124;03m    :Usage:\u001b[39;00m\n\u001b[1;32m   (...)\u001b[0m\n\u001b[0;32m    456\u001b[0m \u001b[38;5;124;03m            driver.close()\u001b[39;00m\n\u001b[0;32m    457\u001b[0m \u001b[38;5;124;03m    \"\"\"\u001b[39;00m\n\u001b[1;32m--> 458\u001b[0m     \u001b[38;5;28mself\u001b[39m\u001b[38;5;241m.\u001b[39mexecute(Command\u001b[38;5;241m.\u001b[39mCLOSE)\n",
      "File \u001b[1;32m~\\anaconda3\\envs\\aap\\Lib\\site-packages\\selenium\\webdriver\\remote\\webdriver.py:347\u001b[0m, in \u001b[0;36mWebDriver.execute\u001b[1;34m(self, driver_command, params)\u001b[0m\n\u001b[0;32m    345\u001b[0m response \u001b[38;5;241m=\u001b[39m \u001b[38;5;28mself\u001b[39m\u001b[38;5;241m.\u001b[39mcommand_executor\u001b[38;5;241m.\u001b[39mexecute(driver_command, params)\n\u001b[0;32m    346\u001b[0m \u001b[38;5;28;01mif\u001b[39;00m response:\n\u001b[1;32m--> 347\u001b[0m     \u001b[38;5;28mself\u001b[39m\u001b[38;5;241m.\u001b[39merror_handler\u001b[38;5;241m.\u001b[39mcheck_response(response)\n\u001b[0;32m    348\u001b[0m     response[\u001b[38;5;124m\"\u001b[39m\u001b[38;5;124mvalue\u001b[39m\u001b[38;5;124m\"\u001b[39m] \u001b[38;5;241m=\u001b[39m \u001b[38;5;28mself\u001b[39m\u001b[38;5;241m.\u001b[39m_unwrap_value(response\u001b[38;5;241m.\u001b[39mget(\u001b[38;5;124m\"\u001b[39m\u001b[38;5;124mvalue\u001b[39m\u001b[38;5;124m\"\u001b[39m, \u001b[38;5;28;01mNone\u001b[39;00m))\n\u001b[0;32m    349\u001b[0m     \u001b[38;5;28;01mreturn\u001b[39;00m response\n",
      "File \u001b[1;32m~\\anaconda3\\envs\\aap\\Lib\\site-packages\\selenium\\webdriver\\remote\\errorhandler.py:229\u001b[0m, in \u001b[0;36mErrorHandler.check_response\u001b[1;34m(self, response)\u001b[0m\n\u001b[0;32m    227\u001b[0m         alert_text \u001b[38;5;241m=\u001b[39m value[\u001b[38;5;124m\"\u001b[39m\u001b[38;5;124malert\u001b[39m\u001b[38;5;124m\"\u001b[39m]\u001b[38;5;241m.\u001b[39mget(\u001b[38;5;124m\"\u001b[39m\u001b[38;5;124mtext\u001b[39m\u001b[38;5;124m\"\u001b[39m)\n\u001b[0;32m    228\u001b[0m     \u001b[38;5;28;01mraise\u001b[39;00m exception_class(message, screen, stacktrace, alert_text)  \u001b[38;5;66;03m# type: ignore[call-arg]  # mypy is not smart enough here\u001b[39;00m\n\u001b[1;32m--> 229\u001b[0m \u001b[38;5;28;01mraise\u001b[39;00m exception_class(message, screen, stacktrace)\n",
      "\u001b[1;31mInvalidSessionIdException\u001b[0m: Message: invalid session id\nStacktrace:\n\tGetHandleVerifier [0x00007FF6BCF01F52+60322]\n\t(No symbol) [0x00007FF6BCE7CEC9]\n\t(No symbol) [0x00007FF6BCD37CE9]\n\t(No symbol) [0x00007FF6BCD78987]\n\t(No symbol) [0x00007FF6BCDAC0C9]\n\t(No symbol) [0x00007FF6BCDA60C8]\n\t(No symbol) [0x00007FF6BCDA5AD1]\n\t(No symbol) [0x00007FF6BCD02B75]\n\tGetHandleVerifier [0x00007FF6BD2194AD+3301629]\n\tGetHandleVerifier [0x00007FF6BD2636D3+3605283]\n\tGetHandleVerifier [0x00007FF6BD259450+3563680]\n\tGetHandleVerifier [0x00007FF6BCFB4326+790390]\n\t(No symbol) [0x00007FF6BCE8750F]\n\t(No symbol) [0x00007FF6BCD01B97]\n\tGetHandleVerifier [0x00007FF6BD2BE508+3977560]\n\tBaseThreadInitThunk [0x00007FF893C3257D+29]\n\tRtlUserThreadStart [0x00007FF8959EAA48+40]\n"
     ]
    }
   ],
   "source": [
    "driver.close()"
   ]
  },
  {
   "cell_type": "code",
   "execution_count": null,
   "id": "ef9b5d90-8d5b-46e9-a7fc-d528d2977258",
   "metadata": {},
   "outputs": [],
   "source": []
  }
 ],
 "metadata": {
  "kernelspec": {
   "display_name": "Python [conda env:aap]",
   "language": "python",
   "name": "conda-env-aap-py"
  },
  "language_info": {
   "codemirror_mode": {
    "name": "ipython",
    "version": 3
   },
   "file_extension": ".py",
   "mimetype": "text/x-python",
   "name": "python",
   "nbconvert_exporter": "python",
   "pygments_lexer": "ipython3",
   "version": "3.12.3"
  }
 },
 "nbformat": 4,
 "nbformat_minor": 5
}
