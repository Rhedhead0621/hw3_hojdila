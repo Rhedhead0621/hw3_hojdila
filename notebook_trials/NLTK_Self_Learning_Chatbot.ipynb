{
 "cells": [
  {
   "cell_type": "markdown",
   "id": "97592826-3c54-4f4b-807a-8269d66d8f63",
   "metadata": {},
   "source": [
    "This site helped me with the simple NLTK chatbot - I'm going to see if I can get their Self Learning model to work"
   ]
  },
  {
   "cell_type": "markdown",
   "id": "86fb5119-8cdc-4420-9fc5-410d691984dc",
   "metadata": {},
   "source": [
    "https://www.analyticsvidhya.com/blog/2021/07/build-a-simple-chatbot-using-python-and-nltk/"
   ]
  },
  {
   "cell_type": "markdown",
   "id": "13c5ebae-2892-4cc3-91b2-810fc6981a06",
   "metadata": {},
   "source": [
    "Here are the 6 steps to create a chatbot in Python from scratch:\n",
    "\n",
    "Import required libraries\n",
    "\n",
    "Import and load the data file\n",
    "\n",
    "Preprocess data\n",
    "\n",
    "Create training and testing data\n",
    "\n",
    "Build the model\n",
    "\n",
    "Predict the response\n",
    "\n",
    "Run the chatbot"
   ]
  },
  {
   "cell_type": "markdown",
   "id": "12ba30f5-0ada-4007-a956-68b101fc6dab",
   "metadata": {},
   "source": [
    "### Step 1: Install Required Modules"
   ]
  },
  {
   "cell_type": "markdown",
   "id": "ab741a06-b7d2-4ee8-931a-d124bde78e60",
   "metadata": {
    "tags": []
   },
   "source": [
    "pip install tensorflow\n",
    "\n",
    "pip install keras\n",
    "\n",
    "pip install nltk - see NLTK_aap_troubleshooting for additional steps to %pip install tensorflow keras and nltk in order to use the aap kernel\n",
    "\n",
    "pip install pickle - may not need to do - https://stackoverflow.com/questions/48477949/not-able-to-pip-install-pickle-in-python-3-6\n",
    "\n",
    "check pickle by using:\n",
    "\n",
    "print(pickle.__doc__)"
   ]
  },
  {
   "cell_type": "markdown",
   "id": "891004bc-b9e1-4883-8a6a-574934308649",
   "metadata": {},
   "source": [
    "I don't have the data_file yet - this will contain the json intents - I will develop this after I develop the keywords"
   ]
  },
  {
   "cell_type": "code",
   "execution_count": null,
   "id": "19ec4fb6-2053-43dd-9404-e9889cc56054",
   "metadata": {
    "tags": []
   },
   "outputs": [],
   "source": [
    "import nltk\n",
    "\n",
    "from nltk.stem import WordNetLemmatizer\n",
    "\n",
    "lemmatizer = WordNetLemmatizer()\n",
    "\n",
    "import json\n",
    "\n",
    "import pickle\n",
    "\n",
    "import numpy as np\n",
    "\n",
    "import keras\n",
    "\n",
    "from keras.models import Sequential\n",
    "\n",
    "from keras.layers import Dense, Activation, Dropout\n",
    "\n",
    "from keras.optimizers import SGD\n",
    "\n",
    "import random\n",
    "\n",
    "# Load data from intents.json\n",
    "\n",
    "#data_file = open('intents.json').read()\n",
    "\n",
    "#intents = json.loads(data_file)"
   ]
  },
  {
   "cell_type": "markdown",
   "id": "1e49d50e-93ed-4b47-95b1-5888879cf76f",
   "metadata": {},
   "source": [
    "Step 2: Preprocess Data"
   ]
  },
  {
   "cell_type": "code",
   "execution_count": 55,
   "id": "02f480e4-56bc-4aa3-b049-115c533a89b8",
   "metadata": {
    "tags": []
   },
   "outputs": [
    {
     "name": "stdout",
     "output_type": "stream",
     "text": [
      "\u001b[38;5;2m✔ Download and installation successful\u001b[0m\n",
      "You can now load the package via spacy.load('en_core_web_sm')\n",
      "\u001b[38;5;3m⚠ Restart to reload dependencies\u001b[0m\n",
      "If you are in a Jupyter or Colab notebook, you may need to restart Python in\n",
      "order to load all the package's dependencies. You can do this by selecting the\n",
      "'Restart kernel' or 'Restart runtime' option.\n"
     ]
    }
   ],
   "source": [
    "# imports and load spacy\n",
    "\n",
    "import pandas as pd\n",
    "import re\n",
    "import string\n",
    "from bs4 import BeautifulSoup\n",
    "import nltk\n",
    "from nltk.stem import PorterStemmer\n",
    "from nltk.stem.wordnet import WordNetLemmatizer\n",
    "import spacy\n",
    "\n",
    "spacy.cli.download(\"en_core_web_sm\")\n",
    "nlp = spacy.load(\"en_core_web_sm\")"
   ]
  },
  {
   "cell_type": "code",
   "execution_count": 137,
   "id": "f6d991b0-446a-48d8-9d03-5eb2ab73c0b8",
   "metadata": {
    "tags": []
   },
   "outputs": [],
   "source": [
    "# define clean_string function # define clean_string function - clean characters, change to lower case, remove stop words\n",
    "\n",
    "def clean_string(text, stem=\"None\"):\n",
    "\n",
    "    final_string = \"\"\n",
    "\n",
    "    # Make lower\n",
    "    text = text.lower()\n",
    "\n",
    "    # Remove line breaks\n",
    "    # Note: that this line can be augmented and used over\n",
    "    # to replace any characters with nothing or a space - needed to be a space\n",
    "    text = re.sub(r'\\n', ' ', text)\n",
    "\n",
    "    # Remove punctuation\n",
    "    translator = str.maketrans('', '', string.punctuation)\n",
    "    text = text.translate(translator)\n",
    "\n",
    "    # Remove stop words\n",
    "    text = text.split()\n",
    "    useless_words = nltk.corpus.stopwords.words(\"english\")\n",
    "    useless_words = useless_words + ['hi', 'im']\n",
    "\n",
    "    text_filtered = [word for word in text if not word in useless_words]\n",
    "\n",
    "    # Remove numbers\n",
    "    #text_filtered = [re.sub(r'\\w*\\d\\w*', '', w) for w in text_filtered]\n",
    "\n",
    "    # Stem or Lemmatize\n",
    "    if stem == 'Stem':\n",
    "        stemmer = PorterStemmer() \n",
    "        text_stemmed = [stemmer.stem(y) for y in text_filtered]\n",
    "    elif stem == 'Lem':\n",
    "        lem = WordNetLemmatizer()\n",
    "        text_stemmed = [lem.lemmatize(y) for y in text_filtered]\n",
    "    elif stem == 'Spacy':\n",
    "        text_filtered = nlp(' '.join(text_filtered))\n",
    "        text_stemmed = [y.lemma_ for y in text_filtered]\n",
    "    else:\n",
    "        text_stemmed = text_filtered\n",
    "\n",
    "    final_string = ' '.join(text_stemmed)\n",
    "\n",
    "    return final_string"
   ]
  },
  {
   "cell_type": "code",
   "execution_count": 179,
   "id": "1bf30d07-985a-4aee-9073-20b7cc9dbd3d",
   "metadata": {
    "tags": []
   },
   "outputs": [
    {
     "data": {
      "text/plain": [
       "str"
      ]
     },
     "execution_count": 179,
     "metadata": {},
     "output_type": "execute_result"
    }
   ],
   "source": [
    "text_files = ['./docs/TermsConditions_test.txt']\n",
    "data = str([open(f).read() for f in text_files])\n",
    "type(data)"
   ]
  },
  {
   "cell_type": "code",
   "execution_count": null,
   "id": "b3c3cbbd-4167-4a50-818d-831b1be50426",
   "metadata": {
    "tags": []
   },
   "outputs": [],
   "source": [
    "# Make lower\n",
    "data_lower = data.lower()\n",
    "data_lower"
   ]
  },
  {
   "cell_type": "code",
   "execution_count": 173,
   "id": "7e08456a-75fa-4107-92e1-a098873fbe49",
   "metadata": {
    "tags": []
   },
   "outputs": [
    {
     "data": {
      "text/plain": [
       "'some text with multiple whitespace'"
      ]
     },
     "execution_count": 173,
     "metadata": {},
     "output_type": "execute_result"
    }
   ],
   "source": [
    "\" \".join(\"\\n\\nsome    text \\r\\n with multiple whitespace\".split())\n"
   ]
  },
  {
   "cell_type": "code",
   "execution_count": null,
   "id": "033c12d3-45c0-43d4-8388-5403cb2c30fe",
   "metadata": {
    "tags": []
   },
   "outputs": [],
   "source": [
    "# Remove line breaks\n",
    "data_split = ' '.join(str(data_lower.split()))\n",
    "data_split"
   ]
  },
  {
   "cell_type": "code",
   "execution_count": null,
   "id": "50382ee9-ce92-41bb-acea-404d7af3e839",
   "metadata": {
    "tags": []
   },
   "outputs": [],
   "source": [
    "clean_1(str(data))\n",
    "data"
   ]
  },
  {
   "cell_type": "code",
   "execution_count": 189,
   "id": "3f766377-e87d-4453-921d-8537c95be232",
   "metadata": {
    "tags": []
   },
   "outputs": [
    {
     "data": {
      "text/plain": [
       "list"
      ]
     },
     "execution_count": 189,
     "metadata": {},
     "output_type": "execute_result"
    }
   ],
   "source": [
    "text_files = ['./docs/TermsConditions_test.txt']\n",
    "data = [open(f).read() for f in text_files]\n",
    "type(data)"
   ]
  },
  {
   "cell_type": "code",
   "execution_count": null,
   "id": "9e5f42fe-410f-4b4c-90df-329fdf977469",
   "metadata": {
    "tags": []
   },
   "outputs": [],
   "source": [
    "# Works on a list, need to remove non-words\n",
    "\n",
    "# Tokenize, lemmatize, and remove stopwords\n",
    "tokenized_data = []\n",
    "for sentence in data:\n",
    "    tokens = nltk.word_tokenize(sentence.lower())  # Tokenize and convert to lowercase\n",
    "    lemmatized_tokens = [lemmatizer.lemmatize(token) for token in tokens]  # Lemmatize tokens\n",
    "    filtered_tokens = [token for token in lemmatized_tokens if token not in stop_words]  # Remove stop words\n",
    "    \n",
    "    tokenized_data.append(filtered_tokens)\n",
    "\n",
    "# Remove duplicate words\n",
    "for i in range(len(tokenized_data)):\n",
    "    tokenized_data[i] = list(set(tokenized_data[i]))\n",
    "\n",
    "print(tokenized_data)"
   ]
  },
  {
   "cell_type": "code",
   "execution_count": 193,
   "id": "85dc3629-009f-4cd7-a44a-6dcd24ef7c4c",
   "metadata": {
    "tags": []
   },
   "outputs": [
    {
     "data": {
      "text/plain": [
       "list"
      ]
     },
     "execution_count": 193,
     "metadata": {},
     "output_type": "execute_result"
    }
   ],
   "source": [
    "type(tokenized_data)"
   ]
  },
  {
   "cell_type": "code",
   "execution_count": 195,
   "id": "ecf08325-24a7-442b-85c3-57bc5fdb0589",
   "metadata": {
    "tags": []
   },
   "outputs": [
    {
     "name": "stdout",
     "output_type": "stream",
     "text": [
      "[['one-year', 'approved', 'use', 'demoted', 'prohibit', 'nearby', '31', 'entire', 'rideshare', '754-1010', 'arrange', 'estimate', 'installation', 'combined', 'history', 'up-to-date', '.............', 'approximates', 'signing', 'washtenaw', 'prospective', 'processed', 'removed', 'daughter', '88', 'provided', 'debris', 'agent', 'information', '?', 'adjusted', 'demonstration', 'disclose', 'anticipated', 'qualified', '550-5783.', '270.83', 'lyft', 'owned', 'out-of-service', 'jump', '320.83', 'ccas', 'allow', 'identical', 'bodily', 'participant', 'regulation', 'severity', 'connected', 'racing', 'enrollment', 'physical', 'operator', 'default', 'commence', 'food', 'sensor', 'hold', 'lf', '1', '9145', 'travel', 'contract', 'originally', 'offense', 'interruption', 'name', 'maintaining', 'noncertified', 'deflated', 'issue', 'rate', 'chip', 'violation', 'birth', 'lrmc', 'product', 'fiat', 'misdemeanor', 'location', 'member', 'radio', 'risk', 'discretionary', 'equipment', 'infraction', 'salary', 'office', 'pet', 'eeeesseeeseeeseeeaeeeaeeeaeeneeeneeenees', 'witness', 'primary', 'local', 'occurs', 'recover', '..............', 'lose', 'cost', 'tonneau', '300', 'annual', 'taken', 'complaint', 'nonspare', 'operation', 'requested', '325', 'determine', 'unless', 'week', 'u.s.', 'loaner/rental', 'road', 'operate', 'met', 'department', '00.0', 'south', 'repair', 'collected', 'substitute', 'adjustment', 'bullseyes', 'caused', 'off-road', 'remain', 'visibility', 'sharing', 'necessary', 'lost', 'see', 'retrieve', 'reimbursement', 'planning', '6', 'leasing', 'wrench', '0', 'purchased', 'automatic', 'sister', 'amended', 'received', 'business', 'added', 'fee', 'immediately', 'loaner', 'permitted', 'cccccsccccsssccssssecsssseccsseecsseeessseeecseaeecssuecssssseessauecsseeecssasecsesueeseaeesseasecesaueesesseeseaees', 'remains', 'consent', 'cccsccccssseccssssceesssecesssseceseeeecssaeecsseeesssseesssaueesssaeesesaaees', 'discretion', '19', 'transportation', 'survey', 'located', '9/day', 'vendor', 'gladiator', 'check', 'mopar', 'son', 'collect', 'record', 'secured', 'false', 'driving', 'recorded', 'smoke', 'bulletin', 'orion', 'occupant', '14', 'agreement', 'possibly', 'participation', 'booked', 'specification', 'cccccccccsseceseeeseeseseesseeseseseseeesseeeseeseseeeeessseeeseeenas', 're-registration', 'recovery', '418', 'according', 'second', '..', 'estate', '......', 'acompleted', 'legally', 'designated', 'county', 'newly', 'legal', 'fianceées', 'exhibit', 'decision', 'diagnostic', 'custom', 'terminated', '350', 'purchase', 'penalty', 'turned', '8', 'mean', '9', 'paycheck', 'receive', 'available', 'sign', 'income', 'secretary', 'cccccccssccssssecessssecsseecesseeesssssecssaeeceesaeesssseeeessueeeesaeeeens', '25', '150', 'cel', 'indemnify', 'safely', '10000', 'paying', 'ccc', 'exceed', 'inform', 'acknowledging', 'mandatory', 'stolen', 'collection', 'replacement/transfer', 'acopy', 'assessed', 'driven', 'contact', 'investigate', 'policy', 'website', 'center', 'mortgage', 'typically', '24', '|', 'companyowned', 'clinton', 'mi', 'franchised', 'present', 'match', 'free', 'attorney', 'currently', 'accordance', 'status', 'brother', 'pursuant', 'tread', 'surviving', 'fully', 'crash', 'end', 'accept', 'bank', 'understand', 'least', 'email', '5', 'deactivates', 'independent', 'hard', 'damaged', 'titling', 'send', 'third', 'separation', 'detaining', 'dual', 'incident', 'activate', 'set', 'begin', 'overnight', 'thirty-day', 'proceeding', 'programmed', 'financial', 'engineer', 'necessarily', 'incur', 'turnedin', 'good', 'ccccccccssecssseeesseeesseeeesseeeeseseeeeseeeessseeessaeeeseeaeeeseaeeessneeesssaeees', 'paperwork', 'macomb', 'requirement', 'return', '17', 'towed', 'medford', '¥', 'eeeeeseeeeeeeeneeeeeeeeaees', 'death', 'cccescccsssscceeessseceessueecessueeeeessaseeeesseeeeeesssssecesssaseseessuseeeeseesseeeessuseesessaseeeesssaseeesesaaeees', 'month', 'gas', 'grandparent', 'amendment', 'itis', 'deactivated', 'car', 'transferred', ';', 'statute', '``', 'turn', 'kept', 'cecccesessecessteeeeseees', 'cdi', 'automotive', 'pizza', 'uconnect', '1-866864-7684.', 'ha', 'maintain', 'license', 'connection', '248', 'alleged', 'field', '.......', 'x', 'lapeer', 'restrict', \"'\", 'occurrence', 'additional', 'mvrs', 'inflator', 'amend', 'cccccccsssssssceeececcccescssessseeeeeececeeeeeeesessaueeeeseeceeseceseeesesaeeeeeeeeeeeseseeeeas', 'allowed', 'lodging', 'crumbs/spills', 'assign', 'site', '20.00.00', 'day', 'burn', 'regular', 'child', 'subject', 'permissible', 'matter', '0000000', 'taking', 'ecsecseeeeeeeseessseeseeeseeennees', 'filed', 'every', 'question', 'state/dmv', 'required', 'extension', 'checking', '30', '7', 'real', 'quality', 'extend', 'hub', 'order', 'ccssecstecessessseesseesseessseesseeeseessaes', 'exchange', 'instruction', 'outside', 'driver', 'converted', 'seizing', 'determined', '475-0215', 'wheel', 'standard', 'directly', 'drug', 'payroll', 'restored', '000', 'help', 'disablement', 'reduce', 'whether', 'provides', 'time', 'roll', 'long', 'authorization', 'procedure', 'adoption', 'bureau', 'complete', 'access', 'changed', 'ccccssccccsssnecessssseecessseeecesesaeeeesseaeecessaeeceseeseeeesseueeceseeaeeeesseaaeeseseeaeeeeeseneeessgs', 'cracking', 'circumventing', 'someone', 'girlfriends/boyfriends', 'city', '48', 'permittee', '669-272-1325', 'licensed', 'damage', '”', 'paper', 'installed', 'line', 'would', 'membership', 'picked', 'lease', 'mvr', 'cccsseccsssseeessseesesseesssssecsssseesesseesssaseessueesesneeessaaees', 'property', '4', 'timely', 'suspended', 'prorated', 'door', 'permitting', 'scheduled', 'faxed', 'longer', '4/32', '“', 'lease/pe', 'electronic', 'roadside', 'benefit', 'reimbursed', 'fob', 'used', 'provision', 'pending', 'vacation', 'deceased', 'interest', '’', 'replaced', 'alcohol', '30,000', 'minimum', 'verify', 'item', 'dash', 'height', 'evidence', 'drivable', 'allowing', 'card', 'take', 'build-out', \"''\", 'carrying', 'ready', 'code', 'wash', 'volunteer/non-profit', 'on-line', 'last', 'continuing', 'distract', 'commuting', 'guideline', 'whole', 'jack', 'delay', 'police', 'home', 'title', 'plan', 'encouraged', 'he/she', 'represents', 'loss', 'appeal', 'tear', 'service', 'unauthorized', 'dealership', 'uber', 'conviction', 'ineligible', 'platform', '4300', 'trained', 'incurred', 'decal', 'el', 'original', 'rear', 'resulting', '.....', 'manufacturer', 'delivered', 'correspondence', 'hands-free', '16-19', 'reportiing', 'strongly', '15', 'initial', \"'s\", 'example', 'age', '1099', 'unit', 'account', 'amazon', 'cccscccsssecessneeessneeeessseeceseeeessaeeessaeeesssneeseeseeeseaeeeeseaeeeeseeeesseeeesas', 'june=', 'copy', 'measure', 'activates', 'even', '16', 'non-stellantis', 'southeast', 'vandalized', 'published', '00.00.00', '0.00.00', 'accepted', 'shall', 'inservice', 'whenever', 'settle', 'requires', 'number', 'wa', 'guardianship', 'allows', 'member/dependent', 'gallagher', 'locking', 'paymment', 'ability', 'personal', 'spare', 'fuel', 'within', '...', 'arrest', 'credit', '............', 'occ', 'spouse', 'revised', 'seven', 'cracked', 'suspension', 'right', 'assistance', 'clean', 'lien', 'drive', 'final', 'distracted', 'referred', 'eats', 'safety', '@', 'fund', 'ifthe', 'addition', 'page', '02155', 'him/her', 'pick', 'loose', 'sustains', 'transport', 'total', 'unaffected', 'envelope', 'also', 'serious', 'modification', 'following', 'vehicle', 'person', 'ordered', 'permittees', 'accessible', 'and/or', 'discount', 'in-service', '(', 'able', 'eesccssssccesseeeesseecessseeesseecesseeessseeeessseesesaeecesseeeessaeecseaeeeesseeesesaeeeesaaees', 'injury', 'ccescccccsssseceessseeceessaeeeeesseeeeessaeesesseaeeeesssseeeeesesaeeeeseeaeeeeseeaeeeeseaeeeessseeeensas', 'applicable', 'oil', 'household', 'locksmith', '13', 'state', 'exceeding', 'related', 'becomes', 'wish', 'lawn', 'include', 'similar', 'sale', 'residence', 'using', 'open', '2.0.0.0', 'ticket', 'southeastern', 'involving', 'demand', 'upholstery', 'pricing', 'administer', 'require', '..................', 'buckled', 'leased', 'united', 'insurance', 'retirement', 'resignation', 'follows', 'square', 'company', 'coordinator', 'confirm', 'windshield', 'arising', 'ccccccccccscccsecesecessecsseeeeeesseeesees', '20.0.0', 'his/her', '.........', 'unloading', 'report', 'soft', 'alternate', 'amount', 'requifemenes', 'including', 'given', 'extended', 'revoke', 'availability', 'data', 'tank', 'completed', 'avoid', 'acknowledge', 'may', 'issued', 'forth', 'discrepancy', 'harmless', 'based', 'effect', 'negligence/modifications', 'closed', 'eight', 'unacceptable', 'ordinance', 'evaluation', 'committee', 'bring', 'part', 'disqualifies', 'condition', 'stepchild', 'performance', 'il', 'regardless', 'genesee', 'eee', 'learner', 'inside', 'filing', 'uconnect®', 'cross', 'deduction', 'one', 'breathalyzer', 'delivering', 'etc.', 'partner', 'mobile', 'web', 'invoice', 'manner', 'defect', 'screen', ':', 'particular', 'rule', 'maintenance', 'expense', '270/30', 'four-wheeling', 'wrong', '—', 'case', 'turned-in', 'calendar', 'termination', 'eeeeeeeeneeeeeees', 'terminate', '100', 'disclosure', 'affect', 'way', 'wait', 'defend', 'online', '....', 'however', 'remaining', '‘', 'encourages', 'turn-in', 'testing', 'hour', '/', 'www.chryslerdirect.com', '0000', '833', 'choice', 'marshaling', 'canada', 'advance', 'inspection', 'claim', 'trail', 'hand-held', 'operated', 'regarding', 'transaction', 'professional-administrative', 'call', 'correct', 'pro-rated', '!', 'receipt', 'spill', 'address', 'obtained', 'federal', 'licensing', 'pharmaceutical', 'advertisement', 'etc', 'texting', 'valid', '................', 'written', 'june', 'recalls/campaigns', 'form', 'stiing', 'bassett', '10.83', 'c.', 'michigan', 'maximum', 'deliveries/turn-in', 'suspected', 'livingston', 'picking', 'leave', 'receiving', 'accident', 'familiar', 'agency', '18', 'first', 'agree', 'thereof', 'lessee', 'expected', 'forwarded', '48359', 'display', '2004', 'party', 'exterior', 'full', 'frequently', 'flat', 'purpose', 'protection', 'cleaning', '35', 'http', '21', 'arranged', 'pool', 'warranty', 'box', 'extreme', 'passenger', 'always', 'soon', 'cooperate', 'emergency', 'system', '22', 'governing', 'notification', 'effective', 'recovered', 'pdf', 'lvr', 'transit', 'calculation', 'relating', 'attempt', 'sold', 'responsible', 'deduct', 'repairing', 'girlfriend/boyfriend', 'illegal', 'domestic', '.', 'interim/replacement', 'younger', 'list', 'contacting', 'dmv', 'pay', 'delivery', 'reminded', 'communication', 'inspected', 'overall', 'covered', 'payment', 'personally', 'facility', 'ice', 'comparable', 'permit', 'depth', 'interior', 'senior', 'containing', 'government', 'odor', '....................', 'his/ner', 'pe/', 'totaled', 'dependent', '00.00', 'improperly', 'lug', 'follow', 'together', 'vy', 'e.g.', 'step', 'reply', 'toll', 'except', 'make', 'i.e', 'practical', 'in-law', 'vacuuming', 'cccccccsssecessseeessseecesseeeeseneeeesseeeesseeeeseeeeseaeeeseeeesseeeessseeeesseeeeeseeeessaeeesas', 'abuse', 'event', 'ensure', 'action', 'cccccccsccssscsssecsseccssecssecseecseecsseeseecsaeeseecesesseeecssesseeeseaecsseesessssseeseeeseseeseeeseneess', 'pe/lease', 'technology', 'stored', 'feedback', 'mechanical', 'cccccsscccccessssceecceeessssseeeecesesaseeeeeecesssseeecesessaseeecesesesseeeeeeeeessseeeeeeeeeas', 'receives', 'dealer', 'change', 'alternative', 'traveling', 'owner', 'might', 'wayne', 'consecutive', 'half', 'reflected', '30th', 'accurately', 'scraping', 'weight', 'continue', 'purchasing', 'offer', 'responsibility', 'year', 'please', 'safe', 'otherwise', 'accessory', 'ccccscccesssseeeeesseeeesesseeeescseeeesssesesessseeeeessesseeessesseeesses', 'went', 'new', 'renewed', 'fax', 'test', 'thereafter', 'inquiry', 'notify', 'nearest', 'exception', 'support', 'determination', '0.0.0.0', 'repaired', 'non-exclusive', 'drivability', 'eligible', 'terminates', 'duration', '330', 'fiance/fianceée', '12', '1,000.00', 'titled', 'belt', 'detention', 'layoff', 'result', '...............', 'placed', '%', 'initiative', 'reading', '..........', 'model', 'participate', 'formulating', 'store', 'doe', 'unrestricted', 'provider', 'buyer', 'document', 'parent/teen', 'cc', '+', 'approaching', 'inc.', 'sobriety', 'via', 'minor', 'value', 'explanation', 'tire', 'area', 'owmessnidp', 'neglect', 'distance', 'january', 'select', 'review', 'disability', 'performed', 'suspend', 'transfer', 'eating', 'investigation', 'appropriately', '........', 'company-owned', 'identification', 'suggested', 'representative', 'vin', 'place', '-', 'cccccscccsssecessseeeesseeeessseeessssecesseeeeseseecesseeeseeseeeseaseeeseaeeeseseeesseaeeeeeaaeeseseeesesneeeesseeesss', 'entering', 'telematics', 'towing', 'criminal', '50', 'served', 'impacted', 'eligibility', 'ccccsccccssseeessneeesssseeessseeeeseeesseaeeessseeessseeeessseeesseeeesseeessseeeesseeeees', 'wrongdoing', 'tool', 'towing/hauling', 'assignee', 'parent', 'participating', 'prohibited', 'custody', '2024', 'law', 'off-roading', 'mailed', 'qualify', 'defective', 'govern', 'headset', 'price', 'submit', 'appropriate', '72', 'interim', 'responding', 'working', 'incomplete', 'limited', 'promotion', 'limit', 'inoperable', '.................', 'accordingly', 'seat', '&', 'cover', 'township', 'meet', 'literature', 'cause', 'failure', 'non-factory', 'tow', 'schedule', 'program', 'stellantis.com', 'liability', 'disconnect', '7541010.', 'providing', 'arrangement', 'per', 'country', 'listed', 'phone', 'citation', 'authorized', 'institution', 'process', 'obey', 'certain', 'reporting', 'reasonable', 'upon', 'discontinue', 'calling', 'cccccceceseeessecsseeeseeceseeesseceseeeseeesseeeeeeeeens', 'coverage', 'seizure', 'ordering', 'binding', 'activity', '2934', 'mileage', 'civil', '26.', 'inaccurate', 'oo', 'period', 'ti', 'reimbursable', 'altered', 'management', 'must', 'active', 'exclusive', 'geolocation', 'equipped', 'motor', 'corporate', 'negligence', '//recalls.mopar.com/', 'considered', 'cece', 'dispatch', 'reason', 'tax', 'work-related', 'loading', '10', 'automated', 'render', 'occur', '270', 'hire', '1,000', 'turo', 'oakland', '52733-2934', 'electronically', 'cargo', 'prior', 'general', '8,000', 'reported', 'ownership', 'current', 'divorce', 'restriction', 'stellantis', 'cccccccccssssscccsssnseeceessseeeesssseeeessseeeeseseseeeesseaseeessseeeseeseaseeesssnseeessns', 'v¥', 'content', 'individual', '«', 'declared', 'occurring', 'possible', 'e.g', 'monthly', 'ride', 'problem', 'request', 'note', 'e', '0.00.0', 'usage', 'needed', 'ia', 'guardian', 'telephone', 'cut-off', 'restraint', 'tab', 'date', 'mile', 'mips', 'seating', 'ooo', 'three', 'outstanding', 'eft', 'battery', '20', 'includes', 'hired', 'deducted', 'cccccccccsssececssseeeeessneeeeeseneeceseueeeesseneeeesssaueeeeseaueeeeseenseseseeaeeesseneeeesseeeeeeneas', 'sub-lease', 'category', 'without', 'employee', '11', 'ee', 'reservation', 'felony', 'manufacturing', 'transferring', \"driver's\", 'gallon', 'arranging', '$', 'well', 'option', 'ccccccccsccsssecessseessseeeesseeesesseesssaseeessseesssneees', 'reserve', 'replacement', 'involved', 'inlaws', 'permanently', 'cccccccsscssecssecsseesssecsseecseessseeseecsseesseeceseesseeceueesseecssecsaeesseeseseeesneseseesseeesneens', 'calculated', 'rental', 'cccccccsccssscsssecsseesseesssecsseeeseecsseesseeseseeeseecsseesseeceseeseeseeeeeaees', 'single', 'promote', 'teen', 'grandchild', 'v', 'due', 'found', 'rent', 'handling', 'pe', 'kit', 'possession', 'talking', 'mail', 'agreement/program', 'associated', 'agreed', 'term', '=', 'customer', 'cell', 'registration', 'charged', 'normal', 'indicating', 'wear', 'provide', 'factual', 'work', 'applied', 'length', 'basic', 'interval', 'restricted', ',', 'file', 'answered', 'marriage', 'basis', 'two', 'manager', 'corporation', 'administered', 'station', 'reorder', 'privacy', ')', 'made', 'replace', 'fine', 'cccccccccssseeeesssseeeesseneeeessseeeeesesseeeesssseeeensas', 'cccccccsseccssseeeessseeessseeessnneeessseeessaeeesssaeeeseaeeeseeeesseaeeesenneessenaees', 'manual', 'fiances/', 'executive', 'moved', 'sole', 'compensation', 'feature', 'bluetooth', 'vehicleservices', 'on-site', 'family', 'top', 'device', 'authority', 'hair', 'telediagnostic', 'missing', 'continues', '2', 'getaround', 'jeopardize', 'sell', 'key', 'retiree', 'factor', 'purchaser', 'annually', 'excessive', 'returned', 'notice', 'expediting', 'abide', 'wrangler', 'loaning', 'accompany', 'contacted', 'obtain', 'response', 'body', 'lock', 'lawsuit', 'multiple', 'p.o', 'sticker', 'refusal', 'signature', '3', 'expressly', 'remote', 'reviewed', 'miscellaneous', 'perform', 'charge', 'cccccccccccccseccseeeseeeeseeeseeesseeeeesssseeeeeees', 'sent', 'promoted', 'transporting']]\n"
     ]
    }
   ],
   "source": [
    "print(tokenized_data)"
   ]
  },
  {
   "cell_type": "code",
   "execution_count": null,
   "id": "510af854-20fa-46da-bddf-08e839b268ca",
   "metadata": {},
   "outputs": [],
   "source": []
  }
 ],
 "metadata": {
  "kernelspec": {
   "display_name": "Python [conda env:aap]",
   "language": "python",
   "name": "conda-env-aap-py"
  },
  "language_info": {
   "codemirror_mode": {
    "name": "ipython",
    "version": 3
   },
   "file_extension": ".py",
   "mimetype": "text/x-python",
   "name": "python",
   "nbconvert_exporter": "python",
   "pygments_lexer": "ipython3",
   "version": "3.12.3"
  }
 },
 "nbformat": 4,
 "nbformat_minor": 5
}
