{
 "cells": [
  {
   "cell_type": "code",
   "execution_count": null,
   "id": "02ba2c63-20b7-4031-8428-83e5364444c3",
   "metadata": {
    "tags": []
   },
   "outputs": [],
   "source": [
    "# pip install beautifulsoup4"
   ]
  },
  {
   "cell_type": "code",
   "execution_count": null,
   "id": "9080f42b-bb61-40b5-a698-175b18ab5f58",
   "metadata": {},
   "outputs": [],
   "source": [
    "url_CVO_home = 'https://thehub.stellantis.com/home/Company-Vehicle-Operations'"
   ]
  },
  {
   "cell_type": "code",
   "execution_count": null,
   "id": "5cc98b7a-7ec3-4ebb-9edf-7aedc9483f7a",
   "metadata": {
    "tags": []
   },
   "outputs": [],
   "source": [
    "text_CVO_home = requests.get(url_CVO_home).text\n",
    "text_CVO_home[:200]"
   ]
  },
  {
   "cell_type": "code",
   "execution_count": null,
   "id": "e30b17df-7676-4daa-9f39-dd49c56d8d85",
   "metadata": {
    "tags": []
   },
   "outputs": [],
   "source": [
    "text_CVO_home"
   ]
  },
  {
   "cell_type": "code",
   "execution_count": null,
   "id": "2dc2ab07-b228-4202-9b29-4baebfc16ca3",
   "metadata": {
    "tags": []
   },
   "outputs": [],
   "source": [
    "## get bs4 object\n",
    "soup_CVO_home = bs4.BeautifulSoup(text_CVO_home)\n",
    " \n",
    "print (soup_CVO_home.prettify())"
   ]
  },
  {
   "cell_type": "code",
   "execution_count": 21,
   "id": "f5e02861-5418-4d0a-b0d5-02afd914dc1d",
   "metadata": {
    "tags": []
   },
   "outputs": [],
   "source": [
    "import pandas as pd\n",
    "import re\n",
    "import requests\n",
    "import bs4"
   ]
  },
  {
   "cell_type": "code",
   "execution_count": 23,
   "id": "6f0aea20-3d20-4ebf-b5b9-4f2d6de35512",
   "metadata": {
    "tags": []
   },
   "outputs": [],
   "source": [
    "url_CVO_glass = 'https://thehub.stellantis.com/home/ls/content/4610721416085504/Company-Vehicle-Operations/maintenance-modifications-roadside/glass'"
   ]
  },
  {
   "cell_type": "code",
   "execution_count": 25,
   "id": "44cba2bb-55e0-4ecd-9800-17fd6ac22603",
   "metadata": {
    "tags": []
   },
   "outputs": [
    {
     "data": {
      "text/plain": [
       "'<!DOCTYPE html><html lang=\"en\"><head>\\n    <meta charset=\"utf-8\">\\n    <title>Identity Provider Manager</title>\\n\\n    <base href=\"/\">\\n\\n    <meta name=\"viewport\" content=\"width=device-width, initial-scale'"
      ]
     },
     "execution_count": 25,
     "metadata": {},
     "output_type": "execute_result"
    }
   ],
   "source": [
    "text_CVO_glass = requests.get(url_CVO_glass).text\n",
    "text_CVO_glass[:200]"
   ]
  },
  {
   "cell_type": "code",
   "execution_count": 27,
   "id": "2f189355-b361-4e76-869b-fc760cbfd936",
   "metadata": {
    "tags": []
   },
   "outputs": [
    {
     "name": "stdout",
     "output_type": "stream",
     "text": [
      "<!DOCTYPE html>\n",
      "<html lang=\"en\">\n",
      " <head>\n",
      "  <meta charset=\"utf-8\"/>\n",
      "  <title>\n",
      "   Identity Provider Manager\n",
      "  </title>\n",
      "  <base href=\"/\"/>\n",
      "  <meta content=\"width=device-width, initial-scale=1.0, maximum-scale=1.0, user-scalable=0\" name=\"viewport\"/>\n",
      "  <link href=\"favicon.ico\" rel=\"icon\" type=\"image/x-icon\"/>\n",
      "  <link href=\"https://fonts.googleapis.com\" rel=\"preconnect\"/>\n",
      "  <link crossorigin=\"\" href=\"https://fonts.gstatic.com\" rel=\"preconnect\"/>\n",
      "  <style type=\"text/css\">\n",
      "   @font-face{font-family:'Encode Sans';font-style:normal;font-weight:300;font-stretch:100%;font-display:swap;src:url(https://fonts.gstatic.com/s/encodesans/v19/LDIhapOFNxEwR-Bd1O9uYNmnUQomAgE25imKSbHLR8A6Sw_lSgfR.woff2) format('woff2');unicode-range:U+0102-0103, U+0110-0111, U+0128-0129, U+0168-0169, U+01A0-01A1, U+01AF-01B0, U+0300-0301, U+0303-0304, U+0308-0309, U+0323, U+0329, U+1EA0-1EF9, U+20AB;}@font-face{font-family:'Encode Sans';font-style:normal;font-weight:300;font-stretch:100%;font-display:swap;src:url(https://fonts.gstatic.com/s/encodesans/v19/LDIhapOFNxEwR-Bd1O9uYNmnUQomAgE25imKSbHLRsA6Sw_lSgfR.woff2) format('woff2');unicode-range:U+0100-02AF, U+0304, U+0308, U+0329, U+1E00-1E9F, U+1EF2-1EFF, U+2020, U+20A0-20AB, U+20AD-20CF, U+2113, U+2C60-2C7F, U+A720-A7FF;}@font-face{font-family:'Encode Sans';font-style:normal;font-weight:300;font-stretch:100%;font-display:swap;src:url(https://fonts.gstatic.com/s/encodesans/v19/LDIhapOFNxEwR-Bd1O9uYNmnUQomAgE25imKSbHLSMA6Sw_lSg.woff2) format('woff2');unicode-range:U+0000-00FF, U+0131, U+0152-0153, U+02BB-02BC, U+02C6, U+02DA, U+02DC, U+0304, U+0308, U+0329, U+2000-206F, U+2074, U+20AC, U+2122, U+2191, U+2193, U+2212, U+2215, U+FEFF, U+FFFD;}@font-face{font-family:'Encode Sans';font-style:normal;font-weight:400;font-stretch:100%;font-display:swap;src:url(https://fonts.gstatic.com/s/encodesans/v19/LDIhapOFNxEwR-Bd1O9uYNmnUQomAgE25imKSbHLR8A6Sw_lSgfR.woff2) format('woff2');unicode-range:U+0102-0103, U+0110-0111, U+0128-0129, U+0168-0169, U+01A0-01A1, U+01AF-01B0, U+0300-0301, U+0303-0304, U+0308-0309, U+0323, U+0329, U+1EA0-1EF9, U+20AB;}@font-face{font-family:'Encode Sans';font-style:normal;font-weight:400;font-stretch:100%;font-display:swap;src:url(https://fonts.gstatic.com/s/encodesans/v19/LDIhapOFNxEwR-Bd1O9uYNmnUQomAgE25imKSbHLRsA6Sw_lSgfR.woff2) format('woff2');unicode-range:U+0100-02AF, U+0304, U+0308, U+0329, U+1E00-1E9F, U+1EF2-1EFF, U+2020, U+20A0-20AB, U+20AD-20CF, U+2113, U+2C60-2C7F, U+A720-A7FF;}@font-face{font-family:'Encode Sans';font-style:normal;font-weight:400;font-stretch:100%;font-display:swap;src:url(https://fonts.gstatic.com/s/encodesans/v19/LDIhapOFNxEwR-Bd1O9uYNmnUQomAgE25imKSbHLSMA6Sw_lSg.woff2) format('woff2');unicode-range:U+0000-00FF, U+0131, U+0152-0153, U+02BB-02BC, U+02C6, U+02DA, U+02DC, U+0304, U+0308, U+0329, U+2000-206F, U+2074, U+20AC, U+2122, U+2191, U+2193, U+2212, U+2215, U+FEFF, U+FFFD;}@font-face{font-family:'Encode Sans';font-style:normal;font-weight:500;font-stretch:100%;font-display:swap;src:url(https://fonts.gstatic.com/s/encodesans/v19/LDIhapOFNxEwR-Bd1O9uYNmnUQomAgE25imKSbHLR8A6Sw_lSgfR.woff2) format('woff2');unicode-range:U+0102-0103, U+0110-0111, U+0128-0129, U+0168-0169, U+01A0-01A1, U+01AF-01B0, U+0300-0301, U+0303-0304, U+0308-0309, U+0323, U+0329, U+1EA0-1EF9, U+20AB;}@font-face{font-family:'Encode Sans';font-style:normal;font-weight:500;font-stretch:100%;font-display:swap;src:url(https://fonts.gstatic.com/s/encodesans/v19/LDIhapOFNxEwR-Bd1O9uYNmnUQomAgE25imKSbHLRsA6Sw_lSgfR.woff2) format('woff2');unicode-range:U+0100-02AF, U+0304, U+0308, U+0329, U+1E00-1E9F, U+1EF2-1EFF, U+2020, U+20A0-20AB, U+20AD-20CF, U+2113, U+2C60-2C7F, U+A720-A7FF;}@font-face{font-family:'Encode Sans';font-style:normal;font-weight:500;font-stretch:100%;font-display:swap;src:url(https://fonts.gstatic.com/s/encodesans/v19/LDIhapOFNxEwR-Bd1O9uYNmnUQomAgE25imKSbHLSMA6Sw_lSg.woff2) format('woff2');unicode-range:U+0000-00FF, U+0131, U+0152-0153, U+02BB-02BC, U+02C6, U+02DA, U+02DC, U+0304, U+0308, U+0329, U+2000-206F, U+2074, U+20AC, U+2122, U+2191, U+2193, U+2212, U+2215, U+FEFF, U+FFFD;}@font-face{font-family:'Encode Sans';font-style:normal;font-weight:600;font-stretch:100%;font-display:swap;src:url(https://fonts.gstatic.com/s/encodesans/v19/LDIhapOFNxEwR-Bd1O9uYNmnUQomAgE25imKSbHLR8A6Sw_lSgfR.woff2) format('woff2');unicode-range:U+0102-0103, U+0110-0111, U+0128-0129, U+0168-0169, U+01A0-01A1, U+01AF-01B0, U+0300-0301, U+0303-0304, U+0308-0309, U+0323, U+0329, U+1EA0-1EF9, U+20AB;}@font-face{font-family:'Encode Sans';font-style:normal;font-weight:600;font-stretch:100%;font-display:swap;src:url(https://fonts.gstatic.com/s/encodesans/v19/LDIhapOFNxEwR-Bd1O9uYNmnUQomAgE25imKSbHLRsA6Sw_lSgfR.woff2) format('woff2');unicode-range:U+0100-02AF, U+0304, U+0308, U+0329, U+1E00-1E9F, U+1EF2-1EFF, U+2020, U+20A0-20AB, U+20AD-20CF, U+2113, U+2C60-2C7F, U+A720-A7FF;}@font-face{font-family:'Encode Sans';font-style:normal;font-weight:600;font-stretch:100%;font-display:swap;src:url(https://fonts.gstatic.com/s/encodesans/v19/LDIhapOFNxEwR-Bd1O9uYNmnUQomAgE25imKSbHLSMA6Sw_lSg.woff2) format('woff2');unicode-range:U+0000-00FF, U+0131, U+0152-0153, U+02BB-02BC, U+02C6, U+02DA, U+02DC, U+0304, U+0308, U+0329, U+2000-206F, U+2074, U+20AC, U+2122, U+2191, U+2193, U+2212, U+2215, U+FEFF, U+FFFD;}@font-face{font-family:'Encode Sans';font-style:normal;font-weight:700;font-stretch:100%;font-display:swap;src:url(https://fonts.gstatic.com/s/encodesans/v19/LDIhapOFNxEwR-Bd1O9uYNmnUQomAgE25imKSbHLR8A6Sw_lSgfR.woff2) format('woff2');unicode-range:U+0102-0103, U+0110-0111, U+0128-0129, U+0168-0169, U+01A0-01A1, U+01AF-01B0, U+0300-0301, U+0303-0304, U+0308-0309, U+0323, U+0329, U+1EA0-1EF9, U+20AB;}@font-face{font-family:'Encode Sans';font-style:normal;font-weight:700;font-stretch:100%;font-display:swap;src:url(https://fonts.gstatic.com/s/encodesans/v19/LDIhapOFNxEwR-Bd1O9uYNmnUQomAgE25imKSbHLRsA6Sw_lSgfR.woff2) format('woff2');unicode-range:U+0100-02AF, U+0304, U+0308, U+0329, U+1E00-1E9F, U+1EF2-1EFF, U+2020, U+20A0-20AB, U+20AD-20CF, U+2113, U+2C60-2C7F, U+A720-A7FF;}@font-face{font-family:'Encode Sans';font-style:normal;font-weight:700;font-stretch:100%;font-display:swap;src:url(https://fonts.gstatic.com/s/encodesans/v19/LDIhapOFNxEwR-Bd1O9uYNmnUQomAgE25imKSbHLSMA6Sw_lSg.woff2) format('woff2');unicode-range:U+0000-00FF, U+0131, U+0152-0153, U+02BB-02BC, U+02C6, U+02DA, U+02DC, U+0304, U+0308, U+0329, U+2000-206F, U+2074, U+20AC, U+2122, U+2191, U+2193, U+2212, U+2215, U+FEFF, U+FFFD;}\n",
      "  </style>\n",
      "  <style>\n",
      "   @charset \"UTF-8\";:root{--bs-blue:#0d6efd;--bs-indigo:#6610f2;--bs-purple:#6f42c1;--bs-pink:#d63384;--bs-red:#dc3545;--bs-orange:#fd7e14;--bs-yellow:#ffc107;--bs-green:#198754;--bs-teal:#20c997;--bs-cyan:#0dcaf0;--bs-white:#fff;--bs-gray:#6c757d;--bs-gray-dark:#343a40;--bs-gray-100:#f8f9fa;--bs-gray-200:#e9ecef;--bs-gray-300:#dee2e6;--bs-gray-400:#ced4da;--bs-gray-500:#adb5bd;--bs-gray-600:#6c757d;--bs-gray-700:#495057;--bs-gray-800:#343a40;--bs-gray-900:#212529;--bs-primary:#0d6efd;--bs-secondary:#6c757d;--bs-success:#198754;--bs-info:#0dcaf0;--bs-warning:#ffc107;--bs-danger:#dc3545;--bs-light:#f8f9fa;--bs-dark:#212529;--bs-primary-rgb:13,110,253;--bs-secondary-rgb:108,117,125;--bs-success-rgb:25,135,84;--bs-info-rgb:13,202,240;--bs-warning-rgb:255,193,7;--bs-danger-rgb:220,53,69;--bs-light-rgb:248,249,250;--bs-dark-rgb:33,37,41;--bs-white-rgb:255,255,255;--bs-black-rgb:0,0,0;--bs-body-color-rgb:33,37,41;--bs-body-bg-rgb:255,255,255;--bs-font-sans-serif:system-ui,-apple-system,\"Segoe UI\",Roboto,\"Helvetica Neue\",Arial,\"Noto Sans\",\"Liberation Sans\",sans-serif,\"Apple Color Emoji\",\"Segoe UI Emoji\",\"Segoe UI Symbol\",\"Noto Color Emoji\";--bs-font-monospace:SFMono-Regular,Menlo,Monaco,Consolas,\"Liberation Mono\",\"Courier New\",monospace;--bs-gradient:linear-gradient(180deg,#ffffff26,#fff0);--bs-body-font-family:var(--bs-font-sans-serif);--bs-body-font-size:1rem;--bs-body-font-weight:400;--bs-body-line-height:1.5;--bs-body-color:#212529;--bs-body-bg:#fff;}*,:after,:before{box-sizing:border-box;}@media (prefers-reduced-motion: no-preference){:root{scroll-behavior:smooth;}}body{font-family:var(--bs-body-font-family);font-size:var(--bs-body-font-size);font-weight:var(--bs-body-font-weight);line-height:var(--bs-body-line-height);color:var(--bs-body-color);text-align:var(--bs-body-text-align);background-color:var(--bs-body-bg);-webkit-text-size-adjust:100%;-webkit-tap-highlight-color:rgba(0,0,0,0);}.mat-typography{font:400 14px/20px Roboto,Helvetica Neue,sans-serif;letter-spacing:normal;}body,html{background:#fff!important;height:100%;}body{margin:0;font-family:Montserrat,Poppins,Roboto,Helvetica Neue,sans-serif;}html{-webkit-text-size-adjust:none;}\n",
      "  </style>\n",
      "  <link href=\"styles.css\" media=\"print\" onload=\"this.media='all'\" rel=\"stylesheet\"/>\n",
      "  <noscript>\n",
      "   <link href=\"styles.css\" rel=\"stylesheet\"/>\n",
      "  </noscript>\n",
      " </head>\n",
      " <body class=\"mat-typography\">\n",
      "  <app-root>\n",
      "  </app-root>\n",
      "  <script defer=\"\" src=\"runtime.js\">\n",
      "  </script>\n",
      "  <script defer=\"\" src=\"polyfills.js\">\n",
      "  </script>\n",
      "  <script defer=\"\" src=\"vendor.js\">\n",
      "  </script>\n",
      "  <script defer=\"\" src=\"main.js\">\n",
      "  </script>\n",
      "  <script async=\"\" src=\"https://www.googletagmanager.com/gtag/js?id=G-GL8CZR7WQ2\">\n",
      "  </script>\n",
      "  <script>\n",
      "   window.dataLayer = window.dataLayer || [];\n",
      "    function gtag() {\n",
      "      dataLayer.push(arguments);\n",
      "    }\n",
      "\n",
      "    gtag(\"js\", new Date());\n",
      "    gtag(\"config\", \"G-GL8CZR7WQ2\");\n",
      "  </script>\n",
      " </body>\n",
      "</html>\n",
      "\n"
     ]
    }
   ],
   "source": [
    "## get bs4 object\n",
    "soup_CVO_glass = bs4.BeautifulSoup(text_CVO_glass)\n",
    " \n",
    "print (soup_CVO_glass.prettify())"
   ]
  },
  {
   "cell_type": "code",
   "execution_count": null,
   "id": "6617f3ca-ee26-49bb-bfc0-6d9b3ade3589",
   "metadata": {
    "tags": []
   },
   "outputs": [],
   "source": [
    "pip install pdfquery"
   ]
  },
  {
   "cell_type": "code",
   "execution_count": null,
   "id": "ced5769e-1d3d-4b4c-addc-0d8a58134c12",
   "metadata": {
    "tags": []
   },
   "outputs": [],
   "source": [
    "from pdfquery import PDFQuery\n",
    "\n",
    "pdf = PDFQuery('./docs/tc_test.pdf')\n",
    "pdf.load()\n",
    "\n",
    "# Use CSS-like selectors to locate the elements\n",
    "text_elements = pdf.pq('LTTextLineHorizontal')\n",
    "\n",
    "# Extract the text from the elements\n",
    "text = [t.text for t in text_elements]"
   ]
  },
  {
   "cell_type": "markdown",
   "id": "ff5e6c7e-2004-425f-aa2f-5522a62281d8",
   "metadata": {},
   "source": [
    "https://pypi.org/project/pdfquery/"
   ]
  },
  {
   "cell_type": "code",
   "execution_count": null,
   "id": "28b38011-27c8-4146-9358-4c26efb6bac0",
   "metadata": {},
   "outputs": [],
   "source": [
    "from pdfquery.cache import FileCache\n",
    "pdfquery.PDFQuery('./docs/TermsConditions.pdf', parse_tree_cacher=FileCache(\"/tmp/\"))"
   ]
  },
  {
   "cell_type": "code",
   "execution_count": null,
   "id": "e7475641-1f38-4633-9c04-95869b7f88f6",
   "metadata": {
    "tags": []
   },
   "outputs": [],
   "source": [
    "print(text)"
   ]
  },
  {
   "cell_type": "code",
   "execution_count": null,
   "id": "811831f4-08fe-499e-b27d-39899c641b13",
   "metadata": {
    "tags": []
   },
   "outputs": [],
   "source": [
    "pdf.tree.write('./docs/tc_test.pdf', pretty_print=True)"
   ]
  },
  {
   "cell_type": "markdown",
   "id": "6073813d-1c04-4700-bb94-dd5bb74b7ffe",
   "metadata": {},
   "source": [
    "https://pypi.org/project/fitz/\n",
    "\n",
    "Need microsoft c++"
   ]
  },
  {
   "cell_type": "code",
   "execution_count": null,
   "id": "bff3f547-ff6d-4715-af6c-6d7db4e46006",
   "metadata": {
    "tags": []
   },
   "outputs": [],
   "source": [
    "pip install fitz"
   ]
  },
  {
   "cell_type": "code",
   "execution_count": null,
   "id": "10896758-d119-4710-ab61-64f231cecd7a",
   "metadata": {
    "tags": []
   },
   "outputs": [],
   "source": [
    "from fitz import open as fitz_open, Document, Page, Rect\n",
    "\n",
    "query1 = Rect(165.6, 165.6, 165.6, 165.6)  # \"Text 1\" in simple.pdf\n",
    "doc: Document = fitz_open('./docs/tc_test.pdf')\n",
    "\n",
    "# query1 = Rect(130, 381, 130, 381)  # Looking for \"Gaussian\" in more_complicated.pdf\n",
    "# doc: Document = fitz_open(\"more_complicated.pdf\")\n",
    "\n",
    "page: Page = doc.load_page(0)\n",
    "\n",
    "page_dict: dict = page.get_text(\"dict\")\n",
    "\n",
    "bbox: Rect  # a variable we'll reuse as we work down to our query\n",
    "text1 = \"\"  # the text we're looking for with query1\n",
    "\n",
    "block: dict\n",
    "for block in page_dict[\"blocks\"]:\n",
    "    if block[\"type\"] == 1:  # skip, it's an image\n",
    "        continue\n",
    "\n",
    "    bbox = Rect(block[\"bbox\"])\n",
    "    if not bbox.contains(query1):\n",
    "        continue\n",
    "\n",
    "    line: dict\n",
    "    for line in block[\"lines\"]:\n",
    "\n",
    "        bbox = Rect(line[\"bbox\"])\n",
    "        if not bbox.contains(query1):\n",
    "            continue\n",
    "\n",
    "        span: dict\n",
    "        for span in line[\"spans\"]:\n",
    "\n",
    "            bbox = Rect(span[\"bbox\"])\n",
    "            if not bbox.contains(query1):\n",
    "                continue\n",
    "\n",
    "            text1 = span[\"text\"]\n",
    "\n",
    "print(text1)"
   ]
  },
  {
   "cell_type": "markdown",
   "id": "60bf3361-aeca-4e95-9efb-aa86ab8b8be1",
   "metadata": {},
   "source": [
    "https://stackoverflow.com/questions/59130672/how-to-scrape-pdfs-using-python-specific-content-only"
   ]
  },
  {
   "cell_type": "markdown",
   "id": "c9af502d-e2d1-4462-a3e1-cc9d4c0142d6",
   "metadata": {},
   "source": [
    "https://pypi.org/project/pdfreader/"
   ]
  },
  {
   "cell_type": "code",
   "execution_count": null,
   "id": "3afac409-96b4-4376-b1e8-a9b9c19348fc",
   "metadata": {
    "tags": []
   },
   "outputs": [],
   "source": [
    "pip install pdfreader"
   ]
  },
  {
   "cell_type": "code",
   "execution_count": null,
   "id": "070d2902-6c7d-415e-a862-b57b08438e0e",
   "metadata": {
    "tags": []
   },
   "outputs": [],
   "source": [
    "from pdfreader import SimplePDFViewer"
   ]
  },
  {
   "cell_type": "code",
   "execution_count": null,
   "id": "b530c1a8-7fc1-4aae-86b6-2563b5421022",
   "metadata": {},
   "outputs": [],
   "source": [
    "fd = open('./docs/tc_test.pdf',\"rb\")\n",
    "viewer = SimplePDFViewer(fd)\n",
    "viewer.metadata\n",
    "viewer.render()"
   ]
  },
  {
   "cell_type": "code",
   "execution_count": null,
   "id": "0ce350a8-d2fe-4c61-9665-db30baa05cc4",
   "metadata": {
    "tags": []
   },
   "outputs": [],
   "source": [
    "for canvas in viewer:\n",
    "    page_images = canvas.images\n",
    "    page_forms = canvas.forms\n",
    "    page_text = canvas.text_content\n",
    "    page_inline_images = canvas.inline_images\n",
    "    page_strings = canvas.strings"
   ]
  },
  {
   "cell_type": "code",
   "execution_count": null,
   "id": "592137ae-eb76-454c-8997-be42667eaf6e",
   "metadata": {
    "tags": []
   },
   "outputs": [],
   "source": [
    "page_text"
   ]
  },
  {
   "cell_type": "code",
   "execution_count": null,
   "id": "f8ed7ffd-b2b9-4301-8916-71f9576b344a",
   "metadata": {},
   "outputs": [],
   "source": []
  }
 ],
 "metadata": {
  "kernelspec": {
   "display_name": "Python [conda env:aap]",
   "language": "python",
   "name": "conda-env-aap-py"
  },
  "language_info": {
   "codemirror_mode": {
    "name": "ipython",
    "version": 3
   },
   "file_extension": ".py",
   "mimetype": "text/x-python",
   "name": "python",
   "nbconvert_exporter": "python",
   "pygments_lexer": "ipython3",
   "version": "3.12.3"
  }
 },
 "nbformat": 4,
 "nbformat_minor": 5
}
