{
 "cells": [
  {
   "cell_type": "code",
   "execution_count": null,
   "id": "5064f39e-a71d-4256-9353-cd59731e8f85",
   "metadata": {
    "tags": []
   },
   "outputs": [],
   "source": [
    "# Importing necessary modules\n",
    "from selenium import webdriver\n",
    "from selenium.webdriver.common.by import By\n",
    "import time\n"
   ]
  },
  {
   "cell_type": "markdown",
   "id": "59d87f8c-8e24-493b-9c58-6cffe0e8ca9d",
   "metadata": {},
   "source": [
    "I can get through the first username entry and click box, the google login isn't working, and ultimately it will need a code from a cell text"
   ]
  },
  {
   "cell_type": "code",
   "execution_count": null,
   "id": "d49c849a-230f-4edc-8fc2-a8e5720082bf",
   "metadata": {
    "tags": []
   },
   "outputs": [],
   "source": [
    "# WebDriver Chrome\n",
    "driver = webdriver.Chrome()\n",
    "\n",
    "# Target URL\n",
    "driver.get(\"http://thehub.stellantis.com/home/ls/content/4610721416085504/Company-Vehicle-Operations/maintenance-modifications-roadside/glass\")\n",
    "\n",
    "username = driver.find_element(By.XPATH, '/html/body/app-root/div/app-layout/div/div[2]/div[2]/div/div[1]/mat-form-field/div/div[1]/div/input')\n",
    "username.send_keys(\"anna.hojdila@stellantis.com\") #type your own username here\n",
    "\n",
    "driver.find_element(By.XPATH, '/html/body/app-root/div/app-layout/div/div[2]/div[2]/div/div[2]/div[2]/button').click()\n",
    "\n",
    "# g_username = driver.find_element(By.XPATH, '/html/body/div[1]/div[1]/div[2]/c-wiz/div/div[2]/div/div/div[1]/form/span/section/div/div/div[1]/div/div[1]/div/div[1]/input')\n",
    "# g_username.send_keys(\"anna.hojdila\")\n",
    "\n",
    "# driver.find_element(By.XPATH, '/html/body/div[1]/div[1]/div[2]/c-wiz/div/div[3]/div/div[1]/div/div/button').click()\n",
    "\n",
    "# To load entire webpage\n",
    "time.sleep(5)\n",
    "\n",
    "text2 = (driver.find_element(By.XPATH, \"/html/body\").text)\n",
    "\n",
    "# Printing the whole body text\n",
    "print(driver.find_element(By.XPATH, \"/html/body\").text)\n",
    " \n",
    "# Closing the driver\n",
    "driver.close()"
   ]
  },
  {
   "cell_type": "code",
   "execution_count": 45,
   "id": "afc34098-ec87-4572-b6dc-5674e36ba659",
   "metadata": {
    "tags": []
   },
   "outputs": [
    {
     "data": {
      "text/plain": [
       "\"New Screen. Same Login.\\nProvide your usual login information to continue to The Hub.\\nWelcome!\\nPlease enter your company ID or work email address to continue to the login screen for Stellantis' intranet, The Hub.\\nUser ID or Work Email\\nRemember me\\nNEXT\\nVersion: 0.20.0\""
      ]
     },
     "execution_count": 45,
     "metadata": {},
     "output_type": "execute_result"
    }
   ],
   "source": [
    "text"
   ]
  },
  {
   "cell_type": "code",
   "execution_count": 47,
   "id": "d108f3fb-ab2c-42bc-9822-da32bb80020f",
   "metadata": {
    "tags": []
   },
   "outputs": [
    {
     "data": {
      "text/plain": [
       "'Sign in with Google\\nSign in\\nto continue to lumapps.com\\nEnter your email\\n@stellantis.com\\nForgot email?\\nTo continue, Google will share your name, email address, language preference, and profile picture with lumapps.com. Before using this app, you can review lumapps.com’s privacy policy and terms of service.\\nNext\\nCreate account\\nEnglish (United States)\\nHelp\\nPrivacy\\nTerms\\nSign in to continue to lumapps.com'"
      ]
     },
     "execution_count": 47,
     "metadata": {},
     "output_type": "execute_result"
    }
   ],
   "source": [
    "text1"
   ]
  }
 ],
 "metadata": {
  "kernelspec": {
   "display_name": "Python [conda env:aap]",
   "language": "python",
   "name": "conda-env-aap-py"
  },
  "language_info": {
   "codemirror_mode": {
    "name": "ipython",
    "version": 3
   },
   "file_extension": ".py",
   "mimetype": "text/x-python",
   "name": "python",
   "nbconvert_exporter": "python",
   "pygments_lexer": "ipython3",
   "version": "3.12.3"
  }
 },
 "nbformat": 4,
 "nbformat_minor": 5
}
