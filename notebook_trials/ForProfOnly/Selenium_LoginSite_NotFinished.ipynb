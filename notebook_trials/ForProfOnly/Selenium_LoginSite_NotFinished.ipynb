{
 "cells": [
  {
   "cell_type": "code",
   "execution_count": 2,
   "id": "5064f39e-a71d-4256-9353-cd59731e8f85",
   "metadata": {
    "tags": []
   },
   "outputs": [],
   "source": [
    "# Importing necessary modules\n",
    "from selenium import webdriver\n",
    "from selenium.webdriver.common.by import By\n",
    "import time\n"
   ]
  },
  {
   "cell_type": "markdown",
   "id": "59d87f8c-8e24-493b-9c58-6cffe0e8ca9d",
   "metadata": {},
   "source": [
    "I can get through the first username entry and click box, the google login isn't working, and ultimately it will need a code from a cell text - but it works up until that point! If you let it run through, the Google screen will close, and the text from the Google login screen will print."
   ]
  },
  {
   "cell_type": "code",
   "execution_count": 21,
   "id": "d49c849a-230f-4edc-8fc2-a8e5720082bf",
   "metadata": {
    "tags": []
   },
   "outputs": [
    {
     "name": "stdout",
     "output_type": "stream",
     "text": [
      "Sign in with Google\n",
      "Sign in\n",
      "to continue to lumapps.com\n",
      "Enter your email\n",
      "@stellantis.com\n",
      "Forgot email?\n",
      "To continue, Google will share your name, email address, language preference, and profile picture with lumapps.com. Before using this app, you can review lumapps.com’s privacy policy and terms of service.\n",
      "Next\n",
      "Create account\n",
      "English (United States)\n",
      "Help\n",
      "Privacy\n",
      "Terms\n",
      "Sign in to continue to lumapps.com\n"
     ]
    }
   ],
   "source": [
    "# WebDriver Chrome\n",
    "driver = webdriver.Chrome()\n",
    "\n",
    "# Target URL\n",
    "driver.get(\"http://thehub.stellantis.com/home/ls/content/4610721416085504/Company-Vehicle-Operations/maintenance-modifications-roadside/glass\")\n",
    "\n",
    "username = driver.find_element(By.XPATH, '/html/body/app-root/div/app-layout/div/div[2]/div[2]/div/div[1]/mat-form-field/div/div[1]/div/input')\n",
    "username.send_keys(\"anna.hojdila@stellantis.com\") #type your own username here\n",
    "\n",
    "driver.find_element(By.XPATH, '/html/body/app-root/div/app-layout/div/div[2]/div[2]/div/div[2]/div[2]/button').click()\n",
    "\n",
    "# g_username = driver.find_element(By.XPATH, '/html/body/div[1]/div[1]/div[2]/c-wiz/div/div[2]/div/div/div[1]/form/span/section/div/div/div[1]/div/div[1]/div/div[1]/input')\n",
    "# g_username.send_keys(\"anna.hojdila\")\n",
    "\n",
    "# driver.find_element(By.XPATH, '/html/body/div[1]/div[1]/div[2]/c-wiz/div/div[3]/div/div[1]/div/div/button').click()\n",
    "\n",
    "# To load entire webpage\n",
    "time.sleep(5)\n",
    "\n",
    "text = (driver.find_element(By.XPATH, \"/html/body\").text)\n",
    "\n",
    "# Printing the whole body text\n",
    "print(driver.find_element(By.XPATH, \"/html/body\").text)\n",
    " \n",
    "# Closing the driver\n",
    "driver.close()"
   ]
  },
  {
   "cell_type": "code",
   "execution_count": null,
   "id": "f6358eca-72c5-412d-9c9b-3be7c3068ce5",
   "metadata": {},
   "outputs": [],
   "source": []
  }
 ],
 "metadata": {
  "kernelspec": {
   "display_name": "Python [conda env:aap]",
   "language": "python",
   "name": "conda-env-aap-py"
  },
  "language_info": {
   "codemirror_mode": {
    "name": "ipython",
    "version": 3
   },
   "file_extension": ".py",
   "mimetype": "text/x-python",
   "name": "python",
   "nbconvert_exporter": "python",
   "pygments_lexer": "ipython3",
   "version": "3.12.3"
  }
 },
 "nbformat": 4,
 "nbformat_minor": 5
}
