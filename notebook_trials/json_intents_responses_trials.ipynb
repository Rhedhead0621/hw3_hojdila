{
 "cells": [
  {
   "cell_type": "markdown",
   "id": "480c3e55-cfd0-4e36-b80d-14b12279553e",
   "metadata": {},
   "source": [
    "The json files continued to be imported as a list instead of a dictionary, so I decided to make my own dictionary - then just had to change\n",
    "the chatbot code to accept the intents - a json file isn't necessary for the chatbot process"
   ]
  },
  {
   "cell_type": "code",
   "execution_count": 38,
   "id": "0e15b6f9-aa4b-4eac-b54e-6348a94356af",
   "metadata": {
    "tags": []
   },
   "outputs": [],
   "source": [
    "import json\n",
    "\n",
    "pattern = [\n",
    "{\n",
    "    \"hello\": \"Hello!\",\n",
    "    \"hi\": \"Hello!\",\n",
    "    \"good bye\": \"Good bye!\",\n",
    "    \"quit\": \"Good bye!\"\n",
    "}\n",
    "]\n",
    "\n",
    "# Write patterns to patterns.json\n",
    "with open('./data/msg.json', 'w') as file:\n",
    "    json.dump(pattern, file, indent=4)"
   ]
  },
  {
   "cell_type": "code",
   "execution_count": 8,
   "id": "6a9392dd-cdce-4010-a257-e154cbb79048",
   "metadata": {},
   "outputs": [],
   "source": [
    "import json\n",
    "\n",
    "msg = [\n",
    "    {\n",
    "        \"pattern\": r\"hello\",\n",
    "        \"responses\": [\"Hello!\"],\n",
    "        \"context_set\": \"\"\n",
    "    },\n",
    "    {\n",
    "        \"pattern\": r\"hi\",\n",
    "        \"responses\": [\"Hello!\"],\n",
    "        \"context_set\": \"\"\n",
    "    },\n",
    "    {\n",
    "        \"pattern\": r\"good bye\",\n",
    "        \"responses\": [\"Good bye!\"],\n",
    "        \"context_set\": \"\"\n",
    "    },\n",
    "    {\n",
    "        \"pattern\": r\"quit\",\n",
    "        \"responses\": [\"Good bye!\"],\n",
    "        \"context_set\": \"\"\n",
    "    },\n",
    "    {\n",
    "        \"pattern\": r\".*\",\n",
    "        \"responses\": [\"Sorry! I don't understand\"],\n",
    "        \"context_set\": \"\"\n",
    "    }\n",
    "]\n",
    "\n",
    "# Write patterns to patterns.json\n",
    "with open('./data/msg.json', 'w') as file:\n",
    "    json.dump(msg, file, indent=4)\n"
   ]
  },
  {
   "cell_type": "markdown",
   "id": "5066459b-ecd2-49bd-b22d-85b134c400a4",
   "metadata": {},
   "source": [
    "https://stackoverflow.com/questions/60044233/converting-excel-into-json-using-python"
   ]
  },
  {
   "cell_type": "code",
   "execution_count": 15,
   "id": "bf751ad8-5a68-46b2-aa63-ce76ffae517b",
   "metadata": {
    "tags": []
   },
   "outputs": [
    {
     "name": "stdout",
     "output_type": "stream",
     "text": [
      "Excel Sheet to JSON:\n",
      " [{\"pattern\":\"mis4900\",\"responses\":\"You can find the current course website at http:\\/\\/www.sba.oakland.edu\\/faculty\\/isken\\/courses\\/mis6900_s24\\/, You can find the permalink at http:\\/\\/www.sba.oakland.edu\\/faculty\\/isken\\/courses\\/aap\"},{\"pattern\":\"mis4460\",\"responses\":\"You can find the current course website at http:\\/\\/www.sba.oakland.edu\\/faculty\\/isken\\/courses\\/mis5460_f23\\/index.html, You can find the permalink at http:\\/\\/www.sba.oakland.edu\\/faculty\\/isken\\/courses\\/ba\"},{\"pattern\":\"mis4470\",\"responses\":\"You can find the current course website at http:\\/\\/www.sba.oakland.edu\\/faculty\\/isken\\/courses\\/mis5470_f23\\/index.html, You can find the permalink at http:\\/\\/www.sba.oakland.edu\\/faculty\\/isken\\/courses\\/pcda\"},{\"pattern\":\"mis6900\",\"responses\":\"You can find the current course website at http:\\/\\/www.sba.oakland.edu\\/faculty\\/isken\\/courses\\/mis6900_s24\\/, You can find the permalink at http:\\/\\/www.sba.oakland.edu\\/faculty\\/isken\\/courses\\/aap\"},{\"pattern\":\"mis5460\",\"responses\":\"You can find the current course website at http:\\/\\/www.sba.oakland.edu\\/faculty\\/isken\\/courses\\/mis5460_f23\\/index.html, You can find the permalink at http:\\/\\/www.sba.oakland.edu\\/faculty\\/isken\\/courses\\/ba\"},{\"pattern\":\"mis5470\",\"responses\":\"You can find the current course website at http:\\/\\/www.sba.oakland.edu\\/faculty\\/isken\\/courses\\/mis5470_f23\\/index.html, You can find the permalink at http:\\/\\/www.sba.oakland.edu\\/faculty\\/isken\\/courses\\/pcda\"},{\"pattern\":\"quit\",\"responses\":\"Good bye!\"}]\n"
     ]
    }
   ],
   "source": [
    "import pandas\n",
    "import json\n",
    "\n",
    "# Read excel document\n",
    "excel_data_df = pandas.read_excel('./data/paired_responses.xlsx', sheet_name='Sheet1')\n",
    "#excel_data_df = excel_data_df.fillna(\"\")\n",
    "\n",
    "# Convert excel to string \n",
    "# (define orientation of document in this case from up to down)\n",
    "thisisjson = excel_data_df.to_json(orient='records')\n",
    "\n",
    "# Print out the result\n",
    "print('Excel Sheet to JSON:\\n', thisisjson)\n",
    "\n",
    "# Make the string into a list to be able to input in to a JSON-file\n",
    "thisisjson_dict = json.loads(thisisjson)\n",
    "\n",
    "# Define file to write to and 'w' for write option -> json.dump() \n",
    "# defining the list to write from and file to write to\n",
    "with open('./data/pairs_final.json', 'w') as json_file:\n",
    "    json.dump(thisisjson_dict, json_file)"
   ]
  },
  {
   "cell_type": "markdown",
   "id": "dbf11077-06d4-4fcf-a520-8c7feb323e74",
   "metadata": {},
   "source": [
    "https://www.w3schools.com/python/pandas/ref_df_fillna.asp#:~:text=The%20fillna()%20method%20replaces,in%20the%20original%20DataFrame%20instead."
   ]
  },
  {
   "cell_type": "code",
   "execution_count": 58,
   "id": "4e759bf8-be43-4c02-8f47-6a35d1be5ee8",
   "metadata": {},
   "outputs": [
    {
     "data": {
      "text/html": [
       "<div>\n",
       "<style scoped>\n",
       "    .dataframe tbody tr th:only-of-type {\n",
       "        vertical-align: middle;\n",
       "    }\n",
       "\n",
       "    .dataframe tbody tr th {\n",
       "        vertical-align: top;\n",
       "    }\n",
       "\n",
       "    .dataframe thead th {\n",
       "        text-align: right;\n",
       "    }\n",
       "</style>\n",
       "<table border=\"1\" class=\"dataframe\">\n",
       "  <thead>\n",
       "    <tr style=\"text-align: right;\">\n",
       "      <th></th>\n",
       "      <th>pattern</th>\n",
       "      <th>responses</th>\n",
       "      <th>context_set</th>\n",
       "    </tr>\n",
       "  </thead>\n",
       "  <tbody>\n",
       "    <tr>\n",
       "      <th>0</th>\n",
       "      <td>mis4900</td>\n",
       "      <td>You can find the current course website at htt...</td>\n",
       "      <td></td>\n",
       "    </tr>\n",
       "    <tr>\n",
       "      <th>1</th>\n",
       "      <td>mis4460</td>\n",
       "      <td>You can find the current course website at htt...</td>\n",
       "      <td></td>\n",
       "    </tr>\n",
       "    <tr>\n",
       "      <th>2</th>\n",
       "      <td>mis4470</td>\n",
       "      <td>You can find the current course website at htt...</td>\n",
       "      <td></td>\n",
       "    </tr>\n",
       "    <tr>\n",
       "      <th>3</th>\n",
       "      <td>mis6900</td>\n",
       "      <td>You can find the current course website at htt...</td>\n",
       "      <td></td>\n",
       "    </tr>\n",
       "    <tr>\n",
       "      <th>4</th>\n",
       "      <td>mis5460</td>\n",
       "      <td>You can find the current course website at htt...</td>\n",
       "      <td></td>\n",
       "    </tr>\n",
       "    <tr>\n",
       "      <th>5</th>\n",
       "      <td>mis5470</td>\n",
       "      <td>You can find the current course website at htt...</td>\n",
       "      <td></td>\n",
       "    </tr>\n",
       "    <tr>\n",
       "      <th>6</th>\n",
       "      <td>quit</td>\n",
       "      <td>Good bye!</td>\n",
       "      <td></td>\n",
       "    </tr>\n",
       "  </tbody>\n",
       "</table>\n",
       "</div>"
      ],
      "text/plain": [
       "   pattern                                          responses context_set\n",
       "0  mis4900  You can find the current course website at htt...            \n",
       "1  mis4460  You can find the current course website at htt...            \n",
       "2  mis4470  You can find the current course website at htt...            \n",
       "3  mis6900  You can find the current course website at htt...            \n",
       "4  mis5460  You can find the current course website at htt...            \n",
       "5  mis5470  You can find the current course website at htt...            \n",
       "6     quit                                          Good bye!            "
      ]
     },
     "execution_count": 58,
     "metadata": {},
     "output_type": "execute_result"
    }
   ],
   "source": [
    "import pandas\n",
    "\n",
    "# Read excel document\n",
    "excel_data_df = pandas.read_excel('./data/paired_responses.xlsx', sheet_name='Sheet1')\n",
    "excel_data_df = excel_data_df.fillna(\"\")\n",
    "\n",
    "excel_data_df\n"
   ]
  },
  {
   "cell_type": "code",
   "execution_count": 23,
   "id": "9012658b-a490-4a6d-afb9-a23fb0054225",
   "metadata": {},
   "outputs": [
    {
     "name": "stdout",
     "output_type": "stream",
     "text": [
      "SGLDPB_A\n"
     ]
    }
   ],
   "source": [
    "json_data=[{\n",
    "\n",
    "\"publishTime\" : \"2021-05-29T12:52:15.129Z\",\n",
    "\n",
    "\"data\" : {\n",
    "\n",
    "\"identifier\" : {\n",
    "\n",
    "\"domain\" : \"AB\",\n",
    "\n",
    "\"id\" : \"1771374\",\n",
    "\n",
    "\"version\" : \"58593668\"\n",
    "\n",
    "},\n",
    "\n",
    "\"Accounts\" : [ {\n",
    "\n",
    "\"effectiveEndDate\" : \"3000-01-01T00:00:00Z\",\n",
    "\n",
    "\"Name\" : \"w (S)\",\n",
    "\n",
    "\"effectiveStartDate\" : \"2016-09-16T04:21:33Z\",\n",
    "\n",
    "\"sAccount\" : \"SGLDPB_A\"\n",
    "\n",
    "}]\n",
    "\n",
    "}\n",
    "\n",
    "}]\n",
    "\n",
    "data=json.dumps(json_data)\n",
    "\n",
    "json_to_st=json.loads(data)\n",
    "\n",
    "for item in json_to_st:\n",
    "    print(item.get(\"data\").get(\"Accounts\")[0].get(\"sAccount\"))"
   ]
  },
  {
   "cell_type": "code",
   "execution_count": 25,
   "id": "f3f6df29-f6b9-4ec2-b09d-2dd9b6ca7a00",
   "metadata": {
    "tags": []
   },
   "outputs": [
    {
     "data": {
      "text/plain": [
       "str"
      ]
     },
     "execution_count": 25,
     "metadata": {},
     "output_type": "execute_result"
    }
   ],
   "source": [
    "type(data)"
   ]
  },
  {
   "cell_type": "code",
   "execution_count": 27,
   "id": "1ee52eab-a271-4c01-a298-8f3667ab5a80",
   "metadata": {
    "tags": []
   },
   "outputs": [
    {
     "data": {
      "text/plain": [
       "list"
      ]
     },
     "execution_count": 27,
     "metadata": {},
     "output_type": "execute_result"
    }
   ],
   "source": [
    "type(json_data)"
   ]
  },
  {
   "cell_type": "code",
   "execution_count": 42,
   "id": "48712b2a-a6de-49e2-9f91-7f464a80d8f6",
   "metadata": {
    "tags": []
   },
   "outputs": [
    {
     "name": "stdout",
     "output_type": "stream",
     "text": [
      "[{\"mis4900\": \"mis4460\"}, {\"mis4900\": \"mis4470\"}, {\"mis4900\": \"mis6900\"}, {\"mis4900\": \"mis5460\"}, {\"mis4900\": \"mis5470\"}, {\"mis4900\": \"quit\"}]\n"
     ]
    }
   ],
   "source": [
    "from openpyxl import load_workbook\n",
    "from json import dumps\n",
    " \n",
    "# Load Excel workbook\n",
    "wb = load_workbook('./data/paired_responses.xlsx')\n",
    " \n",
    "# Choose a specific sheet\n",
    "sheet = wb[\"Sheet1\"]\n",
    " \n",
    "# Find the number of rows and columns in the sheet\n",
    "rows = sheet.max_row\n",
    "columns = sheet.max_column\n",
    " \n",
    "# List to store all rows as dictionaries\n",
    "lst = []\n",
    " \n",
    "# Iterate over rows and columns to extract data\n",
    "for i in range(1, rows):\n",
    "    row = {}\n",
    "    for j in range(1, columns):\n",
    "        column_name = sheet.cell(row=1, column=j)\n",
    "        row_data = sheet.cell(row=i+1, column=j)\n",
    " \n",
    "        row.update(\n",
    "            {\n",
    "                column_name.value: row_data.value\n",
    "            }\n",
    "        )\n",
    "    lst.append(row)\n",
    " \n",
    "# Convert extracted data into JSON format\n",
    "json_data = dumps(lst)\n",
    " \n",
    "# Print the JSON data\n",
    "print(json_data)"
   ]
  },
  {
   "cell_type": "code",
   "execution_count": 44,
   "id": "f1bfbd2a-37e7-43bd-a648-67f278b7dc55",
   "metadata": {
    "tags": []
   },
   "outputs": [
    {
     "data": {
      "text/plain": [
       "str"
      ]
     },
     "execution_count": 44,
     "metadata": {},
     "output_type": "execute_result"
    }
   ],
   "source": [
    "type(json_data)"
   ]
  },
  {
   "cell_type": "code",
   "execution_count": 33,
   "id": "5e4346b7-bd66-4138-a7d0-b81bbab18848",
   "metadata": {
    "tags": []
   },
   "outputs": [
    {
     "data": {
      "text/plain": [
       "2"
      ]
     },
     "execution_count": 33,
     "metadata": {},
     "output_type": "execute_result"
    }
   ],
   "source": [
    "columns"
   ]
  },
  {
   "cell_type": "code",
   "execution_count": 64,
   "id": "4ff976e0-b477-43ae-8d20-7c15c8ae3b4e",
   "metadata": {},
   "outputs": [
    {
     "data": {
      "text/plain": [
       "['mis4900', 'mis4460', 'mis4470', 'mis6900', 'mis5460', 'mis5470', 'quit']"
      ]
     },
     "execution_count": 64,
     "metadata": {},
     "output_type": "execute_result"
    }
   ],
   "source": [
    "import pandas\n",
    "import numpy as np\n",
    "# Read excel document\n",
    "excel_data_df = pandas.read_excel('./data/paired_responses.xlsx', sheet_name='Sheet1', header=None)\n",
    "\n",
    "msgs = excel_data_df.get(0).tolist()\n",
    "responses = excel_data_df.get(1).tolist()\n",
    "\n",
    "msgs"
   ]
  },
  {
   "cell_type": "code",
   "execution_count": 66,
   "id": "c3d4f173-14b6-4405-834a-938f91120c8d",
   "metadata": {
    "tags": []
   },
   "outputs": [
    {
     "data": {
      "text/plain": [
       "['You can find the current course website at http://www.sba.oakland.edu/faculty/isken/courses/mis6900_s24/, You can find the permalink at http://www.sba.oakland.edu/faculty/isken/courses/aap',\n",
       " 'You can find the current course website at http://www.sba.oakland.edu/faculty/isken/courses/mis5460_f23/index.html, You can find the permalink at http://www.sba.oakland.edu/faculty/isken/courses/ba',\n",
       " 'You can find the current course website at http://www.sba.oakland.edu/faculty/isken/courses/mis5470_f23/index.html, You can find the permalink at http://www.sba.oakland.edu/faculty/isken/courses/pcda',\n",
       " 'You can find the current course website at http://www.sba.oakland.edu/faculty/isken/courses/mis6900_s24/, You can find the permalink at http://www.sba.oakland.edu/faculty/isken/courses/aap',\n",
       " 'You can find the current course website at http://www.sba.oakland.edu/faculty/isken/courses/mis5460_f23/index.html, You can find the permalink at http://www.sba.oakland.edu/faculty/isken/courses/ba',\n",
       " 'You can find the current course website at http://www.sba.oakland.edu/faculty/isken/courses/mis5470_f23/index.html, You can find the permalink at http://www.sba.oakland.edu/faculty/isken/courses/pcda',\n",
       " 'You may close the chatbox, Good bye!']"
      ]
     },
     "execution_count": 66,
     "metadata": {},
     "output_type": "execute_result"
    }
   ],
   "source": [
    "responses"
   ]
  },
  {
   "cell_type": "code",
   "execution_count": 69,
   "id": "3d88b729-2934-4492-9fd7-772de61141e4",
   "metadata": {
    "tags": []
   },
   "outputs": [
    {
     "name": "stdout",
     "output_type": "stream",
     "text": [
      "{'mis4900': 'You can find the current course website at http://www.sba.oakland.edu/faculty/isken/courses/mis6900_s24/, You can find the permalink at http://www.sba.oakland.edu/faculty/isken/courses/aap', 'mis4460': 'You can find the current course website at http://www.sba.oakland.edu/faculty/isken/courses/mis5460_f23/index.html, You can find the permalink at http://www.sba.oakland.edu/faculty/isken/courses/ba', 'mis4470': 'You can find the current course website at http://www.sba.oakland.edu/faculty/isken/courses/mis5470_f23/index.html, You can find the permalink at http://www.sba.oakland.edu/faculty/isken/courses/pcda', 'mis6900': 'You can find the current course website at http://www.sba.oakland.edu/faculty/isken/courses/mis6900_s24/, You can find the permalink at http://www.sba.oakland.edu/faculty/isken/courses/aap', 'mis5460': 'You can find the current course website at http://www.sba.oakland.edu/faculty/isken/courses/mis5460_f23/index.html, You can find the permalink at http://www.sba.oakland.edu/faculty/isken/courses/ba', 'mis5470': 'You can find the current course website at http://www.sba.oakland.edu/faculty/isken/courses/mis5470_f23/index.html, You can find the permalink at http://www.sba.oakland.edu/faculty/isken/courses/pcda', 'quit': 'You may close the chatbox, Good bye!'}\n"
     ]
    }
   ],
   "source": [
    "# zip the two lists together to create a list of key-value pairs\n",
    "key_value_pairs = zip(msgs, responses)\n",
    "\n",
    "# convert the list of key-value pairs to a dictionary\n",
    "intents = dict(key_value_pairs)\n",
    "\n",
    "print(intents)"
   ]
  },
  {
   "cell_type": "markdown",
   "id": "f3144712-03af-4877-91f6-61a9ce5acd6f",
   "metadata": {},
   "source": [
    "https://www.tutorialspoint.com/get-a-list-of-a-particular-column-values-of-a-pandas-dataframe#:~:text=Apply%20the%20function%20'get(),function%20to%20print%20the%20output"
   ]
  },
  {
   "cell_type": "code",
   "execution_count": 52,
   "id": "a22b1f80-0158-41d9-988c-82b34bfd737b",
   "metadata": {
    "tags": []
   },
   "outputs": [
    {
     "name": "stdout",
     "output_type": "stream",
     "text": [
      "DataFrame that we created:\n",
      "  Name of the Student  Age Favourite Subject\n",
      "0               Alice   15              Math\n",
      "1              Cassie   13            Social\n",
      "2               Henry   16           Science\n",
      "3              Steven   14           English\n",
      "Extracted values of desired Column:\n",
      "['Math', 'Social', 'Science', 'English']\n"
     ]
    }
   ],
   "source": [
    "import pandas as pd\n",
    "import numpy as np\n",
    "#creating a table\n",
    "\n",
    "student_data={\n",
    "   'Name of the Student': ['Alice', 'Cassie', 'Henry', 'Steven'],\n",
    "   'Age':[15,13,16,14],\n",
    "   'Favourite Subject':['Math', 'Social', 'Science', 'English']\n",
    "}\n",
    "\n",
    "#Now, we will turn the student_data table into Dataframe.\n",
    "print(\"DataFrame that we created:\")\n",
    "df=pd.DataFrame(student_data)\n",
    "print(df)\n",
    "\n",
    "#tolist() is used to convert the column values into a list.\n",
    "print(\"Extracted values of desired Column:\")\n",
    "column_vals=df.get('Favourite Subject').tolist()\n",
    "print(column_vals)"
   ]
  },
  {
   "cell_type": "code",
   "execution_count": null,
   "id": "6ad2f16d-6cc6-4f11-92f2-175e8d946c62",
   "metadata": {},
   "outputs": [],
   "source": [
    "keys = ['mis4900','mis4460','mis4470','mis6900','mis5460','mis5470','quit']\n",
    "values = ['You can find the current course website at http://www.sba.oakland.edu/faculty/isken/courses/mis6900_s24/, You can find the permalink at http://www.sba.oakland.edu/faculty/isken/courses/aap',\n",
    "'You can find the current course website at http://www.sba.oakland.edu/faculty/isken/courses/mis5460_f23/index.html, You can find the permalink at http://www.sba.oakland.edu/faculty/isken/courses/ba',\n",
    "'You can find the current course website at http://www.sba.oakland.edu/faculty/isken/courses/mis5470_f23/index.html, You can find the permalink at http://www.sba.oakland.edu/faculty/isken/courses/pcda',\n",
    "'You can find the current course website at http://www.sba.oakland.edu/faculty/isken/courses/mis6900_s24/, You can find the permalink at http://www.sba.oakland.edu/faculty/isken/courses/aap',\n",
    "'You can find the current course website at http://www.sba.oakland.edu/faculty/isken/courses/mis5460_f23/index.html, You can find the permalink at http://www.sba.oakland.edu/faculty/isken/courses/ba',\n",
    "'You can find the current course website at http://www.sba.oakland.edu/faculty/isken/courses/mis5470_f23/index.html, You can find the permalink at http://www.sba.oakland.edu/faculty/isken/courses/pcda',\n",
    "'You may close the chatbox, Good bye!'\n",
    "]\n",
    "\n",
    "# zip the two lists together to create a list of key-value pairs\n",
    "key_value_pairs = zip(keys, values)\n",
    "\n",
    "# convert the list of key-value pairs to a dictionary\n",
    "intents = dict(key_value_pairs)\n",
    "\n",
    "print(intents)"
   ]
  }
 ],
 "metadata": {
  "kernelspec": {
   "display_name": "Python [conda env:aap]",
   "language": "python",
   "name": "conda-env-aap-py"
  },
  "language_info": {
   "codemirror_mode": {
    "name": "ipython",
    "version": 3
   },
   "file_extension": ".py",
   "mimetype": "text/x-python",
   "name": "python",
   "nbconvert_exporter": "python",
   "pygments_lexer": "ipython3",
   "version": "3.12.3"
  }
 },
 "nbformat": 4,
 "nbformat_minor": 5
}
