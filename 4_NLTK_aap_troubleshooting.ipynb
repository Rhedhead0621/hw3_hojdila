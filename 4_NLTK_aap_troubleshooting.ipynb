{
 "cells": [
  {
   "cell_type": "markdown",
   "id": "b0c3a715-7fea-4987-9ef4-c89c838ba180",
   "metadata": {},
   "source": [
    "I verified the nltk package was installed using pip show nltk\n",
    "\n",
    "I could import using pycharm, but not jupyter notebook\n",
    "\n",
    "I then narrowed it down by using a non-aap environment (used the Python 3 - ipykernel), and it would import  \n",
    "\n",
    "I found the information below, to install within a kernel of my choice (aap) - it installed and imports now using the aap kernel"
   ]
  },
  {
   "cell_type": "markdown",
   "id": "dfc19544-dfad-42a1-bb71-f2266660f8c2",
   "metadata": {},
   "source": [
    "https://stackoverflow.com/questions/75388232/install-python-package-inside-a-jupyter-notebook-kernel"
   ]
  },
  {
   "cell_type": "code",
   "execution_count": null,
   "id": "91e27033-d601-432c-976b-5ab201da3f05",
   "metadata": {
    "tags": []
   },
   "outputs": [],
   "source": [
    "%pip install nltk"
   ]
  },
  {
   "cell_type": "code",
   "execution_count": null,
   "id": "dc103319-1bee-46a5-bc6a-cf86f0da7bf5",
   "metadata": {
    "tags": []
   },
   "outputs": [],
   "source": [
    "import nltk"
   ]
  },
  {
   "cell_type": "code",
   "execution_count": null,
   "id": "b0f7066a-4948-4412-85e2-31cd419e7f5b",
   "metadata": {},
   "outputs": [],
   "source": [
    "%pip install keras"
   ]
  },
  {
   "cell_type": "code",
   "execution_count": null,
   "id": "f47a18ba-e334-4f6f-a069-b5e8eea647f5",
   "metadata": {
    "tags": []
   },
   "outputs": [],
   "source": [
    "import keras"
   ]
  },
  {
   "cell_type": "code",
   "execution_count": null,
   "id": "cedde60e-7f0c-455b-8a01-273b16c66654",
   "metadata": {
    "tags": []
   },
   "outputs": [],
   "source": [
    "%pip install tensorflow"
   ]
  },
  {
   "cell_type": "code",
   "execution_count": null,
   "id": "39b86448-97fd-481c-887c-d0096549b8cd",
   "metadata": {},
   "outputs": [],
   "source": [
    "import tensorflow"
   ]
  },
  {
   "cell_type": "code",
   "execution_count": null,
   "id": "0ebd6446-2e32-4b02-a21f-2b0e05b4828e",
   "metadata": {
    "tags": []
   },
   "outputs": [],
   "source": [
    "%pip install rake-nltk"
   ]
  },
  {
   "cell_type": "code",
   "execution_count": null,
   "id": "210c272f-c789-412d-898d-c132ff01877e",
   "metadata": {
    "tags": []
   },
   "outputs": [],
   "source": [
    "%pip install spacy"
   ]
  },
  {
   "cell_type": "code",
   "execution_count": null,
   "id": "ca88974f-7c14-40d1-a8be-07bbc612fd98",
   "metadata": {
    "tags": []
   },
   "outputs": [],
   "source": [
    "%pip install en_core_web_sm"
   ]
  },
  {
   "cell_type": "markdown",
   "id": "eb2bafcd-7469-4c95-823d-535b2390d1e8",
   "metadata": {},
   "source": [
    "I didn't have any issues before this pip installing packages using the aap environment"
   ]
  }
 ],
 "metadata": {
  "kernelspec": {
   "display_name": "Python [conda env:aap]",
   "language": "python",
   "name": "conda-env-aap-py"
  },
  "language_info": {
   "codemirror_mode": {
    "name": "ipython",
    "version": 3
   },
   "file_extension": ".py",
   "mimetype": "text/x-python",
   "name": "python",
   "nbconvert_exporter": "python",
   "pygments_lexer": "ipython3",
   "version": "3.12.3"
  }
 },
 "nbformat": 4,
 "nbformat_minor": 5
}
