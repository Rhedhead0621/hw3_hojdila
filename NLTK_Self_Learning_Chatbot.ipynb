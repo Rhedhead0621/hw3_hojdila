{
 "cells": [
  {
   "cell_type": "markdown",
   "id": "97592826-3c54-4f4b-807a-8269d66d8f63",
   "metadata": {},
   "source": [
    "This site helped me with the simple NLTK chatbot - I'm going to see if I can get their Self Learning model to work"
   ]
  },
  {
   "cell_type": "markdown",
   "id": "86fb5119-8cdc-4420-9fc5-410d691984dc",
   "metadata": {},
   "source": [
    "https://www.analyticsvidhya.com/blog/2021/07/build-a-simple-chatbot-using-python-and-nltk/"
   ]
  },
  {
   "cell_type": "markdown",
   "id": "13c5ebae-2892-4cc3-91b2-810fc6981a06",
   "metadata": {},
   "source": [
    "Here are the 6 steps to create a chatbot in Python from scratch:\n",
    "\n",
    "Import required libraries\n",
    "\n",
    "Import and load the data file\n",
    "\n",
    "Preprocess data\n",
    "\n",
    "Create training and testing data\n",
    "\n",
    "Build the model\n",
    "\n",
    "Predict the response\n",
    "\n",
    "Run the chatbot"
   ]
  },
  {
   "cell_type": "markdown",
   "id": "12ba30f5-0ada-4007-a956-68b101fc6dab",
   "metadata": {},
   "source": [
    "### Step 1: Install Required Modules"
   ]
  },
  {
   "cell_type": "markdown",
   "id": "ab741a06-b7d2-4ee8-931a-d124bde78e60",
   "metadata": {
    "tags": []
   },
   "source": [
    "pip install tensorflow\n",
    "\n",
    "pip install keras\n",
    "\n",
    "pip install nltk - see NLTK_aap_troubleshooting for additional steps to %pip install tensorflow keras and nltk in order to use the aap kernel\n",
    "\n",
    "pip install pickle - may not need to do - https://stackoverflow.com/questions/48477949/not-able-to-pip-install-pickle-in-python-3-6\n",
    "\n",
    "check pickle by using:\n",
    "\n",
    "print(pickle.__doc__)"
   ]
  },
  {
   "cell_type": "code",
   "execution_count": null,
   "id": "19ec4fb6-2053-43dd-9404-e9889cc56054",
   "metadata": {
    "tags": []
   },
   "outputs": [],
   "source": [
    "import nltk\n",
    "\n",
    "from nltk.stem import WordNetLemmatizer\n",
    "\n",
    "lemmatizer = WordNetLemmatizer()\n",
    "\n",
    "import json\n",
    "\n",
    "import pickle\n",
    "\n",
    "import numpy as np\n",
    "\n",
    "import keras\n",
    "\n",
    "from keras.models import Sequential\n",
    "\n",
    "from keras.layers import Dense, Activation, Dropout\n",
    "\n",
    "from keras.optimizers import SGD\n",
    "\n",
    "import random\n",
    "\n",
    "# Load data from intents.json\n",
    "\n",
    "data_file = open('intents.json').read()\n",
    "\n",
    "intents = json.loads(data_file)"
   ]
  },
  {
   "cell_type": "code",
   "execution_count": null,
   "id": "2143e267-9d7a-4e90-a177-708bf2d814e4",
   "metadata": {},
   "outputs": [],
   "source": []
  }
 ],
 "metadata": {
  "kernelspec": {
   "display_name": "Python [conda env:aap]",
   "language": "python",
   "name": "conda-env-aap-py"
  },
  "language_info": {
   "codemirror_mode": {
    "name": "ipython",
    "version": 3
   },
   "file_extension": ".py",
   "mimetype": "text/x-python",
   "name": "python",
   "nbconvert_exporter": "python",
   "pygments_lexer": "ipython3",
   "version": "3.12.3"
  }
 },
 "nbformat": 4,
 "nbformat_minor": 5
}
