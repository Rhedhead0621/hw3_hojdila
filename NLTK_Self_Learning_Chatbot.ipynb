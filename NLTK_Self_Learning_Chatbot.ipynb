{
 "cells": [
  {
   "cell_type": "markdown",
   "id": "97592826-3c54-4f4b-807a-8269d66d8f63",
   "metadata": {},
   "source": [
    "This site helped me with the simple NLTK chatbot - I'm going to see if I can get their Self Learning model to work"
   ]
  },
  {
   "cell_type": "markdown",
   "id": "86fb5119-8cdc-4420-9fc5-410d691984dc",
   "metadata": {},
   "source": [
    "https://www.analyticsvidhya.com/blog/2021/07/build-a-simple-chatbot-using-python-and-nltk/"
   ]
  },
  {
   "cell_type": "markdown",
   "id": "13c5ebae-2892-4cc3-91b2-810fc6981a06",
   "metadata": {},
   "source": [
    "Here are the 6 steps to create a chatbot in Python from scratch:\n",
    "\n",
    "Import required libraries\n",
    "\n",
    "Import and load the data file\n",
    "\n",
    "Preprocess data\n",
    "\n",
    "Create training and testing data\n",
    "\n",
    "Build the model\n",
    "\n",
    "Predict the response\n",
    "\n",
    "Run the chatbot"
   ]
  },
  {
   "cell_type": "markdown",
   "id": "12ba30f5-0ada-4007-a956-68b101fc6dab",
   "metadata": {},
   "source": [
    "### Step 1: Install Required Modules"
   ]
  },
  {
   "cell_type": "markdown",
   "id": "ab741a06-b7d2-4ee8-931a-d124bde78e60",
   "metadata": {
    "tags": []
   },
   "source": [
    "pip install tensorflow\n",
    "pip install keras\n",
    "pip install pickle - may not need to do - https://stackoverflow.com/questions/48477949/not-able-to-pip-install-pickle-in-python-3-6\n",
    "pip install nltk"
   ]
  },
  {
   "cell_type": "code",
   "execution_count": null,
   "id": "6e0e2b35-9813-4b16-8fa9-9e266c24b7eb",
   "metadata": {
    "tags": []
   },
   "outputs": [],
   "source": [
    "import pickle\n",
    "print(pickle.__doc__)"
   ]
  },
  {
   "cell_type": "code",
   "execution_count": null,
   "id": "822dfa8f-eb50-4f34-9cfd-2dd88f459b56",
   "metadata": {
    "tags": []
   },
   "outputs": [],
   "source": [
    "import sys\n",
    "print(sys.path)"
   ]
  },
  {
   "cell_type": "markdown",
   "id": "30cf8e1a-b110-416b-834d-ff2292532911",
   "metadata": {},
   "source": [
    "'C:\\\\Users\\\\ahojd\\\\Documents\\\\MIS6900\\\\Module4_Final\\\\hw3_hojdila', \n",
    "'C:\\\\Users\\\\ahojd\\\\anaconda3\\\\envs\\\\aap\\\\python312.zip', \n",
    "'C:\\\\Users\\\\ahojd\\\\anaconda3\\\\envs\\\\aap\\\\DLLs', \n",
    "'C:\\\\Users\\\\ahojd\\\\anaconda3\\\\envs\\\\aap\\\\Lib', \n",
    "'C:\\\\Users\\\\ahojd\\\\anaconda3\\\\envs\\\\aap', \n",
    "'', \n",
    "'C:\\\\Users\\\\ahojd\\\\anaconda3\\\\envs\\\\aap\\\\Lib\\\\site-packages', \n",
    "'C:\\\\Users\\\\ahojd\\\\anaconda3\\\\envs\\\\aap\\\\Lib\\\\site-packages\\\\win32', \n",
    "'C:\\\\Users\\\\ahojd\\\\anaconda3\\\\envs\\\\aap\\\\Lib\\\\site-packages\\\\win32\\\\lib', \n",
    "'C:\\\\Users\\\\ahojd\\\\anaconda3\\\\envs\\\\aap\\\\Lib\\\\site-packages\\\\Pythonwin'"
   ]
  },
  {
   "cell_type": "markdown",
   "id": "dba7b0d6-5ef7-4a60-a060-25f1110cad17",
   "metadata": {},
   "source": [
    "C:\\Users\\ahojd\\anaconda3\\Lib\\site-packages"
   ]
  },
  {
   "cell_type": "code",
   "execution_count": null,
   "id": "a648a6fd-8b54-4322-a11d-ed87de6ba759",
   "metadata": {},
   "outputs": [],
   "source": [
    "C:\\Users\\ahojd\\anaconda3\\Lib\\site-packages"
   ]
  },
  {
   "cell_type": "code",
   "execution_count": null,
   "id": "14152897-d385-41f1-bd49-7d32dcb6675d",
   "metadata": {},
   "outputs": [],
   "source": [
    "https://docs.python-guide.org/starting/install3/win/#install3-windows"
   ]
  },
  {
   "cell_type": "code",
   "execution_count": 4,
   "id": "843e88fc-c0d0-4751-b6b7-5c6bcd00fbfc",
   "metadata": {
    "tags": []
   },
   "outputs": [
    {
     "ename": "ModuleNotFoundError",
     "evalue": "No module named 'nltk'",
     "output_type": "error",
     "traceback": [
      "\u001b[1;31m---------------------------------------------------------------------------\u001b[0m",
      "\u001b[1;31mModuleNotFoundError\u001b[0m                       Traceback (most recent call last)",
      "Cell \u001b[1;32mIn[4], line 1\u001b[0m\n\u001b[1;32m----> 1\u001b[0m \u001b[38;5;28;01mimport\u001b[39;00m \u001b[38;5;21;01mnltk\u001b[39;00m\n",
      "\u001b[1;31mModuleNotFoundError\u001b[0m: No module named 'nltk'"
     ]
    }
   ],
   "source": [
    "import nltk"
   ]
  },
  {
   "cell_type": "code",
   "execution_count": null,
   "id": "19ec4fb6-2053-43dd-9404-e9889cc56054",
   "metadata": {
    "tags": []
   },
   "outputs": [],
   "source": [
    "#import nltk\n",
    "\n",
    "from nltk.stem import WordNetLemmatizer\n",
    "\n",
    "lemmatizer = WordNetLemmatizer()\n",
    "\n",
    "import json\n",
    "\n",
    "import pickle\n",
    "\n",
    "import numpy as np\n",
    "\n",
    "from keras.models import Sequential\n",
    "\n",
    "from keras.layers import Dense, Activation, Dropout\n",
    "\n",
    "from keras.optimizers import SGD\n",
    "\n",
    "import random\n",
    "\n",
    "# Load data from intents.json\n",
    "\n",
    "data_file = open('intents.json').read()\n",
    "\n",
    "intents = json.loads(data_file)"
   ]
  },
  {
   "cell_type": "code",
   "execution_count": null,
   "id": "2143e267-9d7a-4e90-a177-708bf2d814e4",
   "metadata": {},
   "outputs": [],
   "source": []
  }
 ],
 "metadata": {
  "kernelspec": {
   "display_name": "Python [conda env:aap]",
   "language": "python",
   "name": "conda-env-aap-py"
  },
  "language_info": {
   "codemirror_mode": {
    "name": "ipython",
    "version": 3
   },
   "file_extension": ".py",
   "mimetype": "text/x-python",
   "name": "python",
   "nbconvert_exporter": "python",
   "pygments_lexer": "ipython3",
   "version": "3.12.3"
  }
 },
 "nbformat": 4,
 "nbformat_minor": 5
}
