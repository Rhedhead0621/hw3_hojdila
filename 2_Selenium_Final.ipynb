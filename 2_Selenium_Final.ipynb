{
 "cells": [
  {
   "cell_type": "markdown",
   "id": "8b9bf680-6cf8-4488-afa8-39635548b469",
   "metadata": {},
   "source": [
    "This works great for webscraping text off a webpage - very quick, and no symbol cleanup"
   ]
  },
  {
   "cell_type": "code",
   "execution_count": null,
   "id": "f1dede0f-14a8-41de-bc6b-2add5039129d",
   "metadata": {
    "tags": []
   },
   "outputs": [],
   "source": [
    "# Importing necessary modules\n",
    "from selenium import webdriver\n",
    "from selenium.webdriver.common.by import By\n",
    "import time\n",
    " \n",
    "# WebDriver Chrome\n",
    "driver = webdriver.Chrome()\n",
    " \n",
    "# Target URL\n",
    "driver.get(\"https://www.geeksforgeeks.org/competitive-programming-a-complete-guide/\")\n",
    "# To load entire webpage\n",
    "time.sleep(5)\n",
    " \n",
    "# Printing the whole body text\n",
    "print(driver.find_element(By.XPATH, \"/html/body\").text)\n",
    " \n",
    "# Closing the driver\n",
    "driver.close()"
   ]
  },
  {
   "cell_type": "markdown",
   "id": "e51b28e1-77cb-4d68-9055-8bb9ed4c0b80",
   "metadata": {},
   "source": [
    "A snippet of the code, in case the packages aren't installed or working"
   ]
  },
  {
   "cell_type": "code",
   "execution_count": null,
   "id": "98043eaf-da1a-45e5-b8bd-0f8716bdffa0",
   "metadata": {
    "tags": []
   },
   "outputs": [],
   "source": [
    "from IPython.display import Image\n",
    "img = './images/selenium_text_scrape.png'\n",
    "Image(filename=img)"
   ]
  }
 ],
 "metadata": {
  "kernelspec": {
   "display_name": "Python [conda env:aap]",
   "language": "python",
   "name": "conda-env-aap-py"
  },
  "language_info": {
   "codemirror_mode": {
    "name": "ipython",
    "version": 3
   },
   "file_extension": ".py",
   "mimetype": "text/x-python",
   "name": "python",
   "nbconvert_exporter": "python",
   "pygments_lexer": "ipython3",
   "version": "3.12.3"
  }
 },
 "nbformat": 4,
 "nbformat_minor": 5
}
