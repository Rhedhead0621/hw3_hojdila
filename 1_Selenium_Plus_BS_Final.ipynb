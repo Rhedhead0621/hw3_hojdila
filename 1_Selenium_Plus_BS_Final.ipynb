{
 "cells": [
  {
   "cell_type": "markdown",
   "id": "7123e894-3bc6-4750-8fe3-950dac58b252",
   "metadata": {},
   "source": [
    "This will webscrape the code off a webpage, not cleaned\n",
    "\n",
    "It took some trial and error to get selenium to work with the Chrome browser, the website below provided the steps:\n",
    "\n",
    "https://www.lambdatest.com/blog/python-selenium-with-chrome/\n",
    "\n",
    "Install webdriver-manager\n",
    "\n",
    "pip install webdriver-manager"
   ]
  },
  {
   "cell_type": "code",
   "execution_count": null,
   "id": "7fb04c41-8ab7-4bd8-8618-914f070cf2b0",
   "metadata": {
    "tags": []
   },
   "outputs": [],
   "source": [
    "from bs4 import BeautifulSoup\n",
    "import pandas as pd\n",
    "import re\n",
    "import requests\n",
    "\n",
    "from selenium import webdriver\n",
    "from selenium.webdriver.common.by import By \n",
    "driver = webdriver.Chrome()\n",
    "\n",
    "driver.get(\"http://www.sba.oakland.edu/Faculty/isken/teaching.html\")\n",
    "\n",
    "#url = \"http://www.sba.oakland.edu/Faculty/isken/teaching.html\"\n",
    "#url_soup = requests.get(url)\n",
    "soup = BeautifulSoup(driver.page_source, 'html.parser')\n",
    "\n",
    "driver.close()\n",
    "\n",
    "print(soup)"
   ]
  },
  {
   "cell_type": "markdown",
   "id": "280402d5-9056-4d66-967b-ea0fdd35c1cb",
   "metadata": {},
   "source": [
    "A snippet of the code, in case the packages aren't installed or working"
   ]
  },
  {
   "cell_type": "code",
   "execution_count": null,
   "id": "138314f1-ce5f-4133-84e8-2ffb94a72290",
   "metadata": {},
   "outputs": [],
   "source": [
    "from IPython.display import Image\n",
    "img = './images/selenium_bs.png'\n",
    "Image(filename=img)"
   ]
  }
 ],
 "metadata": {
  "kernelspec": {
   "display_name": "Python [conda env:aap]",
   "language": "python",
   "name": "conda-env-aap-py"
  },
  "language_info": {
   "codemirror_mode": {
    "name": "ipython",
    "version": 3
   },
   "file_extension": ".py",
   "mimetype": "text/x-python",
   "name": "python",
   "nbconvert_exporter": "python",
   "pygments_lexer": "ipython3",
   "version": "3.12.3"
  }
 },
 "nbformat": 4,
 "nbformat_minor": 5
}
