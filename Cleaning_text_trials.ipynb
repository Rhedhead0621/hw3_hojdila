{
 "cells": [
  {
   "cell_type": "markdown",
   "id": "f11e6ff0-9fbb-48f2-8947-b65e255375ab",
   "metadata": {},
   "source": [
    "Remove the title page and table of contents pages"
   ]
  },
  {
   "cell_type": "code",
   "execution_count": null,
   "id": "2b0c3631-88b2-4fca-aee0-5fa31d498a08",
   "metadata": {
    "tags": []
   },
   "outputs": [],
   "source": [
    "text_files = ['./docs/TermsConditions_test.txt']\n",
    "lst_data = [open(f).read() for f in text_files]\n",
    "type(lst_data)"
   ]
  },
  {
   "cell_type": "code",
   "execution_count": null,
   "id": "fe42f8c9-925f-4c94-8914-5ee7345977a5",
   "metadata": {
    "tags": []
   },
   "outputs": [],
   "source": [
    "# Make lower\n",
    "lst_data_lower = lst_data.lower()\n",
    "lst_data_lower"
   ]
  },
  {
   "cell_type": "code",
   "execution_count": null,
   "id": "003f7c84-546b-42cf-9cbc-2de3992b6e1a",
   "metadata": {
    "tags": []
   },
   "outputs": [],
   "source": [
    "text_files = ['./docs/TermsConditions_test.txt']\n",
    "str_data = str([open(f).read() for f in text_files])\n",
    "type(str_data)"
   ]
  },
  {
   "cell_type": "code",
   "execution_count": null,
   "id": "5d56919c-04f2-4728-a49b-26d54b1c7d82",
   "metadata": {
    "tags": []
   },
   "outputs": [],
   "source": [
    "# Make lower\n",
    "str_data_lower = str_data.lower()\n",
    "str_data_lower"
   ]
  },
  {
   "cell_type": "code",
   "execution_count": null,
   "id": "64f9a67e-e6e0-4b00-82ea-fa6049303ba0",
   "metadata": {
    "tags": []
   },
   "outputs": [],
   "source": [
    "# replace \\\\n with space\n",
    "\n",
    "str_data_no_breaks = str_data_lower.replace(\"\\\\n\", \" \")\n",
    "str_data_no_breaks"
   ]
  },
  {
   "cell_type": "markdown",
   "id": "ab99beb6-9a7d-471a-9404-31da8a38245f",
   "metadata": {},
   "source": [
    "https://www.geeksforgeeks.org/python-replace-multiple-characters-at-once/"
   ]
  },
  {
   "cell_type": "code",
   "execution_count": 57,
   "id": "154e3703-6ce9-48d1-96eb-7d79ec82651a",
   "metadata": {
    "tags": []
   },
   "outputs": [],
   "source": [
    "# Read input data\n",
    "data_file = './docs/TermsConditions_test.txt'\n",
    "with open(data_file, 'r') as input_data:\n",
    "    data = input_data.read().splitlines()"
   ]
  },
  {
   "cell_type": "code",
   "execution_count": 61,
   "id": "9eee1379-e4e2-4de3-82c5-9386601cdaae",
   "metadata": {
    "tags": []
   },
   "outputs": [
    {
     "data": {
      "text/plain": [
       "list"
      ]
     },
     "execution_count": 61,
     "metadata": {},
     "output_type": "execute_result"
    }
   ],
   "source": [
    "data\n",
    "type(data)"
   ]
  },
  {
   "cell_type": "code",
   "execution_count": null,
   "id": "acc32b18-fe9b-4056-85ad-0876ac2df073",
   "metadata": {
    "tags": []
   },
   "outputs": [],
   "source": [
    "# works on a list - nope\n",
    "\n",
    "import nltk\n",
    "from nltk.stem import WordNetLemmatizer\n",
    "from nltk.corpus import stopwords\n",
    "\n",
    "# Download NLTK resources\n",
    "nltk.download('punkt')\n",
    "nltk.download('wordnet')\n",
    "nltk.download('stopwords')\n",
    "\n",
    "# Initialize lemmatizer and stopwords\n",
    "lemmatizer = WordNetLemmatizer()\n",
    "stop_words = set(stopwords.words('english'))\n",
    "\n",
    "# Tokenize, lemmatize, and remove stopwords\n",
    "tokenized_data = []\n",
    "for sentence in data:\n",
    "    tokens = nltk.word_tokenize(sentence.lower())  # Tokenize and convert to lowercase\n",
    "    lemmatized_tokens = [lemmatizer.lemmatize(token) for token in tokens]  # Lemmatize tokens\n",
    "    filtered_tokens = [token for token in lemmatized_tokens if token not in stop_words]  # Remove stop words\n",
    "    tokenized_data.append(filtered_tokens)\n",
    "\n",
    "# Remove duplicate words\n",
    "for i in range(len(tokenized_data)):\n",
    "    tokenized_data[i] = list(set(tokenized_data[i]))\n",
    "\n",
    "print(tokenized_data)"
   ]
  },
  {
   "cell_type": "code",
   "execution_count": 76,
   "id": "0f7e9f19-9ade-44b3-890c-9f5a7f6b11d4",
   "metadata": {
    "tags": []
   },
   "outputs": [
    {
     "name": "stdout",
     "output_type": "stream",
     "text": [
      "\u001b[38;5;2m✔ Download and installation successful\u001b[0m\n",
      "You can now load the package via spacy.load('en_core_web_sm')\n",
      "\u001b[38;5;3m⚠ Restart to reload dependencies\u001b[0m\n",
      "If you are in a Jupyter or Colab notebook, you may need to restart Python in\n",
      "order to load all the package's dependencies. You can do this by selecting the\n",
      "'Restart kernel' or 'Restart runtime' option.\n"
     ]
    }
   ],
   "source": [
    "# imports and load spacy\n",
    "\n",
    "import pandas as pd\n",
    "import re\n",
    "import string\n",
    "from bs4 import BeautifulSoup\n",
    "import nltk\n",
    "from nltk.stem import PorterStemmer\n",
    "from nltk.stem.wordnet import WordNetLemmatizer\n",
    "import spacy\n",
    "\n",
    "spacy.cli.download(\"en_core_web_sm\")\n",
    "nlp = spacy.load(\"en_core_web_sm\")"
   ]
  },
  {
   "cell_type": "code",
   "execution_count": 98,
   "id": "efc09c3e-df2b-444a-869b-35fac19a5f31",
   "metadata": {
    "tags": []
   },
   "outputs": [],
   "source": [
    "# define clean_string function - clean characters, change to lower case, remove stop words\n",
    "\n",
    "def clean_string(text, stem=\"None\"):\n",
    "\n",
    "    final_string = \"\"\n",
    "\n",
    "    # Make lower\n",
    "    text = text.lower()\n",
    "\n",
    "    # Remove line breaks\n",
    "    # Note: that this line can be augmented and used over\n",
    "    # to replace any characters with nothing or a space - needed to be a space\n",
    "    text = re.sub(r'\\n', ' ', text)\n",
    "    text = re.sub(r' e ', '', text)\n",
    "\n",
    "    # Remove punctuation\n",
    "    translator = str.maketrans('', '', string.punctuation)\n",
    "    text = text.translate(translator)\n",
    "\n",
    "    # Remove stop words\n",
    "    text = text.split()\n",
    "    useless_words = nltk.corpus.stopwords.words(\"english\")\n",
    "    useless_words = useless_words + ['hi', 'im']\n",
    "\n",
    "    text_filtered = [word for word in text if not word in useless_words]\n",
    "\n",
    "    # Remove numbers\n",
    "    #text_filtered = [re.sub(r'\\w*\\d\\w*', '', w) for w in text_filtered]\n",
    "\n",
    "    # Stem or Lemmatize\n",
    "    if stem == 'Stem':\n",
    "        stemmer = PorterStemmer() \n",
    "        text_stemmed = [stemmer.stem(y) for y in text_filtered]\n",
    "    elif stem == 'Lem':\n",
    "        lem = WordNetLemmatizer()\n",
    "        text_stemmed = [lem.lemmatize(y) for y in text_filtered]\n",
    "    elif stem == 'Spacy':\n",
    "        text_filtered = nlp(' '.join(text_filtered))\n",
    "        text_stemmed = [y.lemma_ for y in text_filtered]\n",
    "    else:\n",
    "        text_stemmed = text_filtered\n",
    "\n",
    "    final_string = ' '.join(text_stemmed)\n",
    "\n",
    "    return final_string"
   ]
  },
  {
   "cell_type": "code",
   "execution_count": 100,
   "id": "f5081b08-2ec5-4c67-a1a0-e79dae1a3ce5",
   "metadata": {
    "tags": []
   },
   "outputs": [
    {
     "data": {
      "text/plain": [
       "'stellantis company vehicle program term condition revised june 5 2024 revised june 5 2024 content basic provision 0000 cccccccsscssecssecsseesssecsseecseessseeseecsseesseeceseesseeceueesseecssecsaeesseeseseeesneseseesseeesneens 2 general requirement instruction 0000 occ ccssecstecessessseesseesseessseesseeeseessaes 3 driver requifemenes cc cccccccsssssssceeececcccescssessseeeeeececeeeeeeesessaueeeeseeceeseceseeesesaeeeeeeeeeeeseseeeeas 3 reporting requirement cccccccccssssscccsssnseeceessseeeesssseeeessseeeeseseseeeesseaseeessseeeseeseaseeesssnseeessns 4 loss program eligibility 2000 ccccscccesssseeeeesseeeesesseeeescseeeesssesesessseeeeessesseeessesseeesses 5 company business 000000 cece eesccssssccesseeeesseecessseeesseecesseeessseeeessseesesaeecesseeeessaeecseaeeeesseeesesaeeeesaaees 7 permittee use ooo ccccssccccsssnecessssseecessseeecesesaeeeesseaeecessaeeceseeseeeesseueeceseeaeeeesseaaeeseseeaeeeeeseneeessgs 7 owmessnidp ccc cccescccsssscceeessseceessueecessueeeeessaseeeesseeeeeesssssecesssaseseessuseeeeseesseeeessuseesessaseeeesssaseeesesaaeees 7 legal andor unauthorized use ccc cccsccccssseccssssceesssecesssseceseeeecssaeecsseeesssseesssaueesssaeesesaaees 7 vehicle negligencemodifications c cc cccccccssccssssecessssecsseecesseeesssssecssaeeceesaeesssseeeessueeeesaeeeens 8 safe driving cccccsccccsssccssssecsssseccsseecsseeessseeecseaeecssuecssssseessauecsseeecssasecsesueeseaeesseasecesaueesesseeseaees 9 safety belt child seat usage’ ccc cccsseccsssseeessseesesseesssssecsssseesesseesssaseessueesesneeessaaees 9 lease payment cccccccsccssscsssecsseccssecssecseecseecsseeseecsaeeseecesesseeecssesseeeseaecsseesessssseeseeeseseeseeeseneess 9 example calculation lease paymmentccccccccsccsssecessseessseeeesseeesesseesssaseeessseesssneees 10 vehicle turnin delivery instruction 0000000 occ ecsecseeeeeeeseessseeseeeseeennees 11 turnin delivery policy «0000 cccscccsssecessneeessneeeessseeceseeeessaeeessaeeesssneeseeseeeseaeeeeseaeeeeseeeesseeeesas 11 vehicle delivery cc cccccccccsssececssseeeeessneeeeeseneeceseueeeesseneeeesssaueeeeseaueeeeseenseseseeaeeesseneeeesseeeeeeneas 12 vehicle turnin condition’ 00000 cccccccsseccssseeeessseeessseeessnneeessseeessaeeesssaeeeseaeeeseeeesseaeeesenneessenaees 13 sale company owned vehicle cccccceceseeessecsseeeseeceseeesseceseeeseeesseeeeeeeeens 14 used vehicle sale policy ccccccccssecssseeesseeesseeeesseeeeseseeeeseeeessseeessaeeeseeaeeeseaeeessneeesssaeees 14 sale price oo cccccscccsssecessseeeesseeeessseeessssecesseeeeseseecesseeeseeseeeseaseeeseaeeeseseeesseaeeeeeaaeeseseeesesneeeesseeesss 16 vehicle evaluation testing reporting 000ccccccccccscccsecesecessecsseeeeeesseeesees 16 vehicle tstiing 2000 ccescccccsssseceessseeceessaeeeeesseeeeessaeesesseaeeeesssseeeeesesaeeeeseeaeeeeseeaeeeeseaeeeessseeeensas 16 vehicle reportiing ccc cccccsscccccessssceecceeessssseeeecesesaseeeeeecesssseeecesessaseeecesesesseeeeeeeeessseeeeeeeeeas 17 vehicle operation location data 0 cc cccccccccssseeeesssseeeesseneeeessseeeeesesseeeesssseeeensas 17 alternate transportation 0cccccccsccssscsssecsseesseesssecsseeeseecsseesseeseseeeseecsseesseeceseeseeseeeeeaees 17 participant southeastern michigan — loaner vehicle cecccesessecessteeeeseees 18 participant outside southeastern michigan — rental vehicles0 ee 18 use companyowned vehicle outside u canada0000 19 emergency roadside service 0 occ cccccccccsseceseeeseeseseesseeseseseseeesseeeseeseseeeeessseeeseeenas 19 investigation legal proceeding 0000cccccccccccccseccseeeseeeeseeeseeesseeeeesssseeeeeees 20 service process cc cccccccsssecessseeessseecesseeeeseneeeesseeeesseeeeseeeeseaeeeseeeesseeeessseeeesseeeeeseeeessaeeesas 20 third party contact 200000 ccc ccccsccccssseeessneeesssseeessseeeeseeesseaeeessseeessseeeessseeesseeeesseeessseeeesseeeees 21 revised june 5 2024 death benefit eee eeeeeseeeeeeeeneeeeeeeeaees retirement 10000 eee eeeesseeeseeeseeeaeeeaeeeaeeneeeneeenees amendment termination 0000 company discretion eeeeeeeeneeeeeees basic provision product evaluation pe program length term one model year stellantis may request require employee participant replace product evaluation vehicle frequently executive roll employee senior manager newly promoted eligible employee eligibility lease vehicle must converted pe vehicle effective date promotion employee demoted senior manager status terminated heshe immediately ineligible program number 1 pe vehicle vehicle allowed note employee lease el vehicle employee participant pe vehicle service must least one additional approved driver wish activate employee lease vehicle least two additional approved driver second lease vehicle least three additional approved driver third lease vehicle revised june 5 2024 vehicle lease el program lease term program 12 month based inservice date penalty termination prior end lease minimum suspension participation program one year payroll deduction may continue duration agreed upon lease period employee participant order vehicle hisher second third lease eligibility terminates first second lease vehicle ie circumventing system heshe lose eligibility e active professionaladministrative management executive employee 3 el vehicle employee participant must least one additional approved driver activate second lease vehicle least two additional approved driver third lease vehicle employee participant pe field vehicle service must least one additional approved driver wish activate employee lease vehicle least two additional approved driver second lease vehicle least three additional approved driver third lease vehicle authorized use pe employee participant expected provide hisher pe program vehicle business use pool vehicle employee use pe program vehicle employee participant spouse employee participant’s domestic partner dependent child prohibited program rule tax law governing program family member continues meet program eligibility requirement currently participating company vehicle operation ie use leased vehicle may use pe vehicle limited basis long company executive employee remains primary driver pe vehicle eligible dependent child 21 prohibited driving pe vehicle outside state residence parent executive employee pe participant must submit expense associated operation pe vehicle eg fuel car wash etc business expense report pe participant located facility onsite fuel availability required fuel vehicle site pe participant located facility office without fuel availability fuel purchase reimbursed workrelated commuting business travel fuel purchase related personal use pe vehicle eg vacation travel reimbursable eligible family member except employee considered ‘dependent drivers’ eligible family memberdependent driver include employee participant’s e spouse domestic partner member employee participant household dependent child must e birth legal adoption legal guardianship employee participant employee participant’s spouse employee participant’s domestic partner end calendar year turn 26 child may added new participant turn 26 fiance fianceées girlfriendsboyfriends parent household employee inlaws family member etc eligible family member employee participant must list eligible driver company vehicle ordering system verify listed electronic lease agreement payroll deduction form pdf time vehicle ordered current motor vehicle record mvr must obtained annually via automated mvr process individual general requirement instruction driver requirement driver companyowned vehicle required 1 valid driver license unrestricted including pending matter resulting restriction two consecutive year entering program 2 learner’s permit revised june 5 2024 4 possession valid driver license minimum requirement company vehicle operation reserve sole discretion final determination whether particular driving record present unacceptable risk disqualifies driver eligibility participation program company requires annual motor vehicle record mvr review eligible company vehicle driver including dependent driver employee participant obtain vehicle current mvrs must reviewed approved driver process automated vendor cel mandatory requirement mvr result reviewed company vehicle operation employee participant charged cost mvr review dependent driver cost local secretary state dmv fee payroll deducted within two pay period note mvrs obtained directly secretary statedmv longer accepted also accept third party ie online service insurance company etc noncertified driver history fully licensed dependent age 1619 required participate road ready teen program reading signing road ready parentteen contract added eligible driver program dependent driver learner’s permit required participate road ready teen program receive valid driver license driving drivers’ permit company vehicle operation requirement drive least one 1 parent legal guardian time reporting requirement employee participant required notify company vehicle operation vehicle approaching 30000 mile replacement vehicle ordered employee participant required report company vehicle operation within 72 hour possible soon thereafter possible also send written explanation following driving related issue occur driver license employee participant employee participant dependent driver becomes restricted suspended drug alcohol related incident involving employee participant eligible driver including mips minor possession may limit restrict jeopardize otherwise effect eligible driver ability safely legally operate motor vehicle accident involving participant eligible driver resulting serious bodily injury death incident involving third party property revised june 5 2024 5 damage even injury damage company owned vehicle e drug alcohol related driving event involving employee participant eligible driver whether company vehicle involved including limited citation accident arrest felony offense conviction misdemeanor felony e conviction employee participant eligible driver criminal statute code ordinance law involving use motor vehicle e change affect eligibility eligible driver including limited employee participant spouse domestic partner andor dependent child must reported company vehicle operation within 30 day change eg divorce marriage child receives first driver license etc loss program eligibility company vehicle operation sole exclusive final authority investigate program violation abuse restrict permanently revoke program eligibility individual otherwise might qualify participate product evaluation program vehicle lease program may lose hisher eligibility one following nonexclusive list reason e failure abide term condition program e failure follow instruction company vehicle program e failure employee participant eligible driver obey state federal driving law e drug alcohol related incident involving employee participant eligible driver including mips minor possession may limit restrict jeopardize otherwise effect eligible driver ability safely legally operate motor vehicle e drug alcohol related driving event involving employee participant eligible driver whether company vehicle involved including limited citation accident arrest felony offense conviction misdemeanor felony e conviction employee participant eligible driver criminal statute code ordinance law involving use motor vehicle e license restriction employee participant eligible driver based drug alcohol related driving event revised june 5 2024 6 e driving license restricted suspended related driving history employee participant eligible driver e excessive driving infraction employee participant eligible driver e failure pay fine ticket toll charge e failure timely report drug alcohol related incident involving employee participant eligible driver including mips minor possession would limit restrict jeopardize otherwise effect eligible driver ability safely legally operate motor vehicle company vehicle operation within 72 hour soon possible e failure timely report accident involving employee participant eligible driver resulting serious bodily injury death company vehicle operation within 72 hour soon possible e failure cooperate fully company’s investigation accident lawsuit damage companyowned vehicle includes timely responding representative gallagher bassett service inc within 48 hour soon possible e providing inaccurate false incomplete information reporting damage claim reporting accident response company vehicle program inquiry e failure report employee participant’s eligible driver restricted suspended license company vehicle operation e refusal sobriety breathalyzer test employee participant eligible driver e driving distracted including necessarily limited texting driving employee participant eligible driver e failure take delivery ordered vehicle e excessive vehicle damage claim andor excessive accident history employee participant eligible driver e offroad vehicle use eg offroad trail fourwheeling racing etc e abuse neglect companyowned vehicle including failure perform required maintenance andor repair vehicle e providing vehicle ineligible person including limited person without valid unrestricted relating driving history drivers’ license revised june 5 2024 7 e failure provide vehicle testing upon request e failure submit andor participate vehicle evaluation reporting process e employee status changed long term disability e separation company company business unless pool appropriate companyowned vehicle available employee participant expected use hisher lease pe vehicle business travel permittee use employee participant encouraged promote stellantis product using vehicle demonstration ride loaning prospective customer permittee period exceed seven consecutive day within oneyear period e itis responsibility employee participant confirm permittee valid unrestricted driver license e ifthe employee participant provides lease vehicle ineligible person fiancefianceée girlfriendboyfriend parent household employee inlaws etc 7 day heshe lose eligibility participate company vehicle operation e employee participant required maintain personal record permittee usage help reduce corporate liability ownership agreement stellantis employee participant one lease stellantis assignee maintaining title vehicle illegal andor unauthorized use employee participant hisher spouse domestic partner dependent child andor permittees right use companyowned vehicle except provided guideline e employee participant may sublease rent sell assign mortgage otherwise transfer attempt transfer person interest vehicle lien may recorded company owned vehicle revised june 5 2024 8 e vehicle shall used offroading racing display advertisement personal business lawn service towinghauling etc vehicle may also used nonstellantis business purpose transportation business sale real estate pharmaceutical etc delivery service pizza delivery amazon uber eats door dash etc vehicle shall also used rideshare platform eg uber lyft etc car sharing platform eg turo getaround etc e ti permissible use vehicle volunteernonprofit use provided vehicle driven someone authorized drive vehicle lease program e vehicle shall used illegal manner illegal purpose e vehicle shall used transportation person property hire car pool arrangement compensation received approximates cost vehicle operation e vehicle shall moved operated location outside united state canada without prior written consent secretary company vehicle committee government agency including limited united state custom service policy seizing detaining motor vehicle used person connection suspected criminal activity including transportation drug alcohol cost expense fine penalty may assessed government agency associated seizure andor detention leased company vehicle sole responsibility employee participant employee participant defend indemnify hold stellantis harmless claim demand liability loss cost expense damage penalty fee related connected seizure detention companyowned vehicle recovery vehicle government seizure andor detention vehicle negligencemodifications employee participant may responsible 100 repair due negligence due modification approved company vehicle operation example negligence include limited interior exterior damage caused employee participant driver occupant vehicle spill upholstery tear burn wrong fuel used vehicle damage ice scraping pet damage cracked damaged radio screen damage caused loading unloading transporting cargo improperly secured tonneau cover etc revised june 5 2024 addition repair performed independent facility authorized reimbursable damage cost resulting unauthorized repair independent facility responsibility participant company vehicle operation sole exclusive final authority determine responsibility cost repair negligence andor unauthorized modification safe driving participant avoid activity would distract driver possibly result himher accident eg cell phone use texting reading eating etc stellantis strongly encourages participant use handsfree alternative talking cell phone driving eg mopar uconnect system bluetooth headset etc requires participant follow federal state local law govern distracted driving including law prohibit limit use handheld communication device safety belt child seat usage every operator passenger companyowned vehicle must use safety belt vehicle use total number occupant vehicle may exceed number seating location equipped seat belt child 12 year age younger shall placed rear seat available shall always buckled appropriate restraint child seat height weight lease payment lease insurance payment commence day employee participant take delivery vehicle charge prorated first last month lease lease vehicle receipt disclosure form lvr activates andor deactivates monthly lease insurance vehicle deduction monthly deduction based thirtyday month taken available payroll check checking account employee participant electronically sign pelease agreement payroll deduction authorization form permitting stellantis deduct employee participant salary amount monthly lease insurance charge charge damage missing equipment assessed term program lvr processed payroll cutoff date reflected monthly deduction following month lease insurance payment taken revised june 5 2024 10 payroll check deducted following month payroll check addition regular monthly payment additional deduction possible employee participant responsible paying invoice issued payment due immediately upon receipt invoice whenever deduction cannot made payroll check employee participant must provide financial institution account information company vehicle operation lease vehicle insurance payment may taken designated electronic fund transfer eft account deduction taken bank account usage vehicle prior month monthly lease insurance charge continue vehicle repaired regardless duration repair monthly lease insurance charge continue stolen totaled vehicle file closed allowing vehicle removed service andor replacement vehicle possible delivered charge prorated vehicle removed service lf employee participant default monthly lease payment three consecutive month payment plan must arranged company vehicle operation employee participant may lose eligibility continue program lf outstanding charge able collected outstanding amount sent outside collection agency recovery reported credit bureau example calculation lease payment adjustment example vehicle exchange occurring may 5 cutoff date e turn vehicle lease insurance rate 300 e replacement vehicle lease insurance rate 325 turnin vehicle usage 5 day may 300 30 day 10 per day x 5 day 50 cost lessee replacement vehicle usage 25 day may 325 30 day 1083 per day x 25 day 27083 cost lessee revised june 5 2024 11 lease insurance deduction may 31 paycheck 50 27083 32083 example il vehicle exchange occurring may 22 cutoff date e monthly lease insurance rate vehicle turned 270 e monthly lease insurance rate replacement vehicle 330 paperwork received payroll cutoff date may lease insurance deduction 270 june deduction take account transaction follows vehicle turned adjusted eight day may 27030 day 9day x 8 days’ usage 72 credit lessee replacement lease insurance charge calculated part may june follows replacement vehicle usage 8 day may may 22 may 30 330 30 day 11 per day x 8 day 88 cost lessee replacement vehicle usage 30 day june330 cost lessee lease insurance deduction june 30th paycheck follows total deduction june 88 330 418 total credit may june 72 vehicle turnin delivery instruction turnin delivery policy lease term program 12 month based inservice date penalty termination prior end lease minimum suspension program eligibility one year payroll deduction may continue duration agreed upon lease period employee participant one lease vehicle lease vehicle turned prior end lease eligibility suspended first second lease vehicle one year employee participant two three lease vehicle one vehicle turned prior end lease lease subject penalty one year remaining lease vehicle remain unaffected employee participant order vehicle hisher second third lease eligibility terminates first second lease vehicle ie circumventing system heshe lose eligibility program revised june 5 2024 12 vehicle delivery driver taking delivery companyowned vehicle must present current valid unrestricted driver license time vehicle delivery note driver may paper license vehicle inspected time delivery employee participant vehicle meet original ordering specification please request delivering facility note discrepancy missing equipment lease vehicle receipt lvr must notify company vehicle operation within two week taking delivery correct problem vehicle incurred transit damage repair made prior delivery however vehicle may delivered minor manufacturing defect long safety drivability factor driver must accept vehicle delivered report vehicle defect via pe lease survey system vehicle minor interior exterior defect contact vehicle coordinator immediately taking delivery vehicle e deliveriesturnin within southeast michigan e southeastern michigan area includes following county genesee lapeer livingston oakland macomb wayne washtenaw e vehicle may delivered turned lapeer road marshaling center dealership employee participant’s choice employee participant contacted vehicle available pick e deliveriesturnin outside southeast michigan e delivery turnin occurs stellantis franchised dealership vehicle licensed titled renewed tab lapeer road marshaling center work directly dealership dealer complete electronic lease vehicle receipt disclosure form lvr obtain copy completed lvr dealer fax copy lapeer road marshaling center 248 7541010 revised june 5 2024 13 vehicle turnin condition vehicle inspected time turn receiving facility inspection mandatory lvr completed accurately acknowledging damage must include signature date vehicle mileage delay providing document cause delay employee participant monthly lease rate adjustment damage exceeding standard company vehicle wear square required accident claim filed repair estimate obtained franchised dealer wear square tool measure damage vehicle well tire tread depth order determine repair tire replacement necessary damage repair cost 1000 must repaired prior turnin wear square provided lapeer road marshaling center delivery requested contacting company vehicle operation overall condition vehicle time turnin must exhibit following condition ¥ vehicle must clean interior exterior includes vacuuming must free sticker decal loose debris pet hair food crumbsspills etc interior damage exceeding standard company vehicle wear square charged according fee schedule published company vehicle operation website vehicle extreme odor including smoke charged cleaning vehicle must minimum tank gas vy case vehicle must restored original condition altered way installation nonfactory installed accessory see vehicle modification page company vehicle website complete policy exception v vehicle one top ie dual top option gladiator wrangler must turned hard top installed soft top stored appropriately inside vehicle v¥ vehicle damage tonneau cover soft top etc charged full cost replacement disconnect technology — ie mobile device uconnect account etc v¥ vehicle must owner information kit containing vehicle literature owner manual originally provided vehicle also following acopy vehicle registration revised june 5 2024 two complete set key remote locking device equipped original vehicle equipment eg jack lug wrench spare tire wheel etc must returned vehicle vy vehicle oil change must uptodate vy tire vehicle must meet minimum requirement 432” tire tread depth v damaged defective tire must replaced prior vehicle turn date replacement tire must match original equipment manufacturers’ suggested replacement v replacement wheel required match original equipment v¥ windshield must replaced following defect present multiple chip multiple bullseyes cracking single chip exceeding company vehicle wear square chip evidence cracking note windshield repair permitted authorized time also reminded driver visibility impacted regardless severity windshield damage windshield must replaced damage 1000 must repaired must provide copy repair estimate body damage exceeding wear square 1000 repaired open recallscampaigns must completed please check httprecallsmoparcom open recallscampaigns prior turnin employee participant may incur fee associated cleaning equipment replacement andor vehicle repair vehicle meet requirement fee schedule published company vehicle operation website sale company owned vehicle used vehicle sale policy pe andor lease vehicle qualify sold following condition normal replacement interval regardless mileage within southeastern michigan revised june 5 2024 15 question regarding purchase vehicle please contact sale coordinator lapeer road marshaling center email vehicleservicesstellantiscom phone 833 5505783 purchaser must select contact dealership complete transaction employee participant must inform lapeer road marshaling center time turnin heshe purchaser complete purchase agreementprogram provision form dealership bring check full amount picking vehicle lapeer road marshaling center purchaser pay dealer vehicle upon delivery outside southeastern michigan question regarding purchase vehicle please contact sale coordinator lapeer road marshaling center email vehicleservicesstellantiscom phone 833 5505783 employee participant must inform stellantis dealership heshe buyer hisher corporate vehicle entire turnin purchase process must performed dealership online wwwchryslerdirectcom transaction complete dealership provide lease vehicle receipt lvr price given include tax licensing titling fee e acompleted copy lvr must mailed faxed stellantis 4300 south lapeer road orion township mi 48359 fax number 248 7541010 prior normal replacement interval addition requirement vehicle minimum 8000 mile vehicle may sold follows within southeastern michigan e question regarding purchase vehicle please contact sale coordinator lapeer road marshaling center email vehicleservicesstellantiscom phone 833 5505783 e lf purchasing vehicle plan order replacement complete complete interimreplacement request form found bulletin form tab employee participant may reorder vehicle whenever ordering open e lf planning order replacement vehicle complete termination form found bulletin form tab 16 e ifthe turnedin pelease vehicle sold within 3 business day employee participant must recover return interim vehicle lapeer road marshaling center outside southeastern michigan e question regarding purchase vehicle please contact sale coordinator lapeer road marshaling center email vehicleservicesstellantiscom phone 833 5505783 e lf planning order replacement vehicle complete termination form found bulletin form tab e ifthe company buildout status vehicle sold ordered company buildout status employee participant allowed order replacement vehicle whenever ordering open employee participant longer eligible participate program due separation corporation resignation termination layoff etc may purchase vehicle custody time turnin employee price sale price financial arrangement sale vehicle purchaser dealer financial institution pe andor el lease vehicle may purchased one following pricing category e employee purchase price purchaser must employee employees’ spouse domestic partner employee parent son daughter including inlaws stepchild brother sister including inlaws half step brother sister grandchild grandparent e certain designated individual cdi individual listed question regarding purchase used vehicle sale please email sale coordinator vehicleservicesstellantiscom call 833 5505783 vehicle evaluation testing reporting vehicle testing purpose stellantis’ vehicle lease program product evaluation program support product quality initiative initial long term testing evaluation feedback accordingly employee participant agree make vehicle available testing maintenance repair requirement determined company revised june 5 2024 17 vehicle required evaluation employee participant make vehicle available within two working day notification alternative transportation provided vehicle reporting employee participant required complete submit monthly vehicle evaluation report failure may result loss program eligibility reporting system web based accessible via company vehicle operation website hub may contacted provide additional information arrange physical inspection vehicle please wait engineer contact prior repairing vehicle continue scheduled maintenance repair performed addition employee participant required notify company vehicle operation vehicle approaching 30000 mile replacement vehicle ordered vehicle operation location data understand acknowledge vehicle “vehicle” provided pursuant stellantis company vehicle program equipped uconnect® platform associated sensor device equipment telematics connected service feature “connected services’ may also include telediagnostic telematics equipment together connected service referred “vehicle services’ acknowledge expressly agree stellantis may access receive collect use disclose information vehicle vehicle service may include driving data geolocation data crash notification crash data performance diagnostic data personal information set forth company vehicle program privacy notice alternate transportation companyowned vehicle service three day reason scheduled maintenance minor warranty item employee participant encouraged use department pool vehicle alternate transportation pool vehicle available loaner rental vehicle may obtained participant must continue drive companyowned vehicle drivable leave vehicle dealership part available andor repair begin monthly vehicle lease payment continue lease vehicle service employee participant charged reimbursed rate 35 per day use loanerrental vehicle minimum three day outofservice revised june 5 2024 18 requirement met employee participant also charged additional day loanerrental vehicle kept repair completed participant southeastern michigan — loaner vehicle participant southeastern michigan may obtain vehicle lapeer road marshaling center lrmc available advance reservation required time loaner pick participant must provide following information e damage repair claim number e warranty repair copy dealer work order indicating problem estimate day required repair e stolen vehicle police department name city report number two week stolen vehicle recovered employee participant must complete sign replacementtransfer request form allow employee participant obtain interim vehicle lapeer road marshaling center stolen vin deactivated interim delivered participant must provide original work order time loaner vehicle turnedin lrmc work order must include e date vehicle went repair e date vehicle repaired available picked participant outside southeastern michigan — rental vehicle participant outside southeastern michigan area permitted rent vehicle companyowned vehicle service submit claim reimbursement rental must booked using designated travel agency calling 6692721325 ensure corporate discount number applied including insurance coverage rate reimbursement rental vehicle 35 per day maximum 350 per occurrence repair anticipated exceed 10 day maximum rental amount contact dealer determine reason must also contact company vehicle operation assistance expediting repair extension rental needed revised june 5 2024 19 use companyowned vehicle outside u canada companyowned vehicle may moved outside united state canada without prior written consent secretary company vehicle committee stellantis’ liability insurance coverage extend outside united state canada stellantis consent use vehicle outside u canada employee participant responsible arranging appropriate liability insurance coverage protection stellantis employee participant driver andor passenger emergency roadside service company vehicle roadside assistance program benefit provided cross country automotive service include e automatic enrollment membership card number required e 24 hour toll free stellantis company vehicle assistance line 18668647684 line answered trained roadside assistance agent familiar benefit e towing coverage dispatch vehicle towed nearest stellantis dealer cost please note fiat vehicle given limited number dealership long distance tow required ccas work driver provide practical arrangement e battery jump service covered 100 per event e emergency fuel delivery fuel provided 2 gallon typically drive vehicle nearby gas station service delivery covered 100 per event e emergency lock assistance ccas dispatch qualified locksmith service open vehicle retrieve key key lost practical mean replacement available dealer programmed key combined key fob unit ccas arrange transport vehicle nearest dealer replacement service covered 100 per incident cost key covered e flat tire assistance ccas dispatch provider change tire good spare event good spare inflator kit nonspare equipped vehicle correct deflated tire ccas transport revised june 5 2024 20 vehicle nearest dealer tire store service covered 100 per event e travel interruption expense assistance event warranty related mechanical disablement occurs requires overnight repair accident render vehicle inoperable traveling 150 mile home employee participant reimbursed 100000 food lodging alternate transportation necessary result disablement file claim travel interruption reimbursement please send name address copy expense receipt repair order accident report vehicle identification number stellantis company vehicle roadside assistance program po box 9145 medford 02155 investigation legal proceeding participant permittees companyowned vehicle required cooperate fully company investigation accident lawsuit damage companyowned vehicle includes timely responding representative gallagher bassett service inc within 48 hour soon possible event companyowned vehicle stolen vandalized otherwise sustains damage including damage arising alleged criminal civil wrongdoing participant permittee vehicle must cooperate government authority stellantis signing filing criminal complaint participating witness taking reasonable necessary action may requested participant authorized settle claim involving stellantis owned vehicle service process participant served paper lawsuit arising use operation companyowned vehicle must follow procedure listed e notify gallagher bassett service inc immediately calling 248 4750215 e mail fax paper served gallagher bassett service inc within 24 hour receiving following information accompany paper e date hour place service e manner service ie personally mail mail include envelope paper served revised june 5 2024 21 e correspondence forwarded gallagher bassett service inc po box 2934 clinton ia 527332934 248 4750215 third party contact claim contact received telephone mail third party individual attorney insurance company must referred sent immediately gallagher bassett service inc handling reply death benefit event death employee dependent participation terminates surviving spouse domestic partner given title hisner choice one leasepe vehicle hisher custody time employee death continuing company vehicle program option offer extended child deceased employee additional leasepe vehicle immediately returned company lf lease vehicle declared total loss surviving spouse domestic partner may order receive title similar vehicle hisher custody identical vehicle available company may substitute comparable vehicle accordance sole discretion surviving spouse domestic partner responsible cost associated transferring title vehicle following death employee participant including limited cost reregistration title transfer insurance applicable tax including income tax value vehicle company issue 1099 form federal tax form following january indicating value transferred vehicle value represents miscellaneous income surviving spouse domestic partner maintenance repair insurance coverage terminated company surviving spouse domestic partner receives vehicle title revised june 5 2024 22 retirement upon retirement stellantis employee participant option participate retiree lease program allows eligible retiree lease two vehicle must least one additional approved driver second vehicle employee participant currently leasing one two vehicle time retirement employee participant may continue leasing one vehicle term condition retiree lease program made available eligible individual upon retirement eligibility participate retiree lease program subject term condition thereof may amended time time note employee hired january 1 2004 eligible participate retiree lease program amendment termination stellantis reserve right sole discretion amend company vehicle program time time time without consent person stellantis reserve right sole discretion suspend discontinue terminate company vehicle program whole part time time time company discretion company vehicle program administered stellantis designated representative stellantis responsible formulating carrying rule regulation necessary administer company vehicle program sole discretionary authority make factual determination decision regarding eligibility retiree participant company vehicle program well discretionary authority determine question including factual determination participation individual company vehicle program decision made stellantis designated representative final binding person subject appeal revised june 5 2024'"
      ]
     },
     "execution_count": 100,
     "metadata": {},
     "output_type": "execute_result"
    }
   ],
   "source": [
    "# Lem works the best, need to remove the single e\n",
    "data_clean = clean_string(str(data), stem=\"Lem\")\n",
    "data_clean"
   ]
  },
  {
   "cell_type": "code",
   "execution_count": null,
   "id": "0740953c-6c5d-4738-b70a-c12eb01dd24c",
   "metadata": {},
   "outputs": [],
   "source": []
  }
 ],
 "metadata": {
  "kernelspec": {
   "display_name": "Python [conda env:aap]",
   "language": "python",
   "name": "conda-env-aap-py"
  },
  "language_info": {
   "codemirror_mode": {
    "name": "ipython",
    "version": 3
   },
   "file_extension": ".py",
   "mimetype": "text/x-python",
   "name": "python",
   "nbconvert_exporter": "python",
   "pygments_lexer": "ipython3",
   "version": "3.12.3"
  }
 },
 "nbformat": 4,
 "nbformat_minor": 5
}
