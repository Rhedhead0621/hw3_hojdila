{
 "cells": [
  {
   "cell_type": "markdown",
   "id": "f18e6f4b-3cbd-4a79-a537-6857d1a8cdae",
   "metadata": {},
   "source": [
    "Starting here with keyword extraction, geeksforgeeks hasn't let me down yet!"
   ]
  },
  {
   "cell_type": "markdown",
   "id": "1b131311-3518-4910-976e-c567352fa542",
   "metadata": {},
   "source": [
    "https://www.geeksforgeeks.org/keyword-extraction-methods-in-nlp/"
   ]
  }
 ],
 "metadata": {
  "kernelspec": {
   "display_name": "Python [conda env:aap]",
   "language": "python",
   "name": "conda-env-aap-py"
  },
  "language_info": {
   "codemirror_mode": {
    "name": "ipython",
    "version": 3
   },
   "file_extension": ".py",
   "mimetype": "text/x-python",
   "name": "python",
   "nbconvert_exporter": "python",
   "pygments_lexer": "ipython3",
   "version": "3.12.3"
  }
 },
 "nbformat": 4,
 "nbformat_minor": 5
}
