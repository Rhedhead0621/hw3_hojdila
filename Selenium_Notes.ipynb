{
 "cells": [
  {
   "cell_type": "markdown",
   "id": "33a42c9d-9369-40b4-b7d1-fb8be17f7219",
   "metadata": {},
   "source": [
    "https://www.lambdatest.com/blog/python-selenium-with-chrome/"
   ]
  },
  {
   "cell_type": "markdown",
   "id": "79214f85-4b42-47f8-9904-4a3305678b03",
   "metadata": {
    "tags": []
   },
   "source": [
    "Install webdriver-manager\n",
    "\n",
    "pip install webdriver-manager"
   ]
  },
  {
   "cell_type": "code",
   "execution_count": 4,
   "id": "85d2effb-148c-4880-ad5d-b7ae85280065",
   "metadata": {
    "tags": []
   },
   "outputs": [],
   "source": [
    "from selenium import webdriver\n",
    "from selenium.webdriver.chrome.service import Service as ChromeService\n",
    "from webdriver_manager.chrome import ChromeDriverManager\n",
    " \n",
    "driver = webdriver.Chrome(service=ChromeService(ChromeDriverManager().install()))\n",
    "driver.close()"
   ]
  },
  {
   "cell_type": "code",
   "execution_count": 12,
   "id": "139c01a0-018d-4b8f-afec-c0c758bdbe26",
   "metadata": {
    "tags": []
   },
   "outputs": [],
   "source": [
    "from selenium import webdriver\n",
    " \n",
    "driver = webdriver.Chrome()\n",
    "driver.get(\"https://ecommerce-playground.lambdatest.io/\")\n"
   ]
  },
  {
   "cell_type": "code",
   "execution_count": 13,
   "id": "c3b88166-2405-4c5e-a45b-0ced865163aa",
   "metadata": {
    "tags": []
   },
   "outputs": [],
   "source": [
    "from selenium.webdriver.common.by import By"
   ]
  },
  {
   "cell_type": "code",
   "execution_count": 18,
   "id": "d7bf72ee-3389-405a-a5a4-b3bedf158266",
   "metadata": {
    "tags": []
   },
   "outputs": [],
   "source": [
    "search_for_key = driver.find_element(By.XPATH, '//*[@id=\"search\"]/div[1]/div[1]/div[2]/input')\n",
    "# Below code will add iPhone in the input field.\n",
    "search_for_key.send_keys(\"iphone\")"
   ]
  },
  {
   "cell_type": "code",
   "execution_count": 20,
   "id": "840f4c66-ffe9-4264-a678-f9b9031e4d20",
   "metadata": {
    "tags": []
   },
   "outputs": [
    {
     "data": {
      "text/plain": [
       "<selenium.webdriver.remote.webelement.WebElement (session=\"729fe18b6d2c7152d2c0de391caae395\", element=\"f.C6FD8068DEE14BD8C4939746023C01A1.d.36D755A29225ACA284A4BF5CC008016C.e.29\")>"
      ]
     },
     "execution_count": 20,
     "metadata": {},
     "output_type": "execute_result"
    }
   ],
   "source": [
    "search_for_key"
   ]
  },
  {
   "cell_type": "code",
   "execution_count": 26,
   "id": "dfd4913b-efc6-48b3-a0eb-b388d2197c95",
   "metadata": {
    "tags": []
   },
   "outputs": [],
   "source": [
    "text = driver.get(\"https://ecommerce-playground.lambdatest.io/\")"
   ]
  },
  {
   "cell_type": "code",
   "execution_count": 32,
   "id": "72e1a756-d065-4e7d-9816-f04bac6a10fa",
   "metadata": {
    "tags": []
   },
   "outputs": [],
   "source": [
    "from bs4 import BeautifulSoup\n",
    "import pandas as pd\n",
    "import re\n",
    "import requests\n",
    "\n",
    "url = \"http://www.sba.oakland.edu/faculty/isken/courses/mis6900_s24/getting_data_from_web.html\"\n",
    "url_soup = requests.get(url)\n",
    "soup = BeautifulSoup(driver.page_source, 'html.parser')\n",
    "playlist = soup.find(id='Explore')\n",
    "\n",
    "print(playlist)"
   ]
  },
  {
   "cell_type": "code",
   "execution_count": null,
   "id": "d933fa06-aef2-4038-8c2f-60aa9dddf7d2",
   "metadata": {},
   "outputs": [],
   "source": [
    "driver.close()"
   ]
  }
 ],
 "metadata": {
  "kernelspec": {
   "display_name": "Python [conda env:aap]",
   "language": "python",
   "name": "conda-env-aap-py"
  },
  "language_info": {
   "codemirror_mode": {
    "name": "ipython",
    "version": 3
   },
   "file_extension": ".py",
   "mimetype": "text/x-python",
   "name": "python",
   "nbconvert_exporter": "python",
   "pygments_lexer": "ipython3",
   "version": "3.12.3"
  }
 },
 "nbformat": 4,
 "nbformat_minor": 5
}
