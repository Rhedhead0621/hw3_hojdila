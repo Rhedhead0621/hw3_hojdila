{
 "cells": [
  {
   "cell_type": "code",
   "execution_count": null,
   "id": "9257d944-aff3-42c1-b6df-d31ee60ee36f",
   "metadata": {
    "tags": []
   },
   "outputs": [],
   "source": [
    "import time\n",
    "from bs4 import BeautifulSoup\n",
    "from selenium import webdriver\n",
    "from selenium.webdriver.chrome.options import Options\n",
    "\n",
    "url = \"https://www.sofascore.com/pt/futebol/2018-09-18\"\n",
    "options = Options()\n",
    "options.add_argument('--headless')\n",
    "options.add_argument('--disable-gpu')\n",
    "driver = webdriver.Chrome(chrome_options=options)\n",
    "driver.get(url)\n",
    "time.sleep(3)\n",
    "page = driver.page_source\n",
    "driver.quit()\n",
    "soup = BeautifulSoup(page, 'html.parser')\n",
    "container = soup.find_all('div', attrs={\n",
    "    'class':'js-event-list-tournament-events'})\n",
    "print(container)"
   ]
  },
  {
   "cell_type": "code",
   "execution_count": 4,
   "id": "226395b8-c5d9-400d-a3ce-9d17c3dd2f64",
   "metadata": {
    "tags": []
   },
   "outputs": [],
   "source": [
    "from selenium import webdriver\n",
    "import time\n",
    "from bs4 import BeautifulSoup\n",
    "from selenium.webdriver.chrome.options import Options"
   ]
  },
  {
   "cell_type": "code",
   "execution_count": 8,
   "id": "e2ae45f4-0a7c-47e8-837d-fd1ae9b6e172",
   "metadata": {
    "tags": []
   },
   "outputs": [
    {
     "ename": "TypeError",
     "evalue": "WebDriver.__init__() got an unexpected keyword argument 'chrome_options'",
     "output_type": "error",
     "traceback": [
      "\u001b[1;31m---------------------------------------------------------------------------\u001b[0m",
      "\u001b[1;31mTypeError\u001b[0m                                 Traceback (most recent call last)",
      "Cell \u001b[1;32mIn[8], line 5\u001b[0m\n\u001b[0;32m      3\u001b[0m options\u001b[38;5;241m.\u001b[39madd_argument(\u001b[38;5;124m'\u001b[39m\u001b[38;5;124m--headless\u001b[39m\u001b[38;5;124m'\u001b[39m)\n\u001b[0;32m      4\u001b[0m options\u001b[38;5;241m.\u001b[39madd_argument(\u001b[38;5;124m'\u001b[39m\u001b[38;5;124m--disable-gpu\u001b[39m\u001b[38;5;124m'\u001b[39m)\n\u001b[1;32m----> 5\u001b[0m driver \u001b[38;5;241m=\u001b[39m webdriver\u001b[38;5;241m.\u001b[39mChrome(chrome_options\u001b[38;5;241m=\u001b[39moptions)\n\u001b[0;32m      6\u001b[0m driver\u001b[38;5;241m.\u001b[39mget(url)\n\u001b[0;32m      7\u001b[0m time\u001b[38;5;241m.\u001b[39msleep(\u001b[38;5;241m3\u001b[39m)\n",
      "\u001b[1;31mTypeError\u001b[0m: WebDriver.__init__() got an unexpected keyword argument 'chrome_options'"
     ]
    }
   ],
   "source": [
    "url = \"https://www.sofascore.com/pt/futebol/2018-09-18\"\n",
    "options = Options()\n",
    "options.add_argument('--headless')\n",
    "options.add_argument('--disable-gpu')\n",
    "driver = webdriver.Chrome(chrome_options=options)\n",
    "driver.get(url)\n",
    "time.sleep(3)\n",
    "page = driver.page_source\n",
    "driver.quit()\n",
    "soup = BeautifulSoup(page, 'html.parser')\n",
    "container = soup.find_all('div', attrs={\n",
    "    'class':'js-event-list-tournament-events'})\n",
    "print(container)"
   ]
  },
  {
   "cell_type": "code",
   "execution_count": null,
   "id": "9c98693c-70d5-4d2d-978b-7ed51160ab72",
   "metadata": {},
   "outputs": [],
   "source": [
    "# Importing necessary modules\n",
    "from selenium import webdriver\n",
    "\n",
    "from selenium.webdriver.common.by import By\n",
    "\n",
    "import time\n",
    " \n",
    "# WebDriver Chrome\n",
    "driver = webdriver.Chrome()\n",
    " \n",
    "# Target URL\n",
    "driver.get(\"https://www.geeksforgeeks.org/competitive-programming-a-complete-guide/\")\n",
    "# To load entire webpage\n",
    "time.sleep(5)\n",
    " \n",
    "# Printing the whole body text\n",
    "print(driver.find_element(By.XPATH, \"/html/body\").text)\n",
    " \n",
    "# Closing the driver\n",
    "driver.close()"
   ]
  }
 ],
 "metadata": {
  "kernelspec": {
   "display_name": "Python [conda env:aap]",
   "language": "python",
   "name": "conda-env-aap-py"
  },
  "language_info": {
   "codemirror_mode": {
    "name": "ipython",
    "version": 3
   },
   "file_extension": ".py",
   "mimetype": "text/x-python",
   "name": "python",
   "nbconvert_exporter": "python",
   "pygments_lexer": "ipython3",
   "version": "3.12.3"
  }
 },
 "nbformat": 4,
 "nbformat_minor": 5
}
