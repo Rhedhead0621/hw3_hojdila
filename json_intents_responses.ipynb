{
 "cells": [
  {
   "cell_type": "code",
   "execution_count": 18,
   "id": "6a9392dd-cdce-4010-a257-e154cbb79048",
   "metadata": {},
   "outputs": [],
   "source": [
    "import json\n",
    "\n",
    "patterns = [\n",
    "    {\n",
    "        \"pattern\": r\"hello\",\n",
    "        \"responses\": [\"Hello!\"],\n",
    "        \"context_set\": \"\"\n",
    "    },\n",
    "    {\n",
    "        \"pattern\": r\"hi\",\n",
    "        \"responses\": [\"Hello!\"],\n",
    "        \"context_set\": \"\"\n",
    "    },\n",
    "    {\n",
    "        \"pattern\": r\"good bye\",\n",
    "        \"responses\": [\"Good bye!\"],\n",
    "        \"context_set\": \"\"\n",
    "    },\n",
    "    {\n",
    "        \"pattern\": r\"quit\",\n",
    "        \"responses\": [\"Good bye!\"],\n",
    "        \"context_set\": \"\"\n",
    "    },\n",
    "    {\n",
    "        \"pattern\": r\".*\",\n",
    "        \"responses\": [\"Sorry! I don't understand\"],\n",
    "        \"context_set\": \"\"\n",
    "    }\n",
    "]\n",
    "\n",
    "# Write patterns to patterns.json\n",
    "with open('patterns.json', 'w') as file:\n",
    "    json.dump(patterns, file, indent=4)\n"
   ]
  },
  {
   "cell_type": "code",
   "execution_count": null,
   "id": "8adb3d13-39de-4756-8327-cc983c2aabee",
   "metadata": {},
   "outputs": [],
   "source": []
  }
 ],
 "metadata": {
  "kernelspec": {
   "display_name": "Python [conda env:aap]",
   "language": "python",
   "name": "conda-env-aap-py"
  },
  "language_info": {
   "codemirror_mode": {
    "name": "ipython",
    "version": 3
   },
   "file_extension": ".py",
   "mimetype": "text/x-python",
   "name": "python",
   "nbconvert_exporter": "python",
   "pygments_lexer": "ipython3",
   "version": "3.12.3"
  }
 },
 "nbformat": 4,
 "nbformat_minor": 5
}
